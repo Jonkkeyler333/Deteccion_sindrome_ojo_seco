{
  "cells": [
    {
      "cell_type": "markdown",
      "metadata": {
        "id": "8KB41TUjwAVa"
      },
      "source": [
        "# **Detección de síndrome del ojo seco empleando atributos del estilo de vida de la persona y variables medicas**"
      ]
    },
    {
      "cell_type": "markdown",
      "metadata": {
        "id": "6jZvpHVTwAVi"
      },
      "source": [
        "**Integrantes:**\n",
        "\n",
        "**Grupo E2:**\n",
        "\n",
        "*   2215636: Greyler Jose Chacon Chaparro\n",
        "*   2221551: Jonk Keyler Sanchez Pabon\n",
        "\n",
        "\n",
        "**Grupo E1:**\n",
        "*    2220085: Samuel David Traslaviña Mateus  \n",
        "\n",
        "\n",
        "\n",
        "\n"
      ]
    },
    {
      "cell_type": "markdown",
      "metadata": {},
      "source": [
        "## Introducción\n",
        "\n",
        "El síndrome o enfermedad del ojo seco , es una afección frecuente que afecta la pelicula lagrimal , esta es una capa líquida que recubre la córnea y la conjuntiva del ojo. \n",
        "\n",
        "![images.jpg](https://encrypted-tbn0.gstatic.com/images?q=tbn:ANd9GcQU4FnFQ-bCEpi2II7OeCB7wSPmnf6B-CAhuw&s)\n",
        "\n",
        "Sucede cuando no se tienen suficientes lágrimas , son inestables e inclusive se evaporan muy rapido , esto conlleva en inflamación y daño en la superficie ocular , recondando que las lágrimas mantienen la supercie del ojo húmeda , evitando la irritación , estabilizando la visión y protegiendo de infecciones y agentes externos (polvo,pequeñas particulas,etc).\n",
        "\n",
        "## Causas \n",
        "\n",
        "Las causas del síndrome del ojo seco pueden ser variadas , pero , engloban situaciones que alteran la película lagrimal sana , entre ellas se tienen :\n",
        "- Menor producción de lágrimas : No se tiene la capacidad de producir suficientes lágrimas por factores como envejecimiento , falta de vitamina A , ciertos medicamentos , lentes de contacto o cirugías previas en los ojos.\n",
        "\n",
        "- Evaporación rápida de las lágrimas : Puede ser causada por factores como el viento seco, el humo , el aire acondicionado , el uso de pantallas digitales por periodos prolongados , alergias que afectan el ojo , pestañear con menos frecuencia.\n",
        "\n",
        "## Objetivo \n",
        "\n",
        "La enfermedad puede tener diferentes factores de riesgos que pueden estar relacionados a los hábitos que tiene la persona , como tiempo de exposición a pantallas , actividad fisica , edad , antecedentes medicos ,entre otros , por lo cual , si se cuentan con registros de estos factores para diferentes pacientes con y sin la enfermedad , se puede lograr usar herramientas de IA para ayudar a prevenir la enfermedad o detectarla a tiempo.\n",
        "\n",
        "Este proyecto tiene como objetivo : \n",
        "\n",
        "**Desarrollar de un modelo de Machine Learning que permita predecir si una persona tiene o no el síndrome del ojo seco (Clasificación binaria)**, basado en:\n",
        "\n",
        "- Factores de riesgo relacionados con el estilo de vida:\n",
        "    Tiempo de exposición a pantallas.\n",
        "    Actividad física.\n",
        "    Hábitos de alimentación.\n",
        "    Consumo de alcohol y tabaco.\n",
        "\n",
        "- Variables médicas:\n",
        "    Edad.\n",
        "    Antecedentes de enfermedades.\n",
        "    Uso de lentes de contacto o cirugías previas.\n",
        "    Salud ocular en general."
      ]
    },
    {
      "cell_type": "markdown",
      "metadata": {},
      "source": [
        "## Descripción del dataset\n",
        "El dataset contiene información sobre los hábitos de sueño, actividad física y factores de salud de 20,000 sujetos, con el objetivo de analizar su relación con la enfermedad del ojo seco (_Dry Eye Disease_). Incluye variables demográficas como género y edad, métricas de salud como presión arterial y frecuencia cardíaca, y factores de estilo de vida como consumo de cafeína, alcohol y uso de dispositivos electrónicos antes de dormir. La variable a predecir es ```Dry Eye Disease```, que indica si un sujeto padece esta afección."
      ]
    },
    {
      "cell_type": "markdown",
      "metadata": {},
      "source": [
        "### Información General\n",
        "Nombre: Dry Eye Disease\n",
        "<br>Autor: dakshnagra\n",
        "<br>Disponible en: https://www.kaggle.com/datasets/dakshnagra/dry-eye-disease"
      ]
    },
    {
      "cell_type": "markdown",
      "metadata": {},
      "source": [
        "### Clasificación de las variables\n",
        "#### Por tipo de dato\n",
        "- Variables cualitativas nominales:\n",
        "<br> Gender / Sleep_disorder / Wake_up_during_night / Feel_sleepy_during_day / Caffeine_consumption / Alcohol_consumption / Smoking / Medical_issue / Ongoing_medication / Smart_device_before_bed / Blue-light_filter / Discomfort_Eye-strain / Redness_in_eye / Itchiness_Irritation_in_eye / Dry_Eye_Disease\n",
        "\n",
        "- Variables cuantitativas discretas:\n",
        "<br> Age / Heart_rate / Daily_steps / Sleep_quality / Stress_level\n",
        "\n",
        "- Variables cuantitativas continuas:\n",
        "<br> Sleep_duration / Blood_pressure / Physical_activity / Height / Weight / Average_screen_time\n",
        "\n",
        "#### Por temática\n",
        "- Variables demográficas:\n",
        "<br> Age / Gender\n",
        "\n",
        "- Variables biométricas / fisiológicas:\n",
        "<br> Height / Weight / Heart_rate / Blood_pressure\n",
        "\n",
        "- Variables de hábitos y estilo de vida:\n",
        "<br> Daily_steps / Physical_activity / Caffeine_consumption / Alcohol_consumption / Smoking / Smart_device_before_bed / Average_screen_time / Blue-light_filter\n",
        "\n",
        "- Variables relacionadas con el sueño:\n",
        "<br> Sleep_duration / Sleep_quality / Sleep_disorder / Wake_up_during_night / Feel_sleepy_during_day\n",
        "\n",
        "- Variables de salud general:\n",
        "<br> Stress_level / Medical_issue / Ongoing_medication\n",
        "\n",
        "- Variables relacionadas con la salud ocular:\n",
        "<br> Discomfort_Eye-strain / Redness_in_eye / Itchiness_Irritation_in_eye / Dry_Eye_Disease"
      ]
    },
    {
      "cell_type": "markdown",
      "metadata": {
        "id": "kRDArsc8wAVj"
      },
      "source": [
        "## Importar los paquetes necesarios"
      ]
    },
    {
      "cell_type": "code",
      "execution_count": 21,
      "metadata": {
        "id": "TmClpKdDwAVm"
      },
      "outputs": [],
      "source": [
        "import pandas as pd\n",
        "import numpy as np\n",
        "import matplotlib.pyplot as plt\n",
        "import seaborn as sns\n",
        "plt.style.use('ggplot')"
      ]
    },
    {
      "cell_type": "code",
      "execution_count": 2,
      "metadata": {
        "id": "6d3YhG1LwAVr"
      },
      "outputs": [],
      "source": [
        "sns.set_context('notebook')"
      ]
    },
    {
      "cell_type": "markdown",
      "metadata": {
        "id": "aVUF0IQLwAVt"
      },
      "source": [
        "## Carga de datos"
      ]
    },
    {
      "cell_type": "code",
      "execution_count": 3,
      "metadata": {
        "id": "Q4ZCdkLHwAVv"
      },
      "outputs": [],
      "source": [
        "url='https://drive.google.com/uc?export=download&id=1rsinyuJoJesd_UyrLaD0u-ECzJH4PHFA'"
      ]
    },
    {
      "cell_type": "code",
      "execution_count": 4,
      "metadata": {
        "colab": {
          "base_uri": "https://localhost:8080/",
          "height": 307
        },
        "id": "Jt-Xnsq8wAVx",
        "outputId": "fbb9c1fc-32ff-4b7e-f7d2-b4e9acb4e45c"
      },
      "outputs": [
        {
          "data": {
            "application/vnd.microsoft.datawrangler.viewer.v0+json": {
              "columns": [
                {
                  "name": "index",
                  "rawType": "int64",
                  "type": "integer"
                },
                {
                  "name": "Gender",
                  "rawType": "object",
                  "type": "string"
                },
                {
                  "name": "Age",
                  "rawType": "int64",
                  "type": "integer"
                },
                {
                  "name": "Sleep duration",
                  "rawType": "float64",
                  "type": "float"
                },
                {
                  "name": "Sleep quality",
                  "rawType": "int64",
                  "type": "integer"
                },
                {
                  "name": "Stress level",
                  "rawType": "int64",
                  "type": "integer"
                },
                {
                  "name": "Blood pressure",
                  "rawType": "object",
                  "type": "string"
                },
                {
                  "name": "Heart rate",
                  "rawType": "int64",
                  "type": "integer"
                },
                {
                  "name": "Daily steps",
                  "rawType": "int64",
                  "type": "integer"
                },
                {
                  "name": "Physical activity",
                  "rawType": "int64",
                  "type": "integer"
                },
                {
                  "name": "Height",
                  "rawType": "int64",
                  "type": "integer"
                },
                {
                  "name": "Weight",
                  "rawType": "int64",
                  "type": "integer"
                },
                {
                  "name": "Sleep disorder",
                  "rawType": "object",
                  "type": "string"
                },
                {
                  "name": "Wake up during night",
                  "rawType": "object",
                  "type": "string"
                },
                {
                  "name": "Feel sleepy during day",
                  "rawType": "object",
                  "type": "string"
                },
                {
                  "name": "Caffeine consumption",
                  "rawType": "object",
                  "type": "string"
                },
                {
                  "name": "Alcohol consumption",
                  "rawType": "object",
                  "type": "string"
                },
                {
                  "name": "Smoking",
                  "rawType": "object",
                  "type": "string"
                },
                {
                  "name": "Medical issue",
                  "rawType": "object",
                  "type": "string"
                },
                {
                  "name": "Ongoing medication",
                  "rawType": "object",
                  "type": "string"
                },
                {
                  "name": "Smart device before bed",
                  "rawType": "object",
                  "type": "string"
                },
                {
                  "name": "Average screen time",
                  "rawType": "float64",
                  "type": "float"
                },
                {
                  "name": "Blue-light filter",
                  "rawType": "object",
                  "type": "string"
                },
                {
                  "name": "Discomfort Eye-strain",
                  "rawType": "object",
                  "type": "string"
                },
                {
                  "name": "Redness in eye",
                  "rawType": "object",
                  "type": "string"
                },
                {
                  "name": "Itchiness/Irritation in eye",
                  "rawType": "object",
                  "type": "string"
                },
                {
                  "name": "Dry Eye Disease",
                  "rawType": "object",
                  "type": "string"
                }
              ],
              "conversionMethod": "pd.DataFrame",
              "ref": "0993f670-acfc-4a4e-942c-4642ff4b9e91",
              "rows": [
                [
                  "0",
                  "F",
                  "24",
                  "9.5",
                  "2",
                  "1",
                  "137/89",
                  "67",
                  "3000",
                  "31",
                  "161",
                  "69",
                  "Y",
                  "N",
                  "N",
                  "N",
                  "N",
                  "N",
                  "Y",
                  "Y",
                  "N",
                  "8.7",
                  "N",
                  "Y",
                  "Y",
                  "N",
                  "Y"
                ],
                [
                  "1",
                  "M",
                  "39",
                  "9.6",
                  "2",
                  "3",
                  "108/64",
                  "60",
                  "12000",
                  "74",
                  "164",
                  "87",
                  "N",
                  "N",
                  "N",
                  "N",
                  "Y",
                  "N",
                  "Y",
                  "Y",
                  "N",
                  "9.6",
                  "Y",
                  "N",
                  "N",
                  "Y",
                  "Y"
                ],
                [
                  "2",
                  "F",
                  "45",
                  "5.4",
                  "1",
                  "5",
                  "134/81",
                  "95",
                  "12000",
                  "93",
                  "179",
                  "94",
                  "Y",
                  "Y",
                  "N",
                  "Y",
                  "Y",
                  "N",
                  "N",
                  "N",
                  "Y",
                  "4.0",
                  "N",
                  "Y",
                  "N",
                  "N",
                  "N"
                ],
                [
                  "3",
                  "F",
                  "45",
                  "5.4",
                  "4",
                  "5",
                  "110/90",
                  "78",
                  "19000",
                  "32",
                  "160",
                  "77",
                  "N",
                  "N",
                  "N",
                  "Y",
                  "N",
                  "N",
                  "Y",
                  "N",
                  "N",
                  "7.6",
                  "N",
                  "Y",
                  "N",
                  "Y",
                  "N"
                ],
                [
                  "4",
                  "F",
                  "42",
                  "5.7",
                  "3",
                  "2",
                  "99/67",
                  "72",
                  "4000",
                  "173",
                  "179",
                  "99",
                  "N",
                  "Y",
                  "N",
                  "N",
                  "N",
                  "N",
                  "Y",
                  "N",
                  "N",
                  "3.5",
                  "N",
                  "Y",
                  "Y",
                  "N",
                  "Y"
                ]
              ],
              "shape": {
                "columns": 26,
                "rows": 5
              }
            },
            "text/html": [
              "<div>\n",
              "<style scoped>\n",
              "    .dataframe tbody tr th:only-of-type {\n",
              "        vertical-align: middle;\n",
              "    }\n",
              "\n",
              "    .dataframe tbody tr th {\n",
              "        vertical-align: top;\n",
              "    }\n",
              "\n",
              "    .dataframe thead th {\n",
              "        text-align: right;\n",
              "    }\n",
              "</style>\n",
              "<table border=\"1\" class=\"dataframe\">\n",
              "  <thead>\n",
              "    <tr style=\"text-align: right;\">\n",
              "      <th></th>\n",
              "      <th>Gender</th>\n",
              "      <th>Age</th>\n",
              "      <th>Sleep duration</th>\n",
              "      <th>Sleep quality</th>\n",
              "      <th>Stress level</th>\n",
              "      <th>Blood pressure</th>\n",
              "      <th>Heart rate</th>\n",
              "      <th>Daily steps</th>\n",
              "      <th>Physical activity</th>\n",
              "      <th>Height</th>\n",
              "      <th>...</th>\n",
              "      <th>Smoking</th>\n",
              "      <th>Medical issue</th>\n",
              "      <th>Ongoing medication</th>\n",
              "      <th>Smart device before bed</th>\n",
              "      <th>Average screen time</th>\n",
              "      <th>Blue-light filter</th>\n",
              "      <th>Discomfort Eye-strain</th>\n",
              "      <th>Redness in eye</th>\n",
              "      <th>Itchiness/Irritation in eye</th>\n",
              "      <th>Dry Eye Disease</th>\n",
              "    </tr>\n",
              "  </thead>\n",
              "  <tbody>\n",
              "    <tr>\n",
              "      <th>0</th>\n",
              "      <td>F</td>\n",
              "      <td>24</td>\n",
              "      <td>9.5</td>\n",
              "      <td>2</td>\n",
              "      <td>1</td>\n",
              "      <td>137/89</td>\n",
              "      <td>67</td>\n",
              "      <td>3000</td>\n",
              "      <td>31</td>\n",
              "      <td>161</td>\n",
              "      <td>...</td>\n",
              "      <td>N</td>\n",
              "      <td>Y</td>\n",
              "      <td>Y</td>\n",
              "      <td>N</td>\n",
              "      <td>8.7</td>\n",
              "      <td>N</td>\n",
              "      <td>Y</td>\n",
              "      <td>Y</td>\n",
              "      <td>N</td>\n",
              "      <td>Y</td>\n",
              "    </tr>\n",
              "    <tr>\n",
              "      <th>1</th>\n",
              "      <td>M</td>\n",
              "      <td>39</td>\n",
              "      <td>9.6</td>\n",
              "      <td>2</td>\n",
              "      <td>3</td>\n",
              "      <td>108/64</td>\n",
              "      <td>60</td>\n",
              "      <td>12000</td>\n",
              "      <td>74</td>\n",
              "      <td>164</td>\n",
              "      <td>...</td>\n",
              "      <td>N</td>\n",
              "      <td>Y</td>\n",
              "      <td>Y</td>\n",
              "      <td>N</td>\n",
              "      <td>9.6</td>\n",
              "      <td>Y</td>\n",
              "      <td>N</td>\n",
              "      <td>N</td>\n",
              "      <td>Y</td>\n",
              "      <td>Y</td>\n",
              "    </tr>\n",
              "    <tr>\n",
              "      <th>2</th>\n",
              "      <td>F</td>\n",
              "      <td>45</td>\n",
              "      <td>5.4</td>\n",
              "      <td>1</td>\n",
              "      <td>5</td>\n",
              "      <td>134/81</td>\n",
              "      <td>95</td>\n",
              "      <td>12000</td>\n",
              "      <td>93</td>\n",
              "      <td>179</td>\n",
              "      <td>...</td>\n",
              "      <td>N</td>\n",
              "      <td>N</td>\n",
              "      <td>N</td>\n",
              "      <td>Y</td>\n",
              "      <td>4.0</td>\n",
              "      <td>N</td>\n",
              "      <td>Y</td>\n",
              "      <td>N</td>\n",
              "      <td>N</td>\n",
              "      <td>N</td>\n",
              "    </tr>\n",
              "    <tr>\n",
              "      <th>3</th>\n",
              "      <td>F</td>\n",
              "      <td>45</td>\n",
              "      <td>5.4</td>\n",
              "      <td>4</td>\n",
              "      <td>5</td>\n",
              "      <td>110/90</td>\n",
              "      <td>78</td>\n",
              "      <td>19000</td>\n",
              "      <td>32</td>\n",
              "      <td>160</td>\n",
              "      <td>...</td>\n",
              "      <td>N</td>\n",
              "      <td>Y</td>\n",
              "      <td>N</td>\n",
              "      <td>N</td>\n",
              "      <td>7.6</td>\n",
              "      <td>N</td>\n",
              "      <td>Y</td>\n",
              "      <td>N</td>\n",
              "      <td>Y</td>\n",
              "      <td>N</td>\n",
              "    </tr>\n",
              "    <tr>\n",
              "      <th>4</th>\n",
              "      <td>F</td>\n",
              "      <td>42</td>\n",
              "      <td>5.7</td>\n",
              "      <td>3</td>\n",
              "      <td>2</td>\n",
              "      <td>99/67</td>\n",
              "      <td>72</td>\n",
              "      <td>4000</td>\n",
              "      <td>173</td>\n",
              "      <td>179</td>\n",
              "      <td>...</td>\n",
              "      <td>N</td>\n",
              "      <td>Y</td>\n",
              "      <td>N</td>\n",
              "      <td>N</td>\n",
              "      <td>3.5</td>\n",
              "      <td>N</td>\n",
              "      <td>Y</td>\n",
              "      <td>Y</td>\n",
              "      <td>N</td>\n",
              "      <td>Y</td>\n",
              "    </tr>\n",
              "  </tbody>\n",
              "</table>\n",
              "<p>5 rows × 26 columns</p>\n",
              "</div>"
            ],
            "text/plain": [
              "  Gender  Age  Sleep duration  Sleep quality  Stress level Blood pressure  \\\n",
              "0      F   24             9.5              2             1         137/89   \n",
              "1      M   39             9.6              2             3         108/64   \n",
              "2      F   45             5.4              1             5         134/81   \n",
              "3      F   45             5.4              4             5         110/90   \n",
              "4      F   42             5.7              3             2          99/67   \n",
              "\n",
              "   Heart rate  Daily steps  Physical activity  Height  ...  Smoking  \\\n",
              "0          67         3000                 31     161  ...        N   \n",
              "1          60        12000                 74     164  ...        N   \n",
              "2          95        12000                 93     179  ...        N   \n",
              "3          78        19000                 32     160  ...        N   \n",
              "4          72         4000                173     179  ...        N   \n",
              "\n",
              "  Medical issue Ongoing medication Smart device before bed  \\\n",
              "0             Y                  Y                       N   \n",
              "1             Y                  Y                       N   \n",
              "2             N                  N                       Y   \n",
              "3             Y                  N                       N   \n",
              "4             Y                  N                       N   \n",
              "\n",
              "  Average screen time Blue-light filter Discomfort Eye-strain Redness in eye  \\\n",
              "0                 8.7                 N                     Y              Y   \n",
              "1                 9.6                 Y                     N              N   \n",
              "2                 4.0                 N                     Y              N   \n",
              "3                 7.6                 N                     Y              N   \n",
              "4                 3.5                 N                     Y              Y   \n",
              "\n",
              "  Itchiness/Irritation in eye Dry Eye Disease  \n",
              "0                           N               Y  \n",
              "1                           Y               Y  \n",
              "2                           N               N  \n",
              "3                           Y               N  \n",
              "4                           N               Y  \n",
              "\n",
              "[5 rows x 26 columns]"
            ]
          },
          "execution_count": 4,
          "metadata": {},
          "output_type": "execute_result"
        }
      ],
      "source": [
        "df=pd.read_csv(url)\n",
        "df.head()"
      ]
    },
    {
      "cell_type": "markdown",
      "metadata": {
        "id": "lUj1vlGhwAV1"
      },
      "source": [
        "## EDA"
      ]
    },
    {
      "cell_type": "markdown",
      "metadata": {
        "id": "W_5-suCTwAV3"
      },
      "source": [
        "El dataset cuenta con 20000 registros y 26 *features* o columnas"
      ]
    },
    {
      "cell_type": "code",
      "execution_count": 5,
      "metadata": {
        "colab": {
          "base_uri": "https://localhost:8080/"
        },
        "id": "J3gYCapLwAV5",
        "outputId": "994d9235-dc48-46ff-e505-73041bdac64c"
      },
      "outputs": [
        {
          "name": "stdout",
          "output_type": "stream",
          "text": [
            "<class 'pandas.core.frame.DataFrame'>\n",
            "RangeIndex: 20000 entries, 0 to 19999\n",
            "Data columns (total 26 columns):\n",
            " #   Column                       Non-Null Count  Dtype  \n",
            "---  ------                       --------------  -----  \n",
            " 0   Gender                       20000 non-null  object \n",
            " 1   Age                          20000 non-null  int64  \n",
            " 2   Sleep duration               20000 non-null  float64\n",
            " 3   Sleep quality                20000 non-null  int64  \n",
            " 4   Stress level                 20000 non-null  int64  \n",
            " 5   Blood pressure               20000 non-null  object \n",
            " 6   Heart rate                   20000 non-null  int64  \n",
            " 7   Daily steps                  20000 non-null  int64  \n",
            " 8   Physical activity            20000 non-null  int64  \n",
            " 9   Height                       20000 non-null  int64  \n",
            " 10  Weight                       20000 non-null  int64  \n",
            " 11  Sleep disorder               20000 non-null  object \n",
            " 12  Wake up during night         20000 non-null  object \n",
            " 13  Feel sleepy during day       20000 non-null  object \n",
            " 14  Caffeine consumption         20000 non-null  object \n",
            " 15  Alcohol consumption          20000 non-null  object \n",
            " 16  Smoking                      20000 non-null  object \n",
            " 17  Medical issue                20000 non-null  object \n",
            " 18  Ongoing medication           20000 non-null  object \n",
            " 19  Smart device before bed      20000 non-null  object \n",
            " 20  Average screen time          20000 non-null  float64\n",
            " 21  Blue-light filter            20000 non-null  object \n",
            " 22  Discomfort Eye-strain        20000 non-null  object \n",
            " 23  Redness in eye               20000 non-null  object \n",
            " 24  Itchiness/Irritation in eye  20000 non-null  object \n",
            " 25  Dry Eye Disease              20000 non-null  object \n",
            "dtypes: float64(2), int64(8), object(16)\n",
            "memory usage: 4.0+ MB\n"
          ]
        }
      ],
      "source": [
        "df.info()"
      ]
    },
    {
      "cell_type": "markdown",
      "metadata": {
        "id": "20kpUxYjwAV8"
      },
      "source": [
        "La tarea principal que se desea llevar acabo es la detección de síndrome del ojo , por lo cual , la *feature* ```Dry Eye Disease```"
      ]
    },
    {
      "cell_type": "markdown",
      "metadata": {
        "id": "4PjZxdoqwAWB"
      },
      "source": [
        "### Valores Faltantes"
      ]
    },
    {
      "cell_type": "code",
      "execution_count": 6,
      "metadata": {
        "colab": {
          "base_uri": "https://localhost:8080/"
        },
        "id": "4iRW79TGwAXm",
        "outputId": "ec311917-f96f-432e-dc03-165b5ff13208"
      },
      "outputs": [
        {
          "name": "stdout",
          "output_type": "stream",
          "text": [
            "Missing Values\n",
            "Gender                         0\n",
            "Age                            0\n",
            "Itchiness/Irritation in eye    0\n",
            "Redness in eye                 0\n",
            "Discomfort Eye-strain          0\n",
            "Blue-light filter              0\n",
            "Average screen time            0\n",
            "Smart device before bed        0\n",
            "Ongoing medication             0\n",
            "Medical issue                  0\n",
            "Smoking                        0\n",
            "Alcohol consumption            0\n",
            "Caffeine consumption           0\n",
            "Feel sleepy during day         0\n",
            "Wake up during night           0\n",
            "Sleep disorder                 0\n",
            "Weight                         0\n",
            "Height                         0\n",
            "Physical activity              0\n",
            "Daily steps                    0\n",
            "dtype: int64\n"
          ]
        }
      ],
      "source": [
        "print('Missing Values',df.isna().sum().sort_values(ascending=False)[:20],sep='\\n')"
      ]
    },
    {
      "cell_type": "markdown",
      "metadata": {
        "id": "HlNa3xqjwAXn"
      },
      "source": [
        "No existen valores faltantes en el dataset"
      ]
    },
    {
      "cell_type": "markdown",
      "metadata": {
        "id": "oDUGbg3YwAXn"
      },
      "source": [
        "### Estadisticas Descriptivas"
      ]
    },
    {
      "cell_type": "code",
      "execution_count": 7,
      "metadata": {
        "colab": {
          "base_uri": "https://localhost:8080/",
          "height": 337
        },
        "id": "1PN9MSuJwAXn",
        "outputId": "1678559e-1830-487b-f92e-5a9307163781"
      },
      "outputs": [
        {
          "data": {
            "application/vnd.microsoft.datawrangler.viewer.v0+json": {
              "columns": [
                {
                  "name": "index",
                  "rawType": "object",
                  "type": "string"
                },
                {
                  "name": "Age",
                  "rawType": "float64",
                  "type": "float"
                },
                {
                  "name": "Sleep duration",
                  "rawType": "float64",
                  "type": "float"
                },
                {
                  "name": "Sleep quality",
                  "rawType": "float64",
                  "type": "float"
                },
                {
                  "name": "Stress level",
                  "rawType": "float64",
                  "type": "float"
                },
                {
                  "name": "Heart rate",
                  "rawType": "float64",
                  "type": "float"
                },
                {
                  "name": "Daily steps",
                  "rawType": "float64",
                  "type": "float"
                },
                {
                  "name": "Physical activity",
                  "rawType": "float64",
                  "type": "float"
                },
                {
                  "name": "Height",
                  "rawType": "float64",
                  "type": "float"
                },
                {
                  "name": "Weight",
                  "rawType": "float64",
                  "type": "float"
                },
                {
                  "name": "Average screen time",
                  "rawType": "float64",
                  "type": "float"
                }
              ],
              "conversionMethod": "pd.DataFrame",
              "ref": "ae5508a5-4f98-4e3b-84b0-d12d003ea82e",
              "rows": [
                [
                  "count",
                  "20000.0",
                  "20000.0",
                  "20000.0",
                  "20000.0",
                  "20000.0",
                  "20000.0",
                  "20000.0",
                  "20000.0",
                  "20000.0",
                  "20000.0"
                ],
                [
                  "mean",
                  "31.4228",
                  "6.998245",
                  "2.99725",
                  "2.99375",
                  "79.9122",
                  "10536.9",
                  "90.06975",
                  "174.8659",
                  "74.89185",
                  "5.519885"
                ],
                [
                  "std",
                  "8.103716657878875",
                  "1.7317232351744787",
                  "1.4122826079111186",
                  "1.4072348606389944",
                  "11.808279423063576",
                  "5752.729185756465",
                  "52.317283375998144",
                  "14.71990322548176",
                  "14.73383887104423",
                  "2.606305378915028"
                ],
                [
                  "min",
                  "18.0",
                  "4.0",
                  "1.0",
                  "1.0",
                  "60.0",
                  "1000.0",
                  "0.0",
                  "150.0",
                  "50.0",
                  "1.0"
                ],
                [
                  "25%",
                  "24.0",
                  "5.5",
                  "2.0",
                  "2.0",
                  "70.0",
                  "6000.0",
                  "45.0",
                  "162.0",
                  "62.0",
                  "3.3"
                ],
                [
                  "50%",
                  "31.0",
                  "7.0",
                  "3.0",
                  "3.0",
                  "80.0",
                  "11000.0",
                  "91.0",
                  "175.0",
                  "75.0",
                  "5.5"
                ],
                [
                  "75%",
                  "39.0",
                  "8.5",
                  "4.0",
                  "4.0",
                  "90.0",
                  "16000.0",
                  "135.0",
                  "188.0",
                  "88.0",
                  "7.8"
                ],
                [
                  "max",
                  "45.0",
                  "10.0",
                  "5.0",
                  "5.0",
                  "100.0",
                  "20000.0",
                  "180.0",
                  "200.0",
                  "100.0",
                  "10.0"
                ]
              ],
              "shape": {
                "columns": 10,
                "rows": 8
              }
            },
            "text/html": [
              "<div>\n",
              "<style scoped>\n",
              "    .dataframe tbody tr th:only-of-type {\n",
              "        vertical-align: middle;\n",
              "    }\n",
              "\n",
              "    .dataframe tbody tr th {\n",
              "        vertical-align: top;\n",
              "    }\n",
              "\n",
              "    .dataframe thead th {\n",
              "        text-align: right;\n",
              "    }\n",
              "</style>\n",
              "<table border=\"1\" class=\"dataframe\">\n",
              "  <thead>\n",
              "    <tr style=\"text-align: right;\">\n",
              "      <th></th>\n",
              "      <th>Age</th>\n",
              "      <th>Sleep duration</th>\n",
              "      <th>Sleep quality</th>\n",
              "      <th>Stress level</th>\n",
              "      <th>Heart rate</th>\n",
              "      <th>Daily steps</th>\n",
              "      <th>Physical activity</th>\n",
              "      <th>Height</th>\n",
              "      <th>Weight</th>\n",
              "      <th>Average screen time</th>\n",
              "    </tr>\n",
              "  </thead>\n",
              "  <tbody>\n",
              "    <tr>\n",
              "      <th>count</th>\n",
              "      <td>20000.000000</td>\n",
              "      <td>20000.000000</td>\n",
              "      <td>20000.000000</td>\n",
              "      <td>20000.000000</td>\n",
              "      <td>20000.000000</td>\n",
              "      <td>20000.000000</td>\n",
              "      <td>20000.000000</td>\n",
              "      <td>20000.000000</td>\n",
              "      <td>20000.000000</td>\n",
              "      <td>20000.000000</td>\n",
              "    </tr>\n",
              "    <tr>\n",
              "      <th>mean</th>\n",
              "      <td>31.422800</td>\n",
              "      <td>6.998245</td>\n",
              "      <td>2.997250</td>\n",
              "      <td>2.993750</td>\n",
              "      <td>79.912200</td>\n",
              "      <td>10536.900000</td>\n",
              "      <td>90.069750</td>\n",
              "      <td>174.865900</td>\n",
              "      <td>74.891850</td>\n",
              "      <td>5.519885</td>\n",
              "    </tr>\n",
              "    <tr>\n",
              "      <th>std</th>\n",
              "      <td>8.103717</td>\n",
              "      <td>1.731723</td>\n",
              "      <td>1.412283</td>\n",
              "      <td>1.407235</td>\n",
              "      <td>11.808279</td>\n",
              "      <td>5752.729186</td>\n",
              "      <td>52.317283</td>\n",
              "      <td>14.719903</td>\n",
              "      <td>14.733839</td>\n",
              "      <td>2.606305</td>\n",
              "    </tr>\n",
              "    <tr>\n",
              "      <th>min</th>\n",
              "      <td>18.000000</td>\n",
              "      <td>4.000000</td>\n",
              "      <td>1.000000</td>\n",
              "      <td>1.000000</td>\n",
              "      <td>60.000000</td>\n",
              "      <td>1000.000000</td>\n",
              "      <td>0.000000</td>\n",
              "      <td>150.000000</td>\n",
              "      <td>50.000000</td>\n",
              "      <td>1.000000</td>\n",
              "    </tr>\n",
              "    <tr>\n",
              "      <th>25%</th>\n",
              "      <td>24.000000</td>\n",
              "      <td>5.500000</td>\n",
              "      <td>2.000000</td>\n",
              "      <td>2.000000</td>\n",
              "      <td>70.000000</td>\n",
              "      <td>6000.000000</td>\n",
              "      <td>45.000000</td>\n",
              "      <td>162.000000</td>\n",
              "      <td>62.000000</td>\n",
              "      <td>3.300000</td>\n",
              "    </tr>\n",
              "    <tr>\n",
              "      <th>50%</th>\n",
              "      <td>31.000000</td>\n",
              "      <td>7.000000</td>\n",
              "      <td>3.000000</td>\n",
              "      <td>3.000000</td>\n",
              "      <td>80.000000</td>\n",
              "      <td>11000.000000</td>\n",
              "      <td>91.000000</td>\n",
              "      <td>175.000000</td>\n",
              "      <td>75.000000</td>\n",
              "      <td>5.500000</td>\n",
              "    </tr>\n",
              "    <tr>\n",
              "      <th>75%</th>\n",
              "      <td>39.000000</td>\n",
              "      <td>8.500000</td>\n",
              "      <td>4.000000</td>\n",
              "      <td>4.000000</td>\n",
              "      <td>90.000000</td>\n",
              "      <td>16000.000000</td>\n",
              "      <td>135.000000</td>\n",
              "      <td>188.000000</td>\n",
              "      <td>88.000000</td>\n",
              "      <td>7.800000</td>\n",
              "    </tr>\n",
              "    <tr>\n",
              "      <th>max</th>\n",
              "      <td>45.000000</td>\n",
              "      <td>10.000000</td>\n",
              "      <td>5.000000</td>\n",
              "      <td>5.000000</td>\n",
              "      <td>100.000000</td>\n",
              "      <td>20000.000000</td>\n",
              "      <td>180.000000</td>\n",
              "      <td>200.000000</td>\n",
              "      <td>100.000000</td>\n",
              "      <td>10.000000</td>\n",
              "    </tr>\n",
              "  </tbody>\n",
              "</table>\n",
              "</div>"
            ],
            "text/plain": [
              "                Age  Sleep duration  Sleep quality  Stress level  \\\n",
              "count  20000.000000    20000.000000   20000.000000  20000.000000   \n",
              "mean      31.422800        6.998245       2.997250      2.993750   \n",
              "std        8.103717        1.731723       1.412283      1.407235   \n",
              "min       18.000000        4.000000       1.000000      1.000000   \n",
              "25%       24.000000        5.500000       2.000000      2.000000   \n",
              "50%       31.000000        7.000000       3.000000      3.000000   \n",
              "75%       39.000000        8.500000       4.000000      4.000000   \n",
              "max       45.000000       10.000000       5.000000      5.000000   \n",
              "\n",
              "         Heart rate   Daily steps  Physical activity        Height  \\\n",
              "count  20000.000000  20000.000000       20000.000000  20000.000000   \n",
              "mean      79.912200  10536.900000          90.069750    174.865900   \n",
              "std       11.808279   5752.729186          52.317283     14.719903   \n",
              "min       60.000000   1000.000000           0.000000    150.000000   \n",
              "25%       70.000000   6000.000000          45.000000    162.000000   \n",
              "50%       80.000000  11000.000000          91.000000    175.000000   \n",
              "75%       90.000000  16000.000000         135.000000    188.000000   \n",
              "max      100.000000  20000.000000         180.000000    200.000000   \n",
              "\n",
              "             Weight  Average screen time  \n",
              "count  20000.000000         20000.000000  \n",
              "mean      74.891850             5.519885  \n",
              "std       14.733839             2.606305  \n",
              "min       50.000000             1.000000  \n",
              "25%       62.000000             3.300000  \n",
              "50%       75.000000             5.500000  \n",
              "75%       88.000000             7.800000  \n",
              "max      100.000000            10.000000  "
            ]
          },
          "execution_count": 7,
          "metadata": {},
          "output_type": "execute_result"
        }
      ],
      "source": [
        "df.describe()"
      ]
    },
    {
      "cell_type": "code",
      "execution_count": 8,
      "metadata": {
        "id": "JGEb6uwCwAXo"
      },
      "outputs": [],
      "source": [
        "categorical_features=df.select_dtypes(include='object').columns\n",
        "numerical_features=df.select_dtypes(include='number').columns"
      ]
    },
    {
      "cell_type": "code",
      "execution_count": 9,
      "metadata": {
        "colab": {
          "base_uri": "https://localhost:8080/"
        },
        "id": "pVuBA8fwwAXo",
        "outputId": "9fd21880-45b6-4926-ff27-3355b73b996f"
      },
      "outputs": [
        {
          "data": {
            "text/plain": [
              "(16,)"
            ]
          },
          "execution_count": 9,
          "metadata": {},
          "output_type": "execute_result"
        }
      ],
      "source": [
        "categorical_features.shape"
      ]
    },
    {
      "cell_type": "code",
      "execution_count": 10,
      "metadata": {
        "colab": {
          "base_uri": "https://localhost:8080/"
        },
        "id": "grlBclNpwAXp",
        "outputId": "819a6f99-3076-420b-ce84-9787367536e3"
      },
      "outputs": [
        {
          "data": {
            "text/plain": [
              "(10,)"
            ]
          },
          "execution_count": 10,
          "metadata": {},
          "output_type": "execute_result"
        }
      ],
      "source": [
        "numerical_features.shape"
      ]
    },
    {
      "cell_type": "markdown",
      "metadata": {},
      "source": [
        "Se cuentan con 16 variables categoricas y 10 variables numericas."
      ]
    },
    {
      "cell_type": "markdown",
      "metadata": {
        "id": "lRBMMHUXW_Kb"
      },
      "source": [
        "Histograma que permite visualizar la distribución de las edades de los pacientes en la muestra."
      ]
    },
    {
      "cell_type": "code",
      "execution_count": null,
      "metadata": {
        "colab": {
          "base_uri": "https://localhost:8080/",
          "height": 481
        },
        "id": "1B8zJixzwAXp",
        "outputId": "1bd37822-de54-4692-9546-959ea7e072d4"
      },
      "outputs": [],
      "source": [
        "sns.histplot(df['Age'],color=\"royalblue\")\n",
        "plt.title('Distribución de la edad en los pacientes')\n",
        "plt.show()"
      ]
    },
    {
      "cell_type": "markdown",
      "metadata": {
        "id": "oqFAzZzbXXcP"
      },
      "source": [
        "Gráfico de caja que permite analizar la distribución de la altura de los pacientes en la muestra"
      ]
    },
    {
      "cell_type": "code",
      "execution_count": 13,
      "metadata": {
        "colab": {
          "base_uri": "https://localhost:8080/",
          "height": 437
        },
        "id": "15oBVF2HwAXq",
        "outputId": "834e4ada-833c-4cd2-9093-03e5b0b3a38d"
      },
      "outputs": [
        {
          "data": {
            "image/png": "[encoded data removed]",
            "text/plain": [
              "<Figure size 640x480 with 1 Axes>"
            ]
          },
          "metadata": {},
          "output_type": "display_data"
        }
      ],
      "source": [
        "sns.boxplot(data=df,y='Height')\n",
        "plt.title('Distribución de la altura en los pacientes')\n",
        "plt.show()"
      ]
    },
    {
      "cell_type": "markdown",
      "metadata": {
        "id": "Z__gIqz2XlwQ"
      },
      "source": [
        "Gráfico de torta que muestra la distribución de los niveles de calidad del sueño en la muestra de pacientes"
      ]
    },
    {
      "cell_type": "code",
      "execution_count": 14,
      "metadata": {
        "colab": {
          "base_uri": "https://localhost:8080/",
          "height": 428
        },
        "id": "B3LzvCoewAXq",
        "outputId": "7f72e503-6b4f-418d-995d-4b8700001ca1"
      },
      "outputs": [
        {
          "data": {
            "image/png": "[encoded data removed]",
            "text/plain": [
              "<Figure size 640x480 with 1 Axes>"
            ]
          },
          "metadata": {},
          "output_type": "display_data"
        }
      ],
      "source": [
        "sleep=df['Sleep quality'].value_counts()\n",
        "plt.pie(sleep.values,labels=sleep.index,autopct='%1.2f%%')\n",
        "plt.title('Distibución de los niveles de calidad del sueño')\n",
        "plt.show()"
      ]
    },
    {
      "cell_type": "markdown",
      "metadata": {
        "id": "V85IxErEWzBT"
      },
      "source": [
        "Histograma para visualizar la distribución de la duración del sueño en los pacientes"
      ]
    },
    {
      "cell_type": "code",
      "execution_count": 15,
      "metadata": {
        "colab": {
          "base_uri": "https://localhost:8080/",
          "height": 481
        },
        "id": "wNzGkf80wAXs",
        "outputId": "58bca59f-e134-4d44-f0a1-cc04a07d2a7b"
      },
      "outputs": [
        {
          "data": {
            "image/png": "[encoded data removed]",
            "text/plain": [
              "<Figure size 640x480 with 1 Axes>"
            ]
          },
          "metadata": {},
          "output_type": "display_data"
        }
      ],
      "source": [
        "sns.histplot(data=df,x='Sleep duration',color=\"royalblue\")\n",
        "plt.title('Duración promedio del sueño en horas')\n",
        "plt.show()"
      ]
    },
    {
      "cell_type": "markdown",
      "metadata": {
        "id": "ndTtkrHOWonY"
      },
      "source": [
        "Gráfico de tortas para visualizar la proporción de pacientes según su género en el dataset"
      ]
    },
    {
      "cell_type": "code",
      "execution_count": 16,
      "metadata": {
        "colab": {
          "base_uri": "https://localhost:8080/",
          "height": 429
        },
        "id": "zIvRMKLdwAXt",
        "outputId": "d8129c13-d2ea-4975-cfcc-80a896c76716"
      },
      "outputs": [
        {
          "data": {
            "image/png": "[encoded data removed]",
            "text/plain": [
              "<Figure size 640x480 with 1 Axes>"
            ]
          },
          "metadata": {},
          "output_type": "display_data"
        }
      ],
      "source": [
        "val_per_gender=df['Gender'].value_counts()\n",
        "plt.pie(val_per_gender.values,labels=val_per_gender.index,autopct='%1.2f%%',colors=[\"#4450ec\",\"#e74fea\"])\n",
        "plt.title('Distribución de género en los pacientes')\n",
        "plt.show()"
      ]
    },
    {
      "cell_type": "markdown",
      "metadata": {
        "id": "v_2aiQ01Rwuq"
      },
      "source": [
        "Histograma que revela la distribución del número de pasos diarios en los pacientes, permitiendo identificar tendencias generales en su actividad física"
      ]
    },
    {
      "cell_type": "code",
      "execution_count": 17,
      "metadata": {
        "colab": {
          "base_uri": "https://localhost:8080/",
          "height": 481
        },
        "id": "gRGPLcw1wAXu",
        "outputId": "1965a542-3502-4b58-92c0-d3851a79d2d0"
      },
      "outputs": [
        {
          "data": {
            "image/png": "[encoded data removed]",
            "text/plain": [
              "<Figure size 640x480 with 1 Axes>"
            ]
          },
          "metadata": {},
          "output_type": "display_data"
        }
      ],
      "source": [
        "sns.histplot(df['Daily steps'],bins=20,color=\"green\")\n",
        "plt.title('Distribución de los pasos diarios')\n",
        "plt.show()"
      ]
    },
    {
      "cell_type": "markdown",
      "metadata": {
        "id": "A8zrrNckReWT"
      },
      "source": [
        "Este grafico de caja sirve para analizar la distribución del tiempo promedio de exposición a pantallas en las personas"
      ]
    },
    {
      "cell_type": "code",
      "execution_count": 18,
      "metadata": {
        "colab": {
          "base_uri": "https://localhost:8080/",
          "height": 437
        },
        "id": "9_JNQ9wpwAXv",
        "outputId": "b3ba3c84-c526-4500-ec91-cde46aa6c1f2"
      },
      "outputs": [
        {
          "data": {
            "image/png": "[encoded data removed]",
            "text/plain": [
              "<Figure size 640x480 with 1 Axes>"
            ]
          },
          "metadata": {},
          "output_type": "display_data"
        }
      ],
      "source": [
        "sns.boxplot(data=df,y='Average screen time',color='grey')\n",
        "plt.title('Tiempo promedio de exposición a pantallas')\n",
        "plt.show()"
      ]
    },
    {
      "cell_type": "markdown",
      "metadata": {
        "id": "3moEjiaGWc14"
      },
      "source": [
        "Gráfico de caja  para visualizar la distribución de la frecuencia cardíaca en la población."
      ]
    },
    {
      "cell_type": "code",
      "execution_count": 19,
      "metadata": {
        "colab": {
          "base_uri": "https://localhost:8080/",
          "height": 437
        },
        "id": "FVqIm84twAXw",
        "outputId": "b7e712f7-97fa-4c1b-a794-fe6ba71fc529"
      },
      "outputs": [
        {
          "data": {
            "image/png": "[encoded data removed]",
            "text/plain": [
              "<Figure size 640x480 with 1 Axes>"
            ]
          },
          "metadata": {},
          "output_type": "display_data"
        }
      ],
      "source": [
        "sns.boxplot(data=df,y='Heart rate',color=\"red\")\n",
        "plt.title('Frecuencia cardíaca promedio')\n",
        "plt.show()"
      ]
    },
    {
      "cell_type": "markdown",
      "metadata": {
        "id": "wJoDubS_QdEO"
      },
      "source": [
        "Este gráfico de torta permite identificar la distribución porcentual de los niveles de estrés entre las personas."
      ]
    },
    {
      "cell_type": "code",
      "execution_count": 20,
      "metadata": {
        "colab": {
          "base_uri": "https://localhost:8080/",
          "height": 429
        },
        "id": "3FHSEzsGwAXx",
        "outputId": "94f47627-dcc0-4fac-a279-6c9b8069413d"
      },
      "outputs": [
        {
          "data": {
            "image/png": "[encoded data removed]",
            "text/plain": [
              "<Figure size 640x480 with 1 Axes>"
            ]
          },
          "metadata": {},
          "output_type": "display_data"
        }
      ],
      "source": [
        "stress=df['Stress level'].value_counts()\n",
        "plt.pie(stress.values,labels=stress.index,autopct='%1.2f%%',colors=['#cfeb51','green','#4798ff','#ff33fc','#e88341'])\n",
        "plt.title('Niveles de estrés en los pacientes')\n",
        "plt.show()"
      ]
    },
    {
      "cell_type": "code",
      "execution_count": null,
      "metadata": {
        "colab": {
          "base_uri": "https://localhost:8080/",
          "height": 1000
        },
        "id": "xtvdDcaXwAXy",
        "outputId": "cf19e23a-59d6-42e4-916a-1cfb35f0a895"
      },
      "outputs": [],
      "source": [
        "for elem in categorical_features:\n",
        "    if elem!='Gender' and elem!='Blood pressure':\n",
        "        sns.countplot(data=df,x=elem,hue=elem,legend=False,palette='bright')\n",
        "        plt.title(f'Distribución de {elem}')\n",
        "        plt.show()"
      ]
    },
    {
      "cell_type": "markdown",
      "metadata": {
        "id": "0HD0YyuKQAqH"
      },
      "source": [
        "Este gráfico tiene como finalidad explorar la relación entre la edad y la cantidad de pasos diarios en pacientes con y sin Enfermedad del Ojo Seco (Dry Eye Disease, DED)"
      ]
    },
    {
      "cell_type": "code",
      "execution_count": null,
      "metadata": {
        "colab": {
          "base_uri": "https://localhost:8080/",
          "height": 523
        },
        "id": "6Ql2ZvfLwAXz",
        "outputId": "cfd53832-e026-4c1c-b455-4acd0f4016a5"
      },
      "outputs": [],
      "source": [
        "steps_log=np.log1p(df['Daily steps'])\n",
        "sns.relplot(x='Age',y=steps_log,data=df,hue='Dry Eye Disease',palette='viridis')\n",
        "plt.title('Age vs Daily Steps')\n",
        "plt.show()"
      ]
    },
    {
      "cell_type": "markdown",
      "metadata": {
        "id": "XWT3-WHTPo4r"
      },
      "source": [
        "El gráfico de cajas proporciona información sobre cómo varía el tiempo promedio de exposición a pantallas en pacientes con y sin DED, considerando además la presencia de trastornos del sueño."
      ]
    },
    {
      "cell_type": "code",
      "execution_count": null,
      "metadata": {
        "colab": {
          "base_uri": "https://localhost:8080/",
          "height": 500
        },
        "id": "Pj_R0f-iwAX0",
        "outputId": "cafda799-96d5-45ed-e3ee-f289dfee5424"
      },
      "outputs": [],
      "source": [
        "sns.catplot(data=df,y='Average screen time',x='Dry Eye Disease',hue='Dry Eye Disease',col='Sleep disorder',kind='box')\n",
        "plt.show()"
      ]
    },
    {
      "cell_type": "markdown",
      "metadata": {
        "id": "KxMBksw_PR60"
      },
      "source": [
        "Para evaluar la posible relación entre el uso de dispositivos inteligentes antes de dormir, el uso de filtro de luz azul, y la presencia de Enfermedad del Ojo Seco (Dry Eye Disease, DED), se generó un gráfico de barras categórico."
      ]
    },
    {
      "cell_type": "code",
      "execution_count": null,
      "metadata": {
        "colab": {
          "base_uri": "https://localhost:8080/",
          "height": 493
        },
        "id": "yRgY4sQZwAX1",
        "outputId": "e1210e36-4bdb-4107-f2c3-1534cc92f430"
      },
      "outputs": [],
      "source": [
        "sns.catplot(data=df,x='Smart device before bed',kind='count',col='Blue-light filter',hue='Dry Eye Disease')\n",
        "plt.show()"
      ]
    },
    {
      "cell_type": "markdown",
      "metadata": {
        "id": "68wW8K11OvLF"
      },
      "source": [
        "**El gráfico muestra la distribución de pacientes fumadores y no fumadores en cada grupo de Dry Eye Disease. Esto permite observar si existe una diferencia en la proporción de fumadores dentro de los grupos de pacientes con y sin la enfermedad.**"
      ]
    },
    {
      "cell_type": "code",
      "execution_count": null,
      "metadata": {
        "colab": {
          "base_uri": "https://localhost:8080/",
          "height": 500
        },
        "id": "c-bjlCt1wAX1",
        "outputId": "bcddc64a-968d-4142-9aeb-28f522eab3ab"
      },
      "outputs": [],
      "source": [
        "sns.catplot(data=df,x='Smoking',kind='count',col='Dry Eye Disease')\n",
        "plt.show()"
      ]
    },
    {
      "cell_type": "markdown",
      "metadata": {
        "id": "FOxJINu8WDKE"
      },
      "source": [
        "Gráfico de barras categórico para visualizar la distribución de los niveles de estrés en los pacientes y su posible relación con la enfermedad del ojo seco (Dry Eye Disease)."
      ]
    },
    {
      "cell_type": "code",
      "execution_count": null,
      "metadata": {
        "colab": {
          "base_uri": "https://localhost:8080/",
          "height": 501
        },
        "id": "YdlSm9qnwAX3",
        "outputId": "6c4d14a8-6cb4-4421-b412-199375b11f33"
      },
      "outputs": [],
      "source": [
        "sns.catplot(x='Stress level',kind='count',data=df,hue='Dry Eye Disease',palette='winter')\n",
        "plt.show()"
      ]
    },
    {
      "cell_type": "markdown",
      "metadata": {
        "id": "MKXwMrXawAX4"
      },
      "source": [
        "### Feature Engineering\n",
        "La ingeniería de características es el proceso en el cual a partir de los datos originales se crean nuevas variables que pueden ser más útiles para el modelo de Machine Learning."
      ]
    },
    {
      "cell_type": "code",
      "execution_count": 11,
      "metadata": {
        "id": "8L9T8-c4wAX5"
      },
      "outputs": [],
      "source": [
        "df[['Systolic_BP','Diastolic_BP']]=df['Blood pressure'].str.split('/',expand=True)"
      ]
    },
    {
      "cell_type": "code",
      "execution_count": 12,
      "metadata": {
        "colab": {
          "base_uri": "https://localhost:8080/",
          "height": 300
        },
        "id": "OJE49EA-wAX6",
        "outputId": "c82f0fb4-eba8-4634-b510-d299bb69c726"
      },
      "outputs": [
        {
          "data": {
            "application/vnd.microsoft.datawrangler.viewer.v0+json": {
              "columns": [
                {
                  "name": "index",
                  "rawType": "object",
                  "type": "string"
                },
                {
                  "name": "Systolic_BP",
                  "rawType": "float64",
                  "type": "float"
                },
                {
                  "name": "Diastolic_BP",
                  "rawType": "float64",
                  "type": "float"
                }
              ],
              "conversionMethod": "pd.DataFrame",
              "ref": "d1359f4c-3ccd-4012-aac8-1c3861e6ccce",
              "rows": [
                [
                  "count",
                  "20000.0",
                  "20000.0"
                ],
                [
                  "mean",
                  "114.98545",
                  "74.9993"
                ],
                [
                  "std",
                  "14.725589307274678",
                  "8.975033541516911"
                ],
                [
                  "min",
                  "90.0",
                  "60.0"
                ],
                [
                  "25%",
                  "102.0",
                  "67.0"
                ],
                [
                  "50%",
                  "115.0",
                  "75.0"
                ],
                [
                  "75%",
                  "128.0",
                  "83.0"
                ],
                [
                  "max",
                  "140.0",
                  "90.0"
                ]
              ],
              "shape": {
                "columns": 2,
                "rows": 8
              }
            },
            "text/html": [
              "<div>\n",
              "<style scoped>\n",
              "    .dataframe tbody tr th:only-of-type {\n",
              "        vertical-align: middle;\n",
              "    }\n",
              "\n",
              "    .dataframe tbody tr th {\n",
              "        vertical-align: top;\n",
              "    }\n",
              "\n",
              "    .dataframe thead th {\n",
              "        text-align: right;\n",
              "    }\n",
              "</style>\n",
              "<table border=\"1\" class=\"dataframe\">\n",
              "  <thead>\n",
              "    <tr style=\"text-align: right;\">\n",
              "      <th></th>\n",
              "      <th>Systolic_BP</th>\n",
              "      <th>Diastolic_BP</th>\n",
              "    </tr>\n",
              "  </thead>\n",
              "  <tbody>\n",
              "    <tr>\n",
              "      <th>count</th>\n",
              "      <td>20000.000000</td>\n",
              "      <td>20000.000000</td>\n",
              "    </tr>\n",
              "    <tr>\n",
              "      <th>mean</th>\n",
              "      <td>114.985450</td>\n",
              "      <td>74.999300</td>\n",
              "    </tr>\n",
              "    <tr>\n",
              "      <th>std</th>\n",
              "      <td>14.725589</td>\n",
              "      <td>8.975034</td>\n",
              "    </tr>\n",
              "    <tr>\n",
              "      <th>min</th>\n",
              "      <td>90.000000</td>\n",
              "      <td>60.000000</td>\n",
              "    </tr>\n",
              "    <tr>\n",
              "      <th>25%</th>\n",
              "      <td>102.000000</td>\n",
              "      <td>67.000000</td>\n",
              "    </tr>\n",
              "    <tr>\n",
              "      <th>50%</th>\n",
              "      <td>115.000000</td>\n",
              "      <td>75.000000</td>\n",
              "    </tr>\n",
              "    <tr>\n",
              "      <th>75%</th>\n",
              "      <td>128.000000</td>\n",
              "      <td>83.000000</td>\n",
              "    </tr>\n",
              "    <tr>\n",
              "      <th>max</th>\n",
              "      <td>140.000000</td>\n",
              "      <td>90.000000</td>\n",
              "    </tr>\n",
              "  </tbody>\n",
              "</table>\n",
              "</div>"
            ],
            "text/plain": [
              "        Systolic_BP  Diastolic_BP\n",
              "count  20000.000000  20000.000000\n",
              "mean     114.985450     74.999300\n",
              "std       14.725589      8.975034\n",
              "min       90.000000     60.000000\n",
              "25%      102.000000     67.000000\n",
              "50%      115.000000     75.000000\n",
              "75%      128.000000     83.000000\n",
              "max      140.000000     90.000000"
            ]
          },
          "execution_count": 12,
          "metadata": {},
          "output_type": "execute_result"
        }
      ],
      "source": [
        "df[['Systolic_BP','Diastolic_BP']]=df[['Systolic_BP','Diastolic_BP']].astype(int)\n",
        "df[['Systolic_BP','Diastolic_BP']].describe()"
      ]
    },
    {
      "cell_type": "markdown",
      "metadata": {
        "id": "QJkfnp0WSBs-"
      },
      "source": [
        "Este grafico permite evaluar si existe una diferencia significativa en la presión sistólica entre pacientes con y sin enfermedad del ojo seco"
      ]
    },
    {
      "cell_type": "code",
      "execution_count": 28,
      "metadata": {
        "colab": {
          "base_uri": "https://localhost:8080/",
          "height": 458
        },
        "id": "sIr5DzE7wAX7",
        "outputId": "f4b99e60-6b34-4c69-b015-6a46ab8ccf94"
      },
      "outputs": [
        {
          "data": {
            "image/png": "[encoded data removed]",
            "text/plain": [
              "<Figure size 640x480 with 1 Axes>"
            ]
          },
          "metadata": {},
          "output_type": "display_data"
        }
      ],
      "source": [
        "sns.boxplot(data=df,x='Dry Eye Disease',y='Systolic_BP',palette='winter',hue='Dry Eye Disease')\n",
        "plt.show()"
      ]
    },
    {
      "cell_type": "markdown",
      "metadata": {
        "id": "Z8vyp1MfSQw3"
      },
      "source": [
        "Gráfico de caja para comparar la distribución de la presión arterial diastólica (Diastolic_BP) en pacientes con y sin enfermedad del ojo seco (Dry Eye Disease)."
      ]
    },
    {
      "cell_type": "code",
      "execution_count": 29,
      "metadata": {
        "colab": {
          "base_uri": "https://localhost:8080/",
          "height": 458
        },
        "id": "RXGXCscvwAX7",
        "outputId": "ae0da082-83dc-4f7e-b7b0-b2bb913fa4fb"
      },
      "outputs": [
        {
          "data": {
            "image/png": "[encoded data removed]",
            "text/plain": [
              "<Figure size 640x480 with 1 Axes>"
            ]
          },
          "metadata": {},
          "output_type": "display_data"
        }
      ],
      "source": [
        "sns.boxplot(data=df,x='Dry Eye Disease',y='Diastolic_BP',palette='winter',hue='Dry Eye Disease')\n",
        "plt.show()"
      ]
    },
    {
      "cell_type": "code",
      "execution_count": null,
      "metadata": {
        "colab": {
          "base_uri": "https://localhost:8080/",
          "height": 143
        },
        "id": "rMxu59FPwAX8",
        "outputId": "5b89168d-bae2-4147-bc3e-b193b96ef054"
      },
      "outputs": [
        {
          "data": {
            "application/vnd.google.colaboratory.intrinsic+json": {
              "summary": "{\n  \"name\": \"df\",\n  \"rows\": 2,\n  \"fields\": [\n    {\n      \"column\": \"Dry Eye Disease\",\n      \"properties\": {\n        \"dtype\": \"string\",\n        \"num_unique_values\": 2,\n        \"samples\": [\n          \"Y\",\n          \"N\"\n        ],\n        \"semantic_type\": \"\",\n        \"description\": \"\"\n      }\n    },\n    {\n      \"column\": \"Age\",\n      \"properties\": {\n        \"dtype\": \"number\",\n        \"std\": 0.06324414557884905,\n        \"min\": 31.364498061180527,\n        \"max\": 31.453938789598833,\n        \"num_unique_values\": 2,\n        \"samples\": [\n          31.453938789598833,\n          31.364498061180527\n        ],\n        \"semantic_type\": \"\",\n        \"description\": \"\"\n      }\n    },\n    {\n      \"column\": \"Heart rate\",\n      \"properties\": {\n        \"dtype\": \"number\",\n        \"std\": 0.03650971892107145,\n        \"min\": 79.89422413131855,\n        \"max\": 79.94585667097516,\n        \"num_unique_values\": 2,\n        \"samples\": [\n          79.89422413131855,\n          79.94585667097516\n        ],\n        \"semantic_type\": \"\",\n        \"description\": \"\"\n      }\n    },\n    {\n      \"column\": \"Physical activity\",\n      \"properties\": {\n        \"dtype\": \"number\",\n        \"std\": 0.25539213719722037,\n        \"min\": 89.94400552274296,\n        \"max\": 90.30518454689071,\n        \"num_unique_values\": 2,\n        \"samples\": [\n          89.94400552274296,\n          90.30518454689071\n        ],\n        \"semantic_type\": \"\",\n        \"description\": \"\"\n      }\n    },\n    {\n      \"column\": \"Sleep quality\",\n      \"properties\": {\n        \"dtype\": \"number\",\n        \"std\": 0.010461058621972797,\n        \"min\": 2.992099409373322,\n        \"max\": 3.006893580353296,\n        \"num_unique_values\": 2,\n        \"samples\": [\n          2.992099409373322,\n          3.006893580353296\n        ],\n        \"semantic_type\": \"\",\n        \"description\": \"\"\n      }\n    },\n    {\n      \"column\": \"imc\",\n      \"properties\": {\n        \"dtype\": \"number\",\n        \"std\": 7.027370865109228e-06,\n        \"min\": 0.0024960061988695947,\n        \"max\": 0.0025059444020548577,\n        \"num_unique_values\": 2,\n        \"samples\": [\n          0.0025059444020548577,\n          0.0024960061988695947\n        ],\n        \"semantic_type\": \"\",\n        \"description\": \"\"\n      }\n    }\n  ]\n}",
              "type": "dataframe"
            },
            "text/html": [
              "\n",
              "  <div id=\"df-a6b0e43c-79d9-420b-9d24-d5cf1d966248\" class=\"colab-df-container\">\n",
              "    <div>\n",
              "<style scoped>\n",
              "    .dataframe tbody tr th:only-of-type {\n",
              "        vertical-align: middle;\n",
              "    }\n",
              "\n",
              "    .dataframe tbody tr th {\n",
              "        vertical-align: top;\n",
              "    }\n",
              "\n",
              "    .dataframe thead th {\n",
              "        text-align: right;\n",
              "    }\n",
              "</style>\n",
              "<table border=\"1\" class=\"dataframe\">\n",
              "  <thead>\n",
              "    <tr style=\"text-align: right;\">\n",
              "      <th></th>\n",
              "      <th>Age</th>\n",
              "      <th>Heart rate</th>\n",
              "      <th>Physical activity</th>\n",
              "      <th>Sleep quality</th>\n",
              "      <th>imc</th>\n",
              "    </tr>\n",
              "    <tr>\n",
              "      <th>Dry Eye Disease</th>\n",
              "      <th></th>\n",
              "      <th></th>\n",
              "      <th></th>\n",
              "      <th></th>\n",
              "      <th></th>\n",
              "    </tr>\n",
              "  </thead>\n",
              "  <tbody>\n",
              "    <tr>\n",
              "      <th>N</th>\n",
              "      <td>31.364498</td>\n",
              "      <td>79.945857</td>\n",
              "      <td>90.305185</td>\n",
              "      <td>3.006894</td>\n",
              "      <td>0.002496</td>\n",
              "    </tr>\n",
              "    <tr>\n",
              "      <th>Y</th>\n",
              "      <td>31.453939</td>\n",
              "      <td>79.894224</td>\n",
              "      <td>89.944006</td>\n",
              "      <td>2.992099</td>\n",
              "      <td>0.002506</td>\n",
              "    </tr>\n",
              "  </tbody>\n",
              "</table>\n",
              "</div>\n",
              "    <div class=\"colab-df-buttons\">\n",
              "\n",
              "  <div class=\"colab-df-container\">\n",
              "    <button class=\"colab-df-convert\" onclick=\"convertToInteractive('df-a6b0e43c-79d9-420b-9d24-d5cf1d966248')\"\n",
              "            title=\"Convert this dataframe to an interactive table.\"\n",
              "            style=\"display:none;\">\n",
              "\n",
              "  <svg xmlns=\"http://www.w3.org/2000/svg\" height=\"24px\" viewBox=\"0 -960 960 960\">\n",
              "    <path d=\"M120-120v-720h720v720H120Zm60-500h600v-160H180v160Zm220 220h160v-160H400v160Zm0 220h160v-160H400v160ZM180-400h160v-160H180v160Zm440 0h160v-160H620v160ZM180-180h160v-160H180v160Zm440 0h160v-160H620v160Z\"/>\n",
              "  </svg>\n",
              "    </button>\n",
              "\n",
              "  <style>\n",
              "    .colab-df-container {\n",
              "      display:flex;\n",
              "      gap: 12px;\n",
              "    }\n",
              "\n",
              "    .colab-df-convert {\n",
              "      background-color: #E8F0FE;\n",
              "      border: none;\n",
              "      border-radius: 50%;\n",
              "      cursor: pointer;\n",
              "      display: none;\n",
              "      fill: #1967D2;\n",
              "      height: 32px;\n",
              "      padding: 0 0 0 0;\n",
              "      width: 32px;\n",
              "    }\n",
              "\n",
              "    .colab-df-convert:hover {\n",
              "      background-color: #E2EBFA;\n",
              "      box-shadow: 0px 1px 2px rgba(60, 64, 67, 0.3), 0px 1px 3px 1px rgba(60, 64, 67, 0.15);\n",
              "      fill: #174EA6;\n",
              "    }\n",
              "\n",
              "    .colab-df-buttons div {\n",
              "      margin-bottom: 4px;\n",
              "    }\n",
              "\n",
              "    [theme=dark] .colab-df-convert {\n",
              "      background-color: #3B4455;\n",
              "      fill: #D2E3FC;\n",
              "    }\n",
              "\n",
              "    [theme=dark] .colab-df-convert:hover {\n",
              "      background-color: #434B5C;\n",
              "      box-shadow: 0px 1px 3px 1px rgba(0, 0, 0, 0.15);\n",
              "      filter: drop-shadow(0px 1px 2px rgba(0, 0, 0, 0.3));\n",
              "      fill: #FFFFFF;\n",
              "    }\n",
              "  </style>\n",
              "\n",
              "    <script>\n",
              "      const buttonEl =\n",
              "        document.querySelector('#df-a6b0e43c-79d9-420b-9d24-d5cf1d966248 button.colab-df-convert');\n",
              "      buttonEl.style.display =\n",
              "        google.colab.kernel.accessAllowed ? 'block' : 'none';\n",
              "\n",
              "      async function convertToInteractive(key) {\n",
              "        const element = document.querySelector('#df-a6b0e43c-79d9-420b-9d24-d5cf1d966248');\n",
              "        const dataTable =\n",
              "          await google.colab.kernel.invokeFunction('convertToInteractive',\n",
              "                                                    [key], {});\n",
              "        if (!dataTable) return;\n",
              "\n",
              "        const docLinkHtml = 'Like what you see? Visit the ' +\n",
              "          '<a target=\"_blank\" href=https://colab.research.google.com/notebooks/data_table.ipynb>data table notebook</a>'\n",
              "          + ' to learn more about interactive tables.';\n",
              "        element.innerHTML = '';\n",
              "        dataTable['output_type'] = 'display_data';\n",
              "        await google.colab.output.renderOutput(dataTable, element);\n",
              "        const docLink = document.createElement('div');\n",
              "        docLink.innerHTML = docLinkHtml;\n",
              "        element.appendChild(docLink);\n",
              "      }\n",
              "    </script>\n",
              "  </div>\n",
              "\n",
              "\n",
              "<div id=\"df-d748c34e-9e7b-452d-8357-35257140392c\">\n",
              "  <button class=\"colab-df-quickchart\" onclick=\"quickchart('df-d748c34e-9e7b-452d-8357-35257140392c')\"\n",
              "            title=\"Suggest charts\"\n",
              "            style=\"display:none;\">\n",
              "\n",
              "<svg xmlns=\"http://www.w3.org/2000/svg\" height=\"24px\"viewBox=\"0 0 24 24\"\n",
              "     width=\"24px\">\n",
              "    <g>\n",
              "        <path d=\"M19 3H5c-1.1 0-2 .9-2 2v14c0 1.1.9 2 2 2h14c1.1 0 2-.9 2-2V5c0-1.1-.9-2-2-2zM9 17H7v-7h2v7zm4 0h-2V7h2v10zm4 0h-2v-4h2v4z\"/>\n",
              "    </g>\n",
              "</svg>\n",
              "  </button>\n",
              "\n",
              "<style>\n",
              "  .colab-df-quickchart {\n",
              "      --bg-color: #E8F0FE;\n",
              "      --fill-color: #1967D2;\n",
              "      --hover-bg-color: #E2EBFA;\n",
              "      --hover-fill-color: #174EA6;\n",
              "      --disabled-fill-color: #AAA;\n",
              "      --disabled-bg-color: #DDD;\n",
              "  }\n",
              "\n",
              "  [theme=dark] .colab-df-quickchart {\n",
              "      --bg-color: #3B4455;\n",
              "      --fill-color: #D2E3FC;\n",
              "      --hover-bg-color: #434B5C;\n",
              "      --hover-fill-color: #FFFFFF;\n",
              "      --disabled-bg-color: #3B4455;\n",
              "      --disabled-fill-color: #666;\n",
              "  }\n",
              "\n",
              "  .colab-df-quickchart {\n",
              "    background-color: var(--bg-color);\n",
              "    border: none;\n",
              "    border-radius: 50%;\n",
              "    cursor: pointer;\n",
              "    display: none;\n",
              "    fill: var(--fill-color);\n",
              "    height: 32px;\n",
              "    padding: 0;\n",
              "    width: 32px;\n",
              "  }\n",
              "\n",
              "  .colab-df-quickchart:hover {\n",
              "    background-color: var(--hover-bg-color);\n",
              "    box-shadow: 0 1px 2px rgba(60, 64, 67, 0.3), 0 1px 3px 1px rgba(60, 64, 67, 0.15);\n",
              "    fill: var(--button-hover-fill-color);\n",
              "  }\n",
              "\n",
              "  .colab-df-quickchart-complete:disabled,\n",
              "  .colab-df-quickchart-complete:disabled:hover {\n",
              "    background-color: var(--disabled-bg-color);\n",
              "    fill: var(--disabled-fill-color);\n",
              "    box-shadow: none;\n",
              "  }\n",
              "\n",
              "  .colab-df-spinner {\n",
              "    border: 2px solid var(--fill-color);\n",
              "    border-color: transparent;\n",
              "    border-bottom-color: var(--fill-color);\n",
              "    animation:\n",
              "      spin 1s steps(1) infinite;\n",
              "  }\n",
              "\n",
              "  @keyframes spin {\n",
              "    0% {\n",
              "      border-color: transparent;\n",
              "      border-bottom-color: var(--fill-color);\n",
              "      border-left-color: var(--fill-color);\n",
              "    }\n",
              "    20% {\n",
              "      border-color: transparent;\n",
              "      border-left-color: var(--fill-color);\n",
              "      border-top-color: var(--fill-color);\n",
              "    }\n",
              "    30% {\n",
              "      border-color: transparent;\n",
              "      border-left-color: var(--fill-color);\n",
              "      border-top-color: var(--fill-color);\n",
              "      border-right-color: var(--fill-color);\n",
              "    }\n",
              "    40% {\n",
              "      border-color: transparent;\n",
              "      border-right-color: var(--fill-color);\n",
              "      border-top-color: var(--fill-color);\n",
              "    }\n",
              "    60% {\n",
              "      border-color: transparent;\n",
              "      border-right-color: var(--fill-color);\n",
              "    }\n",
              "    80% {\n",
              "      border-color: transparent;\n",
              "      border-right-color: var(--fill-color);\n",
              "      border-bottom-color: var(--fill-color);\n",
              "    }\n",
              "    90% {\n",
              "      border-color: transparent;\n",
              "      border-bottom-color: var(--fill-color);\n",
              "    }\n",
              "  }\n",
              "</style>\n",
              "\n",
              "  <script>\n",
              "    async function quickchart(key) {\n",
              "      const quickchartButtonEl =\n",
              "        document.querySelector('#' + key + ' button');\n",
              "      quickchartButtonEl.disabled = true;  // To prevent multiple clicks.\n",
              "      quickchartButtonEl.classList.add('colab-df-spinner');\n",
              "      try {\n",
              "        const charts = await google.colab.kernel.invokeFunction(\n",
              "            'suggestCharts', [key], {});\n",
              "      } catch (error) {\n",
              "        console.error('Error during call to suggestCharts:', error);\n",
              "      }\n",
              "      quickchartButtonEl.classList.remove('colab-df-spinner');\n",
              "      quickchartButtonEl.classList.add('colab-df-quickchart-complete');\n",
              "    }\n",
              "    (() => {\n",
              "      let quickchartButtonEl =\n",
              "        document.querySelector('#df-d748c34e-9e7b-452d-8357-35257140392c button');\n",
              "      quickchartButtonEl.style.display =\n",
              "        google.colab.kernel.accessAllowed ? 'block' : 'none';\n",
              "    })();\n",
              "  </script>\n",
              "</div>\n",
              "\n",
              "    </div>\n",
              "  </div>\n"
            ],
            "text/plain": [
              "                       Age  Heart rate  Physical activity  Sleep quality  \\\n",
              "Dry Eye Disease                                                            \n",
              "N                31.364498   79.945857          90.305185       3.006894   \n",
              "Y                31.453939   79.894224          89.944006       2.992099   \n",
              "\n",
              "                      imc  \n",
              "Dry Eye Disease            \n",
              "N                0.002496  \n",
              "Y                0.002506  "
            ]
          },
          "execution_count": 36,
          "metadata": {},
          "output_type": "execute_result"
        }
      ],
      "source": [
        "df.pivot_table(index='Dry Eye Disease',values=['Physical activity','Sleep quality','Age','Heart rate'],aggfunc='mean')"
      ]
    },
    {
      "cell_type": "markdown",
      "metadata": {},
      "source": [
        "## Preprocesamiento"
      ]
    },
    {
      "cell_type": "code",
      "execution_count": null,
      "metadata": {},
      "outputs": [],
      "source": [
        "from sklearn.preprocessing import LabelEncoder,StandardScaler\n",
        "from sklearn.model_selection import train_test_split"
      ]
    },
    {
      "cell_type": "code",
      "execution_count": 31,
      "metadata": {},
      "outputs": [],
      "source": [
        "df.drop(labels=['Blood pressure','Daily steps'],axis=1,inplace=True)"
      ]
    },
    {
      "cell_type": "code",
      "execution_count": 32,
      "metadata": {},
      "outputs": [
        {
          "data": {
            "application/vnd.microsoft.datawrangler.viewer.v0+json": {
              "columns": [
                {
                  "name": "index",
                  "rawType": "int64",
                  "type": "integer"
                },
                {
                  "name": "Gender",
                  "rawType": "object",
                  "type": "string"
                },
                {
                  "name": "Age",
                  "rawType": "int64",
                  "type": "integer"
                },
                {
                  "name": "Sleep duration",
                  "rawType": "float64",
                  "type": "float"
                },
                {
                  "name": "Sleep quality",
                  "rawType": "int64",
                  "type": "integer"
                },
                {
                  "name": "Stress level",
                  "rawType": "int64",
                  "type": "integer"
                },
                {
                  "name": "Heart rate",
                  "rawType": "int64",
                  "type": "integer"
                },
                {
                  "name": "Physical activity",
                  "rawType": "int64",
                  "type": "integer"
                },
                {
                  "name": "Height",
                  "rawType": "int64",
                  "type": "integer"
                },
                {
                  "name": "Weight",
                  "rawType": "int64",
                  "type": "integer"
                },
                {
                  "name": "Sleep disorder",
                  "rawType": "object",
                  "type": "string"
                },
                {
                  "name": "Wake up during night",
                  "rawType": "object",
                  "type": "string"
                },
                {
                  "name": "Feel sleepy during day",
                  "rawType": "object",
                  "type": "string"
                },
                {
                  "name": "Caffeine consumption",
                  "rawType": "object",
                  "type": "string"
                },
                {
                  "name": "Alcohol consumption",
                  "rawType": "object",
                  "type": "string"
                },
                {
                  "name": "Smoking",
                  "rawType": "object",
                  "type": "string"
                },
                {
                  "name": "Medical issue",
                  "rawType": "object",
                  "type": "string"
                },
                {
                  "name": "Ongoing medication",
                  "rawType": "object",
                  "type": "string"
                },
                {
                  "name": "Smart device before bed",
                  "rawType": "object",
                  "type": "string"
                },
                {
                  "name": "Average screen time",
                  "rawType": "float64",
                  "type": "float"
                },
                {
                  "name": "Blue-light filter",
                  "rawType": "object",
                  "type": "string"
                },
                {
                  "name": "Discomfort Eye-strain",
                  "rawType": "object",
                  "type": "string"
                },
                {
                  "name": "Redness in eye",
                  "rawType": "object",
                  "type": "string"
                },
                {
                  "name": "Itchiness/Irritation in eye",
                  "rawType": "object",
                  "type": "string"
                },
                {
                  "name": "Dry Eye Disease",
                  "rawType": "object",
                  "type": "string"
                },
                {
                  "name": "Systolic_BP",
                  "rawType": "int32",
                  "type": "integer"
                },
                {
                  "name": "Diastolic_BP",
                  "rawType": "int32",
                  "type": "integer"
                }
              ],
              "conversionMethod": "pd.DataFrame",
              "ref": "56e3fcac-bbdb-4514-b887-8d39ba084834",
              "rows": [
                [
                  "0",
                  "F",
                  "24",
                  "9.5",
                  "2",
                  "1",
                  "67",
                  "31",
                  "161",
                  "69",
                  "Y",
                  "N",
                  "N",
                  "N",
                  "N",
                  "N",
                  "Y",
                  "Y",
                  "N",
                  "8.7",
                  "N",
                  "Y",
                  "Y",
                  "N",
                  "Y",
                  "137",
                  "89"
                ],
                [
                  "1",
                  "M",
                  "39",
                  "9.6",
                  "2",
                  "3",
                  "60",
                  "74",
                  "164",
                  "87",
                  "N",
                  "N",
                  "N",
                  "N",
                  "Y",
                  "N",
                  "Y",
                  "Y",
                  "N",
                  "9.6",
                  "Y",
                  "N",
                  "N",
                  "Y",
                  "Y",
                  "108",
                  "64"
                ],
                [
                  "2",
                  "F",
                  "45",
                  "5.4",
                  "1",
                  "5",
                  "95",
                  "93",
                  "179",
                  "94",
                  "Y",
                  "Y",
                  "N",
                  "Y",
                  "Y",
                  "N",
                  "N",
                  "N",
                  "Y",
                  "4.0",
                  "N",
                  "Y",
                  "N",
                  "N",
                  "N",
                  "134",
                  "81"
                ],
                [
                  "3",
                  "F",
                  "45",
                  "5.4",
                  "4",
                  "5",
                  "78",
                  "32",
                  "160",
                  "77",
                  "N",
                  "N",
                  "N",
                  "Y",
                  "N",
                  "N",
                  "Y",
                  "N",
                  "N",
                  "7.6",
                  "N",
                  "Y",
                  "N",
                  "Y",
                  "N",
                  "110",
                  "90"
                ],
                [
                  "4",
                  "F",
                  "42",
                  "5.7",
                  "3",
                  "2",
                  "72",
                  "173",
                  "179",
                  "99",
                  "N",
                  "Y",
                  "N",
                  "N",
                  "N",
                  "N",
                  "Y",
                  "N",
                  "N",
                  "3.5",
                  "N",
                  "Y",
                  "Y",
                  "N",
                  "Y",
                  "99",
                  "67"
                ]
              ],
              "shape": {
                "columns": 26,
                "rows": 5
              }
            },
            "text/html": [
              "<div>\n",
              "<style scoped>\n",
              "    .dataframe tbody tr th:only-of-type {\n",
              "        vertical-align: middle;\n",
              "    }\n",
              "\n",
              "    .dataframe tbody tr th {\n",
              "        vertical-align: top;\n",
              "    }\n",
              "\n",
              "    .dataframe thead th {\n",
              "        text-align: right;\n",
              "    }\n",
              "</style>\n",
              "<table border=\"1\" class=\"dataframe\">\n",
              "  <thead>\n",
              "    <tr style=\"text-align: right;\">\n",
              "      <th></th>\n",
              "      <th>Gender</th>\n",
              "      <th>Age</th>\n",
              "      <th>Sleep duration</th>\n",
              "      <th>Sleep quality</th>\n",
              "      <th>Stress level</th>\n",
              "      <th>Heart rate</th>\n",
              "      <th>Physical activity</th>\n",
              "      <th>Height</th>\n",
              "      <th>Weight</th>\n",
              "      <th>Sleep disorder</th>\n",
              "      <th>...</th>\n",
              "      <th>Ongoing medication</th>\n",
              "      <th>Smart device before bed</th>\n",
              "      <th>Average screen time</th>\n",
              "      <th>Blue-light filter</th>\n",
              "      <th>Discomfort Eye-strain</th>\n",
              "      <th>Redness in eye</th>\n",
              "      <th>Itchiness/Irritation in eye</th>\n",
              "      <th>Dry Eye Disease</th>\n",
              "      <th>Systolic_BP</th>\n",
              "      <th>Diastolic_BP</th>\n",
              "    </tr>\n",
              "  </thead>\n",
              "  <tbody>\n",
              "    <tr>\n",
              "      <th>0</th>\n",
              "      <td>F</td>\n",
              "      <td>24</td>\n",
              "      <td>9.5</td>\n",
              "      <td>2</td>\n",
              "      <td>1</td>\n",
              "      <td>67</td>\n",
              "      <td>31</td>\n",
              "      <td>161</td>\n",
              "      <td>69</td>\n",
              "      <td>Y</td>\n",
              "      <td>...</td>\n",
              "      <td>Y</td>\n",
              "      <td>N</td>\n",
              "      <td>8.7</td>\n",
              "      <td>N</td>\n",
              "      <td>Y</td>\n",
              "      <td>Y</td>\n",
              "      <td>N</td>\n",
              "      <td>Y</td>\n",
              "      <td>137</td>\n",
              "      <td>89</td>\n",
              "    </tr>\n",
              "    <tr>\n",
              "      <th>1</th>\n",
              "      <td>M</td>\n",
              "      <td>39</td>\n",
              "      <td>9.6</td>\n",
              "      <td>2</td>\n",
              "      <td>3</td>\n",
              "      <td>60</td>\n",
              "      <td>74</td>\n",
              "      <td>164</td>\n",
              "      <td>87</td>\n",
              "      <td>N</td>\n",
              "      <td>...</td>\n",
              "      <td>Y</td>\n",
              "      <td>N</td>\n",
              "      <td>9.6</td>\n",
              "      <td>Y</td>\n",
              "      <td>N</td>\n",
              "      <td>N</td>\n",
              "      <td>Y</td>\n",
              "      <td>Y</td>\n",
              "      <td>108</td>\n",
              "      <td>64</td>\n",
              "    </tr>\n",
              "    <tr>\n",
              "      <th>2</th>\n",
              "      <td>F</td>\n",
              "      <td>45</td>\n",
              "      <td>5.4</td>\n",
              "      <td>1</td>\n",
              "      <td>5</td>\n",
              "      <td>95</td>\n",
              "      <td>93</td>\n",
              "      <td>179</td>\n",
              "      <td>94</td>\n",
              "      <td>Y</td>\n",
              "      <td>...</td>\n",
              "      <td>N</td>\n",
              "      <td>Y</td>\n",
              "      <td>4.0</td>\n",
              "      <td>N</td>\n",
              "      <td>Y</td>\n",
              "      <td>N</td>\n",
              "      <td>N</td>\n",
              "      <td>N</td>\n",
              "      <td>134</td>\n",
              "      <td>81</td>\n",
              "    </tr>\n",
              "    <tr>\n",
              "      <th>3</th>\n",
              "      <td>F</td>\n",
              "      <td>45</td>\n",
              "      <td>5.4</td>\n",
              "      <td>4</td>\n",
              "      <td>5</td>\n",
              "      <td>78</td>\n",
              "      <td>32</td>\n",
              "      <td>160</td>\n",
              "      <td>77</td>\n",
              "      <td>N</td>\n",
              "      <td>...</td>\n",
              "      <td>N</td>\n",
              "      <td>N</td>\n",
              "      <td>7.6</td>\n",
              "      <td>N</td>\n",
              "      <td>Y</td>\n",
              "      <td>N</td>\n",
              "      <td>Y</td>\n",
              "      <td>N</td>\n",
              "      <td>110</td>\n",
              "      <td>90</td>\n",
              "    </tr>\n",
              "    <tr>\n",
              "      <th>4</th>\n",
              "      <td>F</td>\n",
              "      <td>42</td>\n",
              "      <td>5.7</td>\n",
              "      <td>3</td>\n",
              "      <td>2</td>\n",
              "      <td>72</td>\n",
              "      <td>173</td>\n",
              "      <td>179</td>\n",
              "      <td>99</td>\n",
              "      <td>N</td>\n",
              "      <td>...</td>\n",
              "      <td>N</td>\n",
              "      <td>N</td>\n",
              "      <td>3.5</td>\n",
              "      <td>N</td>\n",
              "      <td>Y</td>\n",
              "      <td>Y</td>\n",
              "      <td>N</td>\n",
              "      <td>Y</td>\n",
              "      <td>99</td>\n",
              "      <td>67</td>\n",
              "    </tr>\n",
              "  </tbody>\n",
              "</table>\n",
              "<p>5 rows × 26 columns</p>\n",
              "</div>"
            ],
            "text/plain": [
              "  Gender  Age  Sleep duration  Sleep quality  Stress level  Heart rate  \\\n",
              "0      F   24             9.5              2             1          67   \n",
              "1      M   39             9.6              2             3          60   \n",
              "2      F   45             5.4              1             5          95   \n",
              "3      F   45             5.4              4             5          78   \n",
              "4      F   42             5.7              3             2          72   \n",
              "\n",
              "   Physical activity  Height  Weight Sleep disorder  ... Ongoing medication  \\\n",
              "0                 31     161      69              Y  ...                  Y   \n",
              "1                 74     164      87              N  ...                  Y   \n",
              "2                 93     179      94              Y  ...                  N   \n",
              "3                 32     160      77              N  ...                  N   \n",
              "4                173     179      99              N  ...                  N   \n",
              "\n",
              "  Smart device before bed Average screen time Blue-light filter  \\\n",
              "0                       N                 8.7                 N   \n",
              "1                       N                 9.6                 Y   \n",
              "2                       Y                 4.0                 N   \n",
              "3                       N                 7.6                 N   \n",
              "4                       N                 3.5                 N   \n",
              "\n",
              "  Discomfort Eye-strain Redness in eye Itchiness/Irritation in eye  \\\n",
              "0                     Y              Y                           N   \n",
              "1                     N              N                           Y   \n",
              "2                     Y              N                           N   \n",
              "3                     Y              N                           Y   \n",
              "4                     Y              Y                           N   \n",
              "\n",
              "  Dry Eye Disease  Systolic_BP Diastolic_BP  \n",
              "0               Y          137           89  \n",
              "1               Y          108           64  \n",
              "2               N          134           81  \n",
              "3               N          110           90  \n",
              "4               Y           99           67  \n",
              "\n",
              "[5 rows x 26 columns]"
            ]
          },
          "execution_count": 32,
          "metadata": {},
          "output_type": "execute_result"
        }
      ],
      "source": [
        "df.head()"
      ]
    },
    {
      "cell_type": "code",
      "execution_count": 34,
      "metadata": {},
      "outputs": [],
      "source": [
        "categorical_features=df.select_dtypes(include='object').columns\n",
        "for col in categorical_features:\n",
        "    le=LabelEncoder()\n",
        "    df[col]=le.fit_transform(df[col])"
      ]
    },
    {
      "cell_type": "code",
      "execution_count": 35,
      "metadata": {},
      "outputs": [
        {
          "data": {
            "application/vnd.microsoft.datawrangler.viewer.v0+json": {
              "columns": [
                {
                  "name": "index",
                  "rawType": "int64",
                  "type": "integer"
                },
                {
                  "name": "Gender",
                  "rawType": "int32",
                  "type": "integer"
                },
                {
                  "name": "Age",
                  "rawType": "int64",
                  "type": "integer"
                },
                {
                  "name": "Sleep duration",
                  "rawType": "float64",
                  "type": "float"
                },
                {
                  "name": "Sleep quality",
                  "rawType": "int64",
                  "type": "integer"
                },
                {
                  "name": "Stress level",
                  "rawType": "int64",
                  "type": "integer"
                },
                {
                  "name": "Heart rate",
                  "rawType": "int64",
                  "type": "integer"
                },
                {
                  "name": "Physical activity",
                  "rawType": "int64",
                  "type": "integer"
                },
                {
                  "name": "Height",
                  "rawType": "int64",
                  "type": "integer"
                },
                {
                  "name": "Weight",
                  "rawType": "int64",
                  "type": "integer"
                },
                {
                  "name": "Sleep disorder",
                  "rawType": "int32",
                  "type": "integer"
                },
                {
                  "name": "Wake up during night",
                  "rawType": "int32",
                  "type": "integer"
                },
                {
                  "name": "Feel sleepy during day",
                  "rawType": "int32",
                  "type": "integer"
                },
                {
                  "name": "Caffeine consumption",
                  "rawType": "int32",
                  "type": "integer"
                },
                {
                  "name": "Alcohol consumption",
                  "rawType": "int32",
                  "type": "integer"
                },
                {
                  "name": "Smoking",
                  "rawType": "int32",
                  "type": "integer"
                },
                {
                  "name": "Medical issue",
                  "rawType": "int32",
                  "type": "integer"
                },
                {
                  "name": "Ongoing medication",
                  "rawType": "int32",
                  "type": "integer"
                },
                {
                  "name": "Smart device before bed",
                  "rawType": "int32",
                  "type": "integer"
                },
                {
                  "name": "Average screen time",
                  "rawType": "float64",
                  "type": "float"
                },
                {
                  "name": "Blue-light filter",
                  "rawType": "int32",
                  "type": "integer"
                },
                {
                  "name": "Discomfort Eye-strain",
                  "rawType": "int32",
                  "type": "integer"
                },
                {
                  "name": "Redness in eye",
                  "rawType": "int32",
                  "type": "integer"
                },
                {
                  "name": "Itchiness/Irritation in eye",
                  "rawType": "int32",
                  "type": "integer"
                },
                {
                  "name": "Dry Eye Disease",
                  "rawType": "int32",
                  "type": "integer"
                },
                {
                  "name": "Systolic_BP",
                  "rawType": "int32",
                  "type": "integer"
                },
                {
                  "name": "Diastolic_BP",
                  "rawType": "int32",
                  "type": "integer"
                }
              ],
              "conversionMethod": "pd.DataFrame",
              "ref": "c9922e70-101a-4678-8c3a-2164cdc41226",
              "rows": [
                [
                  "0",
                  "0",
                  "24",
                  "9.5",
                  "2",
                  "1",
                  "67",
                  "31",
                  "161",
                  "69",
                  "1",
                  "0",
                  "0",
                  "0",
                  "0",
                  "0",
                  "1",
                  "1",
                  "0",
                  "8.7",
                  "0",
                  "1",
                  "1",
                  "0",
                  "1",
                  "137",
                  "89"
                ],
                [
                  "1",
                  "1",
                  "39",
                  "9.6",
                  "2",
                  "3",
                  "60",
                  "74",
                  "164",
                  "87",
                  "0",
                  "0",
                  "0",
                  "0",
                  "1",
                  "0",
                  "1",
                  "1",
                  "0",
                  "9.6",
                  "1",
                  "0",
                  "0",
                  "1",
                  "1",
                  "108",
                  "64"
                ],
                [
                  "2",
                  "0",
                  "45",
                  "5.4",
                  "1",
                  "5",
                  "95",
                  "93",
                  "179",
                  "94",
                  "1",
                  "1",
                  "0",
                  "1",
                  "1",
                  "0",
                  "0",
                  "0",
                  "1",
                  "4.0",
                  "0",
                  "1",
                  "0",
                  "0",
                  "0",
                  "134",
                  "81"
                ],
                [
                  "3",
                  "0",
                  "45",
                  "5.4",
                  "4",
                  "5",
                  "78",
                  "32",
                  "160",
                  "77",
                  "0",
                  "0",
                  "0",
                  "1",
                  "0",
                  "0",
                  "1",
                  "0",
                  "0",
                  "7.6",
                  "0",
                  "1",
                  "0",
                  "1",
                  "0",
                  "110",
                  "90"
                ],
                [
                  "4",
                  "0",
                  "42",
                  "5.7",
                  "3",
                  "2",
                  "72",
                  "173",
                  "179",
                  "99",
                  "0",
                  "1",
                  "0",
                  "0",
                  "0",
                  "0",
                  "1",
                  "0",
                  "0",
                  "3.5",
                  "0",
                  "1",
                  "1",
                  "0",
                  "1",
                  "99",
                  "67"
                ]
              ],
              "shape": {
                "columns": 26,
                "rows": 5
              }
            },
            "text/html": [
              "<div>\n",
              "<style scoped>\n",
              "    .dataframe tbody tr th:only-of-type {\n",
              "        vertical-align: middle;\n",
              "    }\n",
              "\n",
              "    .dataframe tbody tr th {\n",
              "        vertical-align: top;\n",
              "    }\n",
              "\n",
              "    .dataframe thead th {\n",
              "        text-align: right;\n",
              "    }\n",
              "</style>\n",
              "<table border=\"1\" class=\"dataframe\">\n",
              "  <thead>\n",
              "    <tr style=\"text-align: right;\">\n",
              "      <th></th>\n",
              "      <th>Gender</th>\n",
              "      <th>Age</th>\n",
              "      <th>Sleep duration</th>\n",
              "      <th>Sleep quality</th>\n",
              "      <th>Stress level</th>\n",
              "      <th>Heart rate</th>\n",
              "      <th>Physical activity</th>\n",
              "      <th>Height</th>\n",
              "      <th>Weight</th>\n",
              "      <th>Sleep disorder</th>\n",
              "      <th>...</th>\n",
              "      <th>Ongoing medication</th>\n",
              "      <th>Smart device before bed</th>\n",
              "      <th>Average screen time</th>\n",
              "      <th>Blue-light filter</th>\n",
              "      <th>Discomfort Eye-strain</th>\n",
              "      <th>Redness in eye</th>\n",
              "      <th>Itchiness/Irritation in eye</th>\n",
              "      <th>Dry Eye Disease</th>\n",
              "      <th>Systolic_BP</th>\n",
              "      <th>Diastolic_BP</th>\n",
              "    </tr>\n",
              "  </thead>\n",
              "  <tbody>\n",
              "    <tr>\n",
              "      <th>0</th>\n",
              "      <td>0</td>\n",
              "      <td>24</td>\n",
              "      <td>9.5</td>\n",
              "      <td>2</td>\n",
              "      <td>1</td>\n",
              "      <td>67</td>\n",
              "      <td>31</td>\n",
              "      <td>161</td>\n",
              "      <td>69</td>\n",
              "      <td>1</td>\n",
              "      <td>...</td>\n",
              "      <td>1</td>\n",
              "      <td>0</td>\n",
              "      <td>8.7</td>\n",
              "      <td>0</td>\n",
              "      <td>1</td>\n",
              "      <td>1</td>\n",
              "      <td>0</td>\n",
              "      <td>1</td>\n",
              "      <td>137</td>\n",
              "      <td>89</td>\n",
              "    </tr>\n",
              "    <tr>\n",
              "      <th>1</th>\n",
              "      <td>1</td>\n",
              "      <td>39</td>\n",
              "      <td>9.6</td>\n",
              "      <td>2</td>\n",
              "      <td>3</td>\n",
              "      <td>60</td>\n",
              "      <td>74</td>\n",
              "      <td>164</td>\n",
              "      <td>87</td>\n",
              "      <td>0</td>\n",
              "      <td>...</td>\n",
              "      <td>1</td>\n",
              "      <td>0</td>\n",
              "      <td>9.6</td>\n",
              "      <td>1</td>\n",
              "      <td>0</td>\n",
              "      <td>0</td>\n",
              "      <td>1</td>\n",
              "      <td>1</td>\n",
              "      <td>108</td>\n",
              "      <td>64</td>\n",
              "    </tr>\n",
              "    <tr>\n",
              "      <th>2</th>\n",
              "      <td>0</td>\n",
              "      <td>45</td>\n",
              "      <td>5.4</td>\n",
              "      <td>1</td>\n",
              "      <td>5</td>\n",
              "      <td>95</td>\n",
              "      <td>93</td>\n",
              "      <td>179</td>\n",
              "      <td>94</td>\n",
              "      <td>1</td>\n",
              "      <td>...</td>\n",
              "      <td>0</td>\n",
              "      <td>1</td>\n",
              "      <td>4.0</td>\n",
              "      <td>0</td>\n",
              "      <td>1</td>\n",
              "      <td>0</td>\n",
              "      <td>0</td>\n",
              "      <td>0</td>\n",
              "      <td>134</td>\n",
              "      <td>81</td>\n",
              "    </tr>\n",
              "    <tr>\n",
              "      <th>3</th>\n",
              "      <td>0</td>\n",
              "      <td>45</td>\n",
              "      <td>5.4</td>\n",
              "      <td>4</td>\n",
              "      <td>5</td>\n",
              "      <td>78</td>\n",
              "      <td>32</td>\n",
              "      <td>160</td>\n",
              "      <td>77</td>\n",
              "      <td>0</td>\n",
              "      <td>...</td>\n",
              "      <td>0</td>\n",
              "      <td>0</td>\n",
              "      <td>7.6</td>\n",
              "      <td>0</td>\n",
              "      <td>1</td>\n",
              "      <td>0</td>\n",
              "      <td>1</td>\n",
              "      <td>0</td>\n",
              "      <td>110</td>\n",
              "      <td>90</td>\n",
              "    </tr>\n",
              "    <tr>\n",
              "      <th>4</th>\n",
              "      <td>0</td>\n",
              "      <td>42</td>\n",
              "      <td>5.7</td>\n",
              "      <td>3</td>\n",
              "      <td>2</td>\n",
              "      <td>72</td>\n",
              "      <td>173</td>\n",
              "      <td>179</td>\n",
              "      <td>99</td>\n",
              "      <td>0</td>\n",
              "      <td>...</td>\n",
              "      <td>0</td>\n",
              "      <td>0</td>\n",
              "      <td>3.5</td>\n",
              "      <td>0</td>\n",
              "      <td>1</td>\n",
              "      <td>1</td>\n",
              "      <td>0</td>\n",
              "      <td>1</td>\n",
              "      <td>99</td>\n",
              "      <td>67</td>\n",
              "    </tr>\n",
              "  </tbody>\n",
              "</table>\n",
              "<p>5 rows × 26 columns</p>\n",
              "</div>"
            ],
            "text/plain": [
              "   Gender  Age  Sleep duration  Sleep quality  Stress level  Heart rate  \\\n",
              "0       0   24             9.5              2             1          67   \n",
              "1       1   39             9.6              2             3          60   \n",
              "2       0   45             5.4              1             5          95   \n",
              "3       0   45             5.4              4             5          78   \n",
              "4       0   42             5.7              3             2          72   \n",
              "\n",
              "   Physical activity  Height  Weight  Sleep disorder  ...  Ongoing medication  \\\n",
              "0                 31     161      69               1  ...                   1   \n",
              "1                 74     164      87               0  ...                   1   \n",
              "2                 93     179      94               1  ...                   0   \n",
              "3                 32     160      77               0  ...                   0   \n",
              "4                173     179      99               0  ...                   0   \n",
              "\n",
              "   Smart device before bed  Average screen time  Blue-light filter  \\\n",
              "0                        0                  8.7                  0   \n",
              "1                        0                  9.6                  1   \n",
              "2                        1                  4.0                  0   \n",
              "3                        0                  7.6                  0   \n",
              "4                        0                  3.5                  0   \n",
              "\n",
              "   Discomfort Eye-strain  Redness in eye  Itchiness/Irritation in eye  \\\n",
              "0                      1               1                            0   \n",
              "1                      0               0                            1   \n",
              "2                      1               0                            0   \n",
              "3                      1               0                            1   \n",
              "4                      1               1                            0   \n",
              "\n",
              "   Dry Eye Disease  Systolic_BP  Diastolic_BP  \n",
              "0                1          137            89  \n",
              "1                1          108            64  \n",
              "2                0          134            81  \n",
              "3                0          110            90  \n",
              "4                1           99            67  \n",
              "\n",
              "[5 rows x 26 columns]"
            ]
          },
          "execution_count": 35,
          "metadata": {},
          "output_type": "execute_result"
        }
      ],
      "source": [
        "df.head()"
      ]
    },
    {
      "cell_type": "code",
      "execution_count": 40,
      "metadata": {},
      "outputs": [
        {
          "data": {
            "text/plain": [
              "((20000, 25), (20000,))"
            ]
          },
          "execution_count": 40,
          "metadata": {},
          "output_type": "execute_result"
        }
      ],
      "source": [
        "X=df.drop(labels=['Dry Eye Disease'],axis=1)\n",
        "y=df['Dry Eye Disease']\n",
        "X.shape,y.shape"
      ]
    },
    {
      "cell_type": "code",
      "execution_count": 52,
      "metadata": {},
      "outputs": [],
      "source": [
        "X_train,X_test,y_train,y_test=train_test_split(X,y,test_size=0.2,random_state=42)"
      ]
    },
    {
      "cell_type": "code",
      "execution_count": 53,
      "metadata": {},
      "outputs": [],
      "source": [
        "X_train_s=X_train.copy()\n",
        "X_test_s=X_test.copy()\n",
        "sc=StandardScaler()\n",
        "X_train_s=sc.fit_transform(X_train_s)\n",
        "X_test_s=sc.transform(X_test_s)"
      ]
    },
    {
      "cell_type": "markdown",
      "metadata": {},
      "source": [
        "## Modelos"
      ]
    },
    {
      "cell_type": "code",
      "execution_count": 92,
      "metadata": {},
      "outputs": [],
      "source": [
        "from sklearn.linear_model import LogisticRegression\n",
        "from sklearn.metrics import classification_report,confusion_matrix,accuracy_score,ConfusionMatrixDisplay\n",
        "from sklearn.model_selection import cross_val_score,GridSearchCV\n",
        "from sklearn.tree import DecisionTreeClassifier\n",
        "from sklearn.ensemble import RandomForestClassifier"
      ]
    },
    {
      "cell_type": "markdown",
      "metadata": {},
      "source": [
        "### Modelo de Regresión Logística"
      ]
    },
    {
      "cell_type": "code",
      "execution_count": 80,
      "metadata": {},
      "outputs": [
        {
          "name": "stdout",
          "output_type": "stream",
          "text": [
            "Accuracy: 0.54375\n",
            "Classification Report:\n",
            "              precision    recall  f1-score   support\n",
            "\n",
            "           0       0.37      0.56      0.44      1307\n",
            "           1       0.71      0.54      0.61      2693\n",
            "\n",
            "    accuracy                           0.54      4000\n",
            "   macro avg       0.54      0.55      0.53      4000\n",
            "weighted avg       0.60      0.54      0.56      4000\n",
            "\n"
          ]
        }
      ],
      "source": [
        "model1=LogisticRegression(class_weight='balanced')\n",
        "model1.fit(X_train_s,y_train)\n",
        "y_pred=model1.predict(X_test_s)\n",
        "cm=confusion_matrix(y_test,y_pred,labels=model1.classes_)\n",
        "print('Accuracy:',accuracy_score(y_test,y_pred))\n",
        "print('Classification Report:',classification_report(y_test,y_pred),sep='\\n')"
      ]
    },
    {
      "cell_type": "code",
      "execution_count": 86,
      "metadata": {},
      "outputs": [
        {
          "data": {
            "text/plain": [
              "array([0, 1])"
            ]
          },
          "execution_count": 86,
          "metadata": {},
          "output_type": "execute_result"
        }
      ],
      "source": [
        "model1.classes_"
      ]
    },
    {
      "cell_type": "code",
      "execution_count": 94,
      "metadata": {},
      "outputs": [
        {
          "data": {
            "image/png": "[encoded data removed]",
            "text/plain": [
              "<Figure size 640x480 with 2 Axes>"
            ]
          },
          "metadata": {},
          "output_type": "display_data"
        }
      ],
      "source": [
        "disp=ConfusionMatrixDisplay(confusion_matrix=cm,display_labels=model1.classes_)\n",
        "fig,ax=plt.subplots()\n",
        "disp.plot(cmap='Blues',ax=ax,colorbar=True)\n",
        "ax.set_title('Matriz de confusión para la regresión logística')\n",
        "ax.grid(False)\n",
        "plt.show()"
      ]
    },
    {
      "cell_type": "code",
      "execution_count": 75,
      "metadata": {},
      "outputs": [
        {
          "name": "stdout",
          "output_type": "stream",
          "text": [
            "Fitting 5 folds for each of 20 candidates, totalling 100 fits\n"
          ]
        },
        {
          "data": {
            "text/html": [
              "<style>#sk-container-id-2 {\n",
              "  /* Definition of color scheme common for light and dark mode */\n",
              "  --sklearn-color-text: black;\n",
              "  --sklearn-color-line: gray;\n",
              "  /* Definition of color scheme for unfitted estimators */\n",
              "  --sklearn-color-unfitted-level-0: #fff5e6;\n",
              "  --sklearn-color-unfitted-level-1: #f6e4d2;\n",
              "  --sklearn-color-unfitted-level-2: #ffe0b3;\n",
              "  --sklearn-color-unfitted-level-3: chocolate;\n",
              "  /* Definition of color scheme for fitted estimators */\n",
              "  --sklearn-color-fitted-level-0: #f0f8ff;\n",
              "  --sklearn-color-fitted-level-1: #d4ebff;\n",
              "  --sklearn-color-fitted-level-2: #b3dbfd;\n",
              "  --sklearn-color-fitted-level-3: cornflowerblue;\n",
              "\n",
              "  /* Specific color for light theme */\n",
              "  --sklearn-color-text-on-default-background: var(--sg-text-color, var(--theme-code-foreground, var(--jp-content-font-color1, black)));\n",
              "  --sklearn-color-background: var(--sg-background-color, var(--theme-background, var(--jp-layout-color0, white)));\n",
              "  --sklearn-color-border-box: var(--sg-text-color, var(--theme-code-foreground, var(--jp-content-font-color1, black)));\n",
              "  --sklearn-color-icon: #696969;\n",
              "\n",
              "  @media (prefers-color-scheme: dark) {\n",
              "    /* Redefinition of color scheme for dark theme */\n",
              "    --sklearn-color-text-on-default-background: var(--sg-text-color, var(--theme-code-foreground, var(--jp-content-font-color1, white)));\n",
              "    --sklearn-color-background: var(--sg-background-color, var(--theme-background, var(--jp-layout-color0, #111)));\n",
              "    --sklearn-color-border-box: var(--sg-text-color, var(--theme-code-foreground, var(--jp-content-font-color1, white)));\n",
              "    --sklearn-color-icon: #878787;\n",
              "  }\n",
              "}\n",
              "\n",
              "#sk-container-id-2 {\n",
              "  color: var(--sklearn-color-text);\n",
              "}\n",
              "\n",
              "#sk-container-id-2 pre {\n",
              "  padding: 0;\n",
              "}\n",
              "\n",
              "#sk-container-id-2 input.sk-hidden--visually {\n",
              "  border: 0;\n",
              "  clip: rect(1px 1px 1px 1px);\n",
              "  clip: rect(1px, 1px, 1px, 1px);\n",
              "  height: 1px;\n",
              "  margin: -1px;\n",
              "  overflow: hidden;\n",
              "  padding: 0;\n",
              "  position: absolute;\n",
              "  width: 1px;\n",
              "}\n",
              "\n",
              "#sk-container-id-2 div.sk-dashed-wrapped {\n",
              "  border: 1px dashed var(--sklearn-color-line);\n",
              "  margin: 0 0.4em 0.5em 0.4em;\n",
              "  box-sizing: border-box;\n",
              "  padding-bottom: 0.4em;\n",
              "  background-color: var(--sklearn-color-background);\n",
              "}\n",
              "\n",
              "#sk-container-id-2 div.sk-container {\n",
              "  /* jupyter's `normalize.less` sets `[hidden] { display: none; }`\n",
              "     but bootstrap.min.css set `[hidden] { display: none !important; }`\n",
              "     so we also need the `!important` here to be able to override the\n",
              "     default hidden behavior on the sphinx rendered scikit-learn.org.\n",
              "     See: https://github.com/scikit-learn/scikit-learn/issues/21755 */\n",
              "  display: inline-block !important;\n",
              "  position: relative;\n",
              "}\n",
              "\n",
              "#sk-container-id-2 div.sk-text-repr-fallback {\n",
              "  display: none;\n",
              "}\n",
              "\n",
              "div.sk-parallel-item,\n",
              "div.sk-serial,\n",
              "div.sk-item {\n",
              "  /* draw centered vertical line to link estimators */\n",
              "  background-image: linear-gradient(var(--sklearn-color-text-on-default-background), var(--sklearn-color-text-on-default-background));\n",
              "  background-size: 2px 100%;\n",
              "  background-repeat: no-repeat;\n",
              "  background-position: center center;\n",
              "}\n",
              "\n",
              "/* Parallel-specific style estimator block */\n",
              "\n",
              "#sk-container-id-2 div.sk-parallel-item::after {\n",
              "  content: \"\";\n",
              "  width: 100%;\n",
              "  border-bottom: 2px solid var(--sklearn-color-text-on-default-background);\n",
              "  flex-grow: 1;\n",
              "}\n",
              "\n",
              "#sk-container-id-2 div.sk-parallel {\n",
              "  display: flex;\n",
              "  align-items: stretch;\n",
              "  justify-content: center;\n",
              "  background-color: var(--sklearn-color-background);\n",
              "  position: relative;\n",
              "}\n",
              "\n",
              "#sk-container-id-2 div.sk-parallel-item {\n",
              "  display: flex;\n",
              "  flex-direction: column;\n",
              "}\n",
              "\n",
              "#sk-container-id-2 div.sk-parallel-item:first-child::after {\n",
              "  align-self: flex-end;\n",
              "  width: 50%;\n",
              "}\n",
              "\n",
              "#sk-container-id-2 div.sk-parallel-item:last-child::after {\n",
              "  align-self: flex-start;\n",
              "  width: 50%;\n",
              "}\n",
              "\n",
              "#sk-container-id-2 div.sk-parallel-item:only-child::after {\n",
              "  width: 0;\n",
              "}\n",
              "\n",
              "/* Serial-specific style estimator block */\n",
              "\n",
              "#sk-container-id-2 div.sk-serial {\n",
              "  display: flex;\n",
              "  flex-direction: column;\n",
              "  align-items: center;\n",
              "  background-color: var(--sklearn-color-background);\n",
              "  padding-right: 1em;\n",
              "  padding-left: 1em;\n",
              "}\n",
              "\n",
              "\n",
              "/* Toggleable style: style used for estimator/Pipeline/ColumnTransformer box that is\n",
              "clickable and can be expanded/collapsed.\n",
              "- Pipeline and ColumnTransformer use this feature and define the default style\n",
              "- Estimators will overwrite some part of the style using the `sk-estimator` class\n",
              "*/\n",
              "\n",
              "/* Pipeline and ColumnTransformer style (default) */\n",
              "\n",
              "#sk-container-id-2 div.sk-toggleable {\n",
              "  /* Default theme specific background. It is overwritten whether we have a\n",
              "  specific estimator or a Pipeline/ColumnTransformer */\n",
              "  background-color: var(--sklearn-color-background);\n",
              "}\n",
              "\n",
              "/* Toggleable label */\n",
              "#sk-container-id-2 label.sk-toggleable__label {\n",
              "  cursor: pointer;\n",
              "  display: block;\n",
              "  width: 100%;\n",
              "  margin-bottom: 0;\n",
              "  padding: 0.5em;\n",
              "  box-sizing: border-box;\n",
              "  text-align: center;\n",
              "}\n",
              "\n",
              "#sk-container-id-2 label.sk-toggleable__label-arrow:before {\n",
              "  /* Arrow on the left of the label */\n",
              "  content: \"▸\";\n",
              "  float: left;\n",
              "  margin-right: 0.25em;\n",
              "  color: var(--sklearn-color-icon);\n",
              "}\n",
              "\n",
              "#sk-container-id-2 label.sk-toggleable__label-arrow:hover:before {\n",
              "  color: var(--sklearn-color-text);\n",
              "}\n",
              "\n",
              "/* Toggleable content - dropdown */\n",
              "\n",
              "#sk-container-id-2 div.sk-toggleable__content {\n",
              "  max-height: 0;\n",
              "  max-width: 0;\n",
              "  overflow: hidden;\n",
              "  text-align: left;\n",
              "  /* unfitted */\n",
              "  background-color: var(--sklearn-color-unfitted-level-0);\n",
              "}\n",
              "\n",
              "#sk-container-id-2 div.sk-toggleable__content.fitted {\n",
              "  /* fitted */\n",
              "  background-color: var(--sklearn-color-fitted-level-0);\n",
              "}\n",
              "\n",
              "#sk-container-id-2 div.sk-toggleable__content pre {\n",
              "  margin: 0.2em;\n",
              "  border-radius: 0.25em;\n",
              "  color: var(--sklearn-color-text);\n",
              "  /* unfitted */\n",
              "  background-color: var(--sklearn-color-unfitted-level-0);\n",
              "}\n",
              "\n",
              "#sk-container-id-2 div.sk-toggleable__content.fitted pre {\n",
              "  /* unfitted */\n",
              "  background-color: var(--sklearn-color-fitted-level-0);\n",
              "}\n",
              "\n",
              "#sk-container-id-2 input.sk-toggleable__control:checked~div.sk-toggleable__content {\n",
              "  /* Expand drop-down */\n",
              "  max-height: 200px;\n",
              "  max-width: 100%;\n",
              "  overflow: auto;\n",
              "}\n",
              "\n",
              "#sk-container-id-2 input.sk-toggleable__control:checked~label.sk-toggleable__label-arrow:before {\n",
              "  content: \"▾\";\n",
              "}\n",
              "\n",
              "/* Pipeline/ColumnTransformer-specific style */\n",
              "\n",
              "#sk-container-id-2 div.sk-label input.sk-toggleable__control:checked~label.sk-toggleable__label {\n",
              "  color: var(--sklearn-color-text);\n",
              "  background-color: var(--sklearn-color-unfitted-level-2);\n",
              "}\n",
              "\n",
              "#sk-container-id-2 div.sk-label.fitted input.sk-toggleable__control:checked~label.sk-toggleable__label {\n",
              "  background-color: var(--sklearn-color-fitted-level-2);\n",
              "}\n",
              "\n",
              "/* Estimator-specific style */\n",
              "\n",
              "/* Colorize estimator box */\n",
              "#sk-container-id-2 div.sk-estimator input.sk-toggleable__control:checked~label.sk-toggleable__label {\n",
              "  /* unfitted */\n",
              "  background-color: var(--sklearn-color-unfitted-level-2);\n",
              "}\n",
              "\n",
              "#sk-container-id-2 div.sk-estimator.fitted input.sk-toggleable__control:checked~label.sk-toggleable__label {\n",
              "  /* fitted */\n",
              "  background-color: var(--sklearn-color-fitted-level-2);\n",
              "}\n",
              "\n",
              "#sk-container-id-2 div.sk-label label.sk-toggleable__label,\n",
              "#sk-container-id-2 div.sk-label label {\n",
              "  /* The background is the default theme color */\n",
              "  color: var(--sklearn-color-text-on-default-background);\n",
              "}\n",
              "\n",
              "/* On hover, darken the color of the background */\n",
              "#sk-container-id-2 div.sk-label:hover label.sk-toggleable__label {\n",
              "  color: var(--sklearn-color-text);\n",
              "  background-color: var(--sklearn-color-unfitted-level-2);\n",
              "}\n",
              "\n",
              "/* Label box, darken color on hover, fitted */\n",
              "#sk-container-id-2 div.sk-label.fitted:hover label.sk-toggleable__label.fitted {\n",
              "  color: var(--sklearn-color-text);\n",
              "  background-color: var(--sklearn-color-fitted-level-2);\n",
              "}\n",
              "\n",
              "/* Estimator label */\n",
              "\n",
              "#sk-container-id-2 div.sk-label label {\n",
              "  font-family: monospace;\n",
              "  font-weight: bold;\n",
              "  display: inline-block;\n",
              "  line-height: 1.2em;\n",
              "}\n",
              "\n",
              "#sk-container-id-2 div.sk-label-container {\n",
              "  text-align: center;\n",
              "}\n",
              "\n",
              "/* Estimator-specific */\n",
              "#sk-container-id-2 div.sk-estimator {\n",
              "  font-family: monospace;\n",
              "  border: 1px dotted var(--sklearn-color-border-box);\n",
              "  border-radius: 0.25em;\n",
              "  box-sizing: border-box;\n",
              "  margin-bottom: 0.5em;\n",
              "  /* unfitted */\n",
              "  background-color: var(--sklearn-color-unfitted-level-0);\n",
              "}\n",
              "\n",
              "#sk-container-id-2 div.sk-estimator.fitted {\n",
              "  /* fitted */\n",
              "  background-color: var(--sklearn-color-fitted-level-0);\n",
              "}\n",
              "\n",
              "/* on hover */\n",
              "#sk-container-id-2 div.sk-estimator:hover {\n",
              "  /* unfitted */\n",
              "  background-color: var(--sklearn-color-unfitted-level-2);\n",
              "}\n",
              "\n",
              "#sk-container-id-2 div.sk-estimator.fitted:hover {\n",
              "  /* fitted */\n",
              "  background-color: var(--sklearn-color-fitted-level-2);\n",
              "}\n",
              "\n",
              "/* Specification for estimator info (e.g. \"i\" and \"?\") */\n",
              "\n",
              "/* Common style for \"i\" and \"?\" */\n",
              "\n",
              ".sk-estimator-doc-link,\n",
              "a:link.sk-estimator-doc-link,\n",
              "a:visited.sk-estimator-doc-link {\n",
              "  float: right;\n",
              "  font-size: smaller;\n",
              "  line-height: 1em;\n",
              "  font-family: monospace;\n",
              "  background-color: var(--sklearn-color-background);\n",
              "  border-radius: 1em;\n",
              "  height: 1em;\n",
              "  width: 1em;\n",
              "  text-decoration: none !important;\n",
              "  margin-left: 1ex;\n",
              "  /* unfitted */\n",
              "  border: var(--sklearn-color-unfitted-level-1) 1pt solid;\n",
              "  color: var(--sklearn-color-unfitted-level-1);\n",
              "}\n",
              "\n",
              ".sk-estimator-doc-link.fitted,\n",
              "a:link.sk-estimator-doc-link.fitted,\n",
              "a:visited.sk-estimator-doc-link.fitted {\n",
              "  /* fitted */\n",
              "  border: var(--sklearn-color-fitted-level-1) 1pt solid;\n",
              "  color: var(--sklearn-color-fitted-level-1);\n",
              "}\n",
              "\n",
              "/* On hover */\n",
              "div.sk-estimator:hover .sk-estimator-doc-link:hover,\n",
              ".sk-estimator-doc-link:hover,\n",
              "div.sk-label-container:hover .sk-estimator-doc-link:hover,\n",
              ".sk-estimator-doc-link:hover {\n",
              "  /* unfitted */\n",
              "  background-color: var(--sklearn-color-unfitted-level-3);\n",
              "  color: var(--sklearn-color-background);\n",
              "  text-decoration: none;\n",
              "}\n",
              "\n",
              "div.sk-estimator.fitted:hover .sk-estimator-doc-link.fitted:hover,\n",
              ".sk-estimator-doc-link.fitted:hover,\n",
              "div.sk-label-container:hover .sk-estimator-doc-link.fitted:hover,\n",
              ".sk-estimator-doc-link.fitted:hover {\n",
              "  /* fitted */\n",
              "  background-color: var(--sklearn-color-fitted-level-3);\n",
              "  color: var(--sklearn-color-background);\n",
              "  text-decoration: none;\n",
              "}\n",
              "\n",
              "/* Span, style for the box shown on hovering the info icon */\n",
              ".sk-estimator-doc-link span {\n",
              "  display: none;\n",
              "  z-index: 9999;\n",
              "  position: relative;\n",
              "  font-weight: normal;\n",
              "  right: .2ex;\n",
              "  padding: .5ex;\n",
              "  margin: .5ex;\n",
              "  width: min-content;\n",
              "  min-width: 20ex;\n",
              "  max-width: 50ex;\n",
              "  color: var(--sklearn-color-text);\n",
              "  box-shadow: 2pt 2pt 4pt #999;\n",
              "  /* unfitted */\n",
              "  background: var(--sklearn-color-unfitted-level-0);\n",
              "  border: .5pt solid var(--sklearn-color-unfitted-level-3);\n",
              "}\n",
              "\n",
              ".sk-estimator-doc-link.fitted span {\n",
              "  /* fitted */\n",
              "  background: var(--sklearn-color-fitted-level-0);\n",
              "  border: var(--sklearn-color-fitted-level-3);\n",
              "}\n",
              "\n",
              ".sk-estimator-doc-link:hover span {\n",
              "  display: block;\n",
              "}\n",
              "\n",
              "/* \"?\"-specific style due to the `<a>` HTML tag */\n",
              "\n",
              "#sk-container-id-2 a.estimator_doc_link {\n",
              "  float: right;\n",
              "  font-size: 1rem;\n",
              "  line-height: 1em;\n",
              "  font-family: monospace;\n",
              "  background-color: var(--sklearn-color-background);\n",
              "  border-radius: 1rem;\n",
              "  height: 1rem;\n",
              "  width: 1rem;\n",
              "  text-decoration: none;\n",
              "  /* unfitted */\n",
              "  color: var(--sklearn-color-unfitted-level-1);\n",
              "  border: var(--sklearn-color-unfitted-level-1) 1pt solid;\n",
              "}\n",
              "\n",
              "#sk-container-id-2 a.estimator_doc_link.fitted {\n",
              "  /* fitted */\n",
              "  border: var(--sklearn-color-fitted-level-1) 1pt solid;\n",
              "  color: var(--sklearn-color-fitted-level-1);\n",
              "}\n",
              "\n",
              "/* On hover */\n",
              "#sk-container-id-2 a.estimator_doc_link:hover {\n",
              "  /* unfitted */\n",
              "  background-color: var(--sklearn-color-unfitted-level-3);\n",
              "  color: var(--sklearn-color-background);\n",
              "  text-decoration: none;\n",
              "}\n",
              "\n",
              "#sk-container-id-2 a.estimator_doc_link.fitted:hover {\n",
              "  /* fitted */\n",
              "  background-color: var(--sklearn-color-fitted-level-3);\n",
              "}\n",
              "</style><div id=\"sk-container-id-2\" class=\"sk-top-container\"><div class=\"sk-text-repr-fallback\"><pre>GridSearchCV(cv=5, estimator=LogisticRegression(class_weight=&#x27;balanced&#x27;),\n",
              "             n_jobs=-1,\n",
              "             param_grid={&#x27;C&#x27;: [0.01, 0.1, 1, 10, 100], &#x27;penalty&#x27;: [&#x27;l1&#x27;, &#x27;l2&#x27;],\n",
              "                         &#x27;solver&#x27;: [&#x27;liblinear&#x27;, &#x27;saga&#x27;]},\n",
              "             scoring=&#x27;accuracy&#x27;, verbose=1)</pre><b>In a Jupyter environment, please rerun this cell to show the HTML representation or trust the notebook. <br />On GitHub, the HTML representation is unable to render, please try loading this page with nbviewer.org.</b></div><div class=\"sk-container\" hidden><div class=\"sk-item sk-dashed-wrapped\"><div class=\"sk-label-container\"><div class=\"sk-label fitted sk-toggleable\"><input class=\"sk-toggleable__control sk-hidden--visually\" id=\"sk-estimator-id-4\" type=\"checkbox\" ><label for=\"sk-estimator-id-4\" class=\"sk-toggleable__label fitted sk-toggleable__label-arrow fitted\">&nbsp;&nbsp;GridSearchCV<a class=\"sk-estimator-doc-link fitted\" rel=\"noreferrer\" target=\"_blank\" href=\"https://scikit-learn.org/1.5/modules/generated/sklearn.model_selection.GridSearchCV.html\">?<span>Documentation for GridSearchCV</span></a><span class=\"sk-estimator-doc-link fitted\">i<span>Fitted</span></span></label><div class=\"sk-toggleable__content fitted\"><pre>GridSearchCV(cv=5, estimator=LogisticRegression(class_weight=&#x27;balanced&#x27;),\n",
              "             n_jobs=-1,\n",
              "             param_grid={&#x27;C&#x27;: [0.01, 0.1, 1, 10, 100], &#x27;penalty&#x27;: [&#x27;l1&#x27;, &#x27;l2&#x27;],\n",
              "                         &#x27;solver&#x27;: [&#x27;liblinear&#x27;, &#x27;saga&#x27;]},\n",
              "             scoring=&#x27;accuracy&#x27;, verbose=1)</pre></div> </div></div><div class=\"sk-parallel\"><div class=\"sk-parallel-item\"><div class=\"sk-item\"><div class=\"sk-label-container\"><div class=\"sk-label fitted sk-toggleable\"><input class=\"sk-toggleable__control sk-hidden--visually\" id=\"sk-estimator-id-5\" type=\"checkbox\" ><label for=\"sk-estimator-id-5\" class=\"sk-toggleable__label fitted sk-toggleable__label-arrow fitted\">best_estimator_: LogisticRegression</label><div class=\"sk-toggleable__content fitted\"><pre>LogisticRegression(C=0.1, class_weight=&#x27;balanced&#x27;, solver=&#x27;saga&#x27;)</pre></div> </div></div><div class=\"sk-serial\"><div class=\"sk-item\"><div class=\"sk-estimator fitted sk-toggleable\"><input class=\"sk-toggleable__control sk-hidden--visually\" id=\"sk-estimator-id-6\" type=\"checkbox\" ><label for=\"sk-estimator-id-6\" class=\"sk-toggleable__label fitted sk-toggleable__label-arrow fitted\">&nbsp;LogisticRegression<a class=\"sk-estimator-doc-link fitted\" rel=\"noreferrer\" target=\"_blank\" href=\"https://scikit-learn.org/1.5/modules/generated/sklearn.linear_model.LogisticRegression.html\">?<span>Documentation for LogisticRegression</span></a></label><div class=\"sk-toggleable__content fitted\"><pre>LogisticRegression(C=0.1, class_weight=&#x27;balanced&#x27;, solver=&#x27;saga&#x27;)</pre></div> </div></div></div></div></div></div></div></div></div>"
            ],
            "text/plain": [
              "GridSearchCV(cv=5, estimator=LogisticRegression(class_weight='balanced'),\n",
              "             n_jobs=-1,\n",
              "             param_grid={'C': [0.01, 0.1, 1, 10, 100], 'penalty': ['l1', 'l2'],\n",
              "                         'solver': ['liblinear', 'saga']},\n",
              "             scoring='accuracy', verbose=1)"
            ]
          },
          "execution_count": 75,
          "metadata": {},
          "output_type": "execute_result"
        }
      ],
      "source": [
        "param_grid={'C':[0.01,0.1,1,10,100],'penalty':['l1','l2'],'solver':['liblinear','saga']}\n",
        "grid=GridSearchCV(LogisticRegression(class_weight='balanced'),param_grid,cv=5,scoring='accuracy',verbose=1,n_jobs=-1)\n",
        "grid.fit(X_train_s,y_train)"
      ]
    },
    {
      "cell_type": "code",
      "execution_count": 76,
      "metadata": {},
      "outputs": [
        {
          "data": {
            "text/plain": [
              "0.5586249999999999"
            ]
          },
          "execution_count": 76,
          "metadata": {},
          "output_type": "execute_result"
        }
      ],
      "source": [
        "grid.best_score_"
      ]
    },
    {
      "cell_type": "code",
      "execution_count": 77,
      "metadata": {},
      "outputs": [
        {
          "data": {
            "text/plain": [
              "{'C': 0.1, 'penalty': 'l2', 'solver': 'saga'}"
            ]
          },
          "execution_count": 77,
          "metadata": {},
          "output_type": "execute_result"
        }
      ],
      "source": [
        "grid.best_params_"
      ]
    },
    {
      "cell_type": "code",
      "execution_count": 78,
      "metadata": {},
      "outputs": [
        {
          "name": "stdout",
          "output_type": "stream",
          "text": [
            "Accuracy: 0.54375\n"
          ]
        }
      ],
      "source": [
        "model2=grid.best_estimator_\n",
        "pred2=model2.predict(X_test_s)\n",
        "print('Accuracy:',accuracy_score(y_test,pred2))"
      ]
    },
    {
      "cell_type": "markdown",
      "metadata": {},
      "source": [
        "### Desicion Tree"
      ]
    },
    {
      "cell_type": "code",
      "execution_count": 101,
      "metadata": {},
      "outputs": [
        {
          "name": "stdout",
          "output_type": "stream",
          "text": [
            "Accuracy: 0.62\n",
            "Classification Report:\n",
            "              precision    recall  f1-score   support\n",
            "\n",
            "           0       0.40      0.34      0.37      1307\n",
            "           1       0.70      0.76      0.73      2693\n",
            "\n",
            "    accuracy                           0.62      4000\n",
            "   macro avg       0.55      0.55      0.55      4000\n",
            "weighted avg       0.60      0.62      0.61      4000\n",
            "\n"
          ]
        }
      ],
      "source": [
        "model2=DecisionTreeClassifier(max_depth=12)\n",
        "model2.fit(X_train_s,y_train)\n",
        "y_pred=model2.predict(X_test_s)\n",
        "cm2=confusion_matrix(y_test,y_pred,labels=model2.classes_)\n",
        "print('Accuracy:',accuracy_score(y_test,y_pred))\n",
        "print('Classification Report:',classification_report(y_test,y_pred),sep='\\n')"
      ]
    },
    {
      "cell_type": "code",
      "execution_count": 102,
      "metadata": {},
      "outputs": [
        {
          "data": {
            "image/png": "[encoded data removed]",
            "text/plain": [
              "<Figure size 640x480 with 2 Axes>"
            ]
          },
          "metadata": {},
          "output_type": "display_data"
        }
      ],
      "source": [
        "disp=ConfusionMatrixDisplay(confusion_matrix=cm2,display_labels=model2.classes_)\n",
        "fig,ax=plt.subplots()\n",
        "disp.plot(cmap='Blues',ax=ax,colorbar=True)\n",
        "ax.set_title('Matriz de confusión para el arbol de decisión')\n",
        "ax.grid(False)\n",
        "plt.show()"
      ]
    }
  ],
  "metadata": {
    "colab": {
      "provenance": []
    },
    "kernelspec": {
      "display_name": "Python 3",
      "language": "python",
      "name": "python3"
    },
    "language_info": {
      "codemirror_mode": {
        "name": "ipython",
        "version": 3
      },
      "file_extension": ".py",
      "mimetype": "text/x-python",
      "name": "python",
      "nbconvert_exporter": "python",
      "pygments_lexer": "ipython3",
      "version": "3.12.6"
    }
  },
  "nbformat": 4,
  "nbformat_minor": 0
}
