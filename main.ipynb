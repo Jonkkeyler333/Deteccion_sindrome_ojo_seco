{
  "cells": [
    {
      "cell_type": "markdown",
      "metadata": {
        "id": "8KB41TUjwAVa"
      },
      "source": [
        "# **Detección de síndrome del ojo seco empleando atributos del estilo de vida de la persona y variables medicas**"
      ]
    },
    {
      "cell_type": "markdown",
      "metadata": {
        "id": "6jZvpHVTwAVi"
      },
      "source": [
        "**Integrantes:**\n",
        "\n",
        "**Grupo E2:**\n",
        "\n",
        "*   2215636: Greyler Jose Chacon Chaparro\n",
        "*   2221551: Jonk Keyler Sanchez Pabon\n",
        "\n",
        "\n",
        "**Grupo E1:**\n",
        "*    2220085: Samuel David Traslaviña Mateus  \n",
        "\n",
        "\n",
        "\n",
        "\n"
      ]
    },
    {
      "cell_type": "markdown",
      "metadata": {
        "id": "9nEKeDS629Jw"
      },
      "source": [
        "## Introducción\n",
        "\n",
        "El síndrome o enfermedad del ojo seco , es una afección frecuente que afecta la pelicula lagrimal , esta es una capa líquida que recubre la córnea y la conjuntiva del ojo.\n",
        "\n",
        "![images.jpg](https://encrypted-tbn0.gstatic.com/images?q=tbn:ANd9GcQU4FnFQ-bCEpi2II7OeCB7wSPmnf6B-CAhuw&s)\n",
        "\n",
        "Sucede cuando no se tienen suficientes lágrimas , son inestables e inclusive se evaporan muy rapido , esto conlleva en inflamación y daño en la superficie ocular , recondando que las lágrimas mantienen la supercie del ojo húmeda , evitando la irritación , estabilizando la visión y protegiendo de infecciones y agentes externos (polvo,pequeñas particulas,etc).\n",
        "\n",
        "## Causas\n",
        "\n",
        "Las causas del síndrome del ojo seco pueden ser variadas , pero , engloban situaciones que alteran la película lagrimal sana , entre ellas se tienen :\n",
        "- Menor producción de lágrimas : No se tiene la capacidad de producir suficientes lágrimas por factores como envejecimiento , falta de vitamina A , ciertos medicamentos , lentes de contacto o cirugías previas en los ojos.\n",
        "\n",
        "- Evaporación rápida de las lágrimas : Puede ser causada por factores como el viento seco, el humo , el aire acondicionado , el uso de pantallas digitales por periodos prolongados , alergias que afectan el ojo , pestañear con menos frecuencia.\n",
        "\n",
        "## Objetivo\n",
        "\n",
        "La enfermedad puede tener diferentes factores de riesgos que pueden estar relacionados a los hábitos que tiene la persona , como tiempo de exposición a pantallas , actividad fisica , edad , antecedentes medicos ,entre otros , por lo cual , si se cuentan con registros de estos factores para diferentes pacientes con y sin la enfermedad , se puede lograr usar herramientas de IA para ayudar a prevenir la enfermedad o detectarla a tiempo.\n",
        "\n",
        "Este proyecto tiene como objetivo :\n",
        "\n",
        "**Desarrollar de un modelo de Machine Learning que permita predecir si una persona tiene o no el síndrome del ojo seco (Clasificación binaria)**, basado en:\n",
        "\n",
        "- Factores de riesgo relacionados con el estilo de vida:\n",
        "    Tiempo de exposición a pantallas.\n",
        "    Actividad física.\n",
        "    Hábitos de alimentación.\n",
        "    Consumo de alcohol y tabaco.\n",
        "\n",
        "- Variables médicas:\n",
        "    Edad.\n",
        "    Antecedentes de enfermedades.\n",
        "    Uso de lentes de contacto o cirugías previas.\n",
        "    Salud ocular en general."
      ]
    },
    {
      "cell_type": "markdown",
      "metadata": {
        "id": "mxd2MXub29Jx"
      },
      "source": [
        "## Descripción del dataset\n",
        "El dataset contiene información sobre los hábitos de sueño, actividad física y factores de salud de 20,000 sujetos, con el objetivo de analizar su relación con la enfermedad del ojo seco (_Dry Eye Disease_). Incluye variables demográficas como género y edad, métricas de salud como presión arterial y frecuencia cardíaca, y factores de estilo de vida como consumo de cafeína, alcohol y uso de dispositivos electrónicos antes de dormir. La variable a predecir es ```Dry Eye Disease```, que indica si un sujeto padece esta afección."
      ]
    },
    {
      "cell_type": "markdown",
      "metadata": {
        "id": "2aPMJYlT29Jx"
      },
      "source": [
        "### Información General\n",
        "Nombre: Dry Eye Disease\n",
        "<br>Autor: dakshnagra\n",
        "<br>Disponible en: https://www.kaggle.com/datasets/dakshnagra/dry-eye-disease"
      ]
    },
    {
      "cell_type": "markdown",
      "metadata": {
        "id": "NgUg6Xvz29Jy"
      },
      "source": [
        "### Clasificación de las variables\n",
        "#### Por tipo de dato\n",
        "- Variables cualitativas nominales:\n",
        "<br> Gender / Sleep_disorder / Wake_up_during_night / Feel_sleepy_during_day / Caffeine_consumption / Alcohol_consumption / Smoking / Medical_issue / Ongoing_medication / Smart_device_before_bed / Blue-light_filter / Discomfort_Eye-strain / Redness_in_eye / Itchiness_Irritation_in_eye / Dry_Eye_Disease\n",
        "\n",
        "- Variables cuantitativas discretas:\n",
        "<br> Age / Heart_rate / Daily_steps / Sleep_quality / Stress_level\n",
        "\n",
        "- Variables cuantitativas continuas:\n",
        "<br> Sleep_duration / Blood_pressure / Physical_activity / Height / Weight / Average_screen_time\n",
        "\n",
        "#### Por temática\n",
        "- Variables demográficas:\n",
        "<br> Age / Gender\n",
        "\n",
        "- Variables biométricas / fisiológicas:\n",
        "<br> Height / Weight / Heart_rate / Blood_pressure\n",
        "\n",
        "- Variables de hábitos y estilo de vida:\n",
        "<br> Daily_steps / Physical_activity / Caffeine_consumption / Alcohol_consumption / Smoking / Smart_device_before_bed / Average_screen_time / Blue-light_filter\n",
        "\n",
        "- Variables relacionadas con el sueño:\n",
        "<br> Sleep_duration / Sleep_quality / Sleep_disorder / Wake_up_during_night / Feel_sleepy_during_day\n",
        "\n",
        "- Variables de salud general:\n",
        "<br> Stress_level / Medical_issue / Ongoing_medication\n",
        "\n",
        "- Variables relacionadas con la salud ocular:\n",
        "<br> Discomfort_Eye-strain / Redness_in_eye / Itchiness_Irritation_in_eye / Dry_Eye_Disease"
      ]
    },
    {
      "cell_type": "markdown",
      "metadata": {
        "id": "kRDArsc8wAVj"
      },
      "source": [
        "## Importar los paquetes necesarios"
      ]
    },
    {
      "cell_type": "code",
      "execution_count": 1,
      "metadata": {
        "id": "TmClpKdDwAVm"
      },
      "outputs": [],
      "source": [
        "import pandas as pd\n",
        "import numpy as np\n",
        "import matplotlib.pyplot as plt\n",
        "import seaborn as sns\n",
        "plt.style.use('ggplot')"
      ]
    },
    {
      "cell_type": "code",
      "execution_count": 2,
      "metadata": {
        "id": "6d3YhG1LwAVr"
      },
      "outputs": [],
      "source": [
        "sns.set_context('notebook')"
      ]
    },
    {
      "cell_type": "markdown",
      "metadata": {
        "id": "aVUF0IQLwAVt"
      },
      "source": [
        "## Carga de datos"
      ]
    },
    {
      "cell_type": "code",
      "execution_count": 3,
      "metadata": {
        "id": "Q4ZCdkLHwAVv"
      },
      "outputs": [],
      "source": [
        "url='https://drive.google.com/uc?export=download&id=1rsinyuJoJesd_UyrLaD0u-ECzJH4PHFA'"
      ]
    },
    {
      "cell_type": "code",
      "execution_count": 4,
      "metadata": {
        "colab": {
          "base_uri": "https://localhost:8080/",
          "height": 307
        },
        "id": "Jt-Xnsq8wAVx",
        "outputId": "e82c5468-d21e-4270-f040-86fd4ae59cd2"
      },
      "outputs": [
        {
          "data": {
            "application/vnd.microsoft.datawrangler.viewer.v0+json": {
              "columns": [
                {
                  "name": "index",
                  "rawType": "int64",
                  "type": "integer"
                },
                {
                  "name": "Gender",
                  "rawType": "object",
                  "type": "string"
                },
                {
                  "name": "Age",
                  "rawType": "int64",
                  "type": "integer"
                },
                {
                  "name": "Sleep duration",
                  "rawType": "float64",
                  "type": "float"
                },
                {
                  "name": "Sleep quality",
                  "rawType": "int64",
                  "type": "integer"
                },
                {
                  "name": "Stress level",
                  "rawType": "int64",
                  "type": "integer"
                },
                {
                  "name": "Blood pressure",
                  "rawType": "object",
                  "type": "string"
                },
                {
                  "name": "Heart rate",
                  "rawType": "int64",
                  "type": "integer"
                },
                {
                  "name": "Daily steps",
                  "rawType": "int64",
                  "type": "integer"
                },
                {
                  "name": "Physical activity",
                  "rawType": "int64",
                  "type": "integer"
                },
                {
                  "name": "Height",
                  "rawType": "int64",
                  "type": "integer"
                },
                {
                  "name": "Weight",
                  "rawType": "int64",
                  "type": "integer"
                },
                {
                  "name": "Sleep disorder",
                  "rawType": "object",
                  "type": "string"
                },
                {
                  "name": "Wake up during night",
                  "rawType": "object",
                  "type": "string"
                },
                {
                  "name": "Feel sleepy during day",
                  "rawType": "object",
                  "type": "string"
                },
                {
                  "name": "Caffeine consumption",
                  "rawType": "object",
                  "type": "string"
                },
                {
                  "name": "Alcohol consumption",
                  "rawType": "object",
                  "type": "string"
                },
                {
                  "name": "Smoking",
                  "rawType": "object",
                  "type": "string"
                },
                {
                  "name": "Medical issue",
                  "rawType": "object",
                  "type": "string"
                },
                {
                  "name": "Ongoing medication",
                  "rawType": "object",
                  "type": "string"
                },
                {
                  "name": "Smart device before bed",
                  "rawType": "object",
                  "type": "string"
                },
                {
                  "name": "Average screen time",
                  "rawType": "float64",
                  "type": "float"
                },
                {
                  "name": "Blue-light filter",
                  "rawType": "object",
                  "type": "string"
                },
                {
                  "name": "Discomfort Eye-strain",
                  "rawType": "object",
                  "type": "string"
                },
                {
                  "name": "Redness in eye",
                  "rawType": "object",
                  "type": "string"
                },
                {
                  "name": "Itchiness/Irritation in eye",
                  "rawType": "object",
                  "type": "string"
                },
                {
                  "name": "Dry Eye Disease",
                  "rawType": "object",
                  "type": "string"
                }
              ],
              "conversionMethod": "pd.DataFrame",
              "ref": "e2d816df-81dd-4b4f-9073-482700d06b20",
              "rows": [
                [
                  "0",
                  "F",
                  "24",
                  "9.5",
                  "2",
                  "1",
                  "137/89",
                  "67",
                  "3000",
                  "31",
                  "161",
                  "69",
                  "Y",
                  "N",
                  "N",
                  "N",
                  "N",
                  "N",
                  "Y",
                  "Y",
                  "N",
                  "8.7",
                  "N",
                  "Y",
                  "Y",
                  "N",
                  "Y"
                ],
                [
                  "1",
                  "M",
                  "39",
                  "9.6",
                  "2",
                  "3",
                  "108/64",
                  "60",
                  "12000",
                  "74",
                  "164",
                  "87",
                  "N",
                  "N",
                  "N",
                  "N",
                  "Y",
                  "N",
                  "Y",
                  "Y",
                  "N",
                  "9.6",
                  "Y",
                  "N",
                  "N",
                  "Y",
                  "Y"
                ],
                [
                  "2",
                  "F",
                  "45",
                  "5.4",
                  "1",
                  "5",
                  "134/81",
                  "95",
                  "12000",
                  "93",
                  "179",
                  "94",
                  "Y",
                  "Y",
                  "N",
                  "Y",
                  "Y",
                  "N",
                  "N",
                  "N",
                  "Y",
                  "4.0",
                  "N",
                  "Y",
                  "N",
                  "N",
                  "N"
                ],
                [
                  "3",
                  "F",
                  "45",
                  "5.4",
                  "4",
                  "5",
                  "110/90",
                  "78",
                  "19000",
                  "32",
                  "160",
                  "77",
                  "N",
                  "N",
                  "N",
                  "Y",
                  "N",
                  "N",
                  "Y",
                  "N",
                  "N",
                  "7.6",
                  "N",
                  "Y",
                  "N",
                  "Y",
                  "N"
                ],
                [
                  "4",
                  "F",
                  "42",
                  "5.7",
                  "3",
                  "2",
                  "99/67",
                  "72",
                  "4000",
                  "173",
                  "179",
                  "99",
                  "N",
                  "Y",
                  "N",
                  "N",
                  "N",
                  "N",
                  "Y",
                  "N",
                  "N",
                  "3.5",
                  "N",
                  "Y",
                  "Y",
                  "N",
                  "Y"
                ]
              ],
              "shape": {
                "columns": 26,
                "rows": 5
              }
            },
            "text/html": [
              "<div>\n",
              "<style scoped>\n",
              "    .dataframe tbody tr th:only-of-type {\n",
              "        vertical-align: middle;\n",
              "    }\n",
              "\n",
              "    .dataframe tbody tr th {\n",
              "        vertical-align: top;\n",
              "    }\n",
              "\n",
              "    .dataframe thead th {\n",
              "        text-align: right;\n",
              "    }\n",
              "</style>\n",
              "<table border=\"1\" class=\"dataframe\">\n",
              "  <thead>\n",
              "    <tr style=\"text-align: right;\">\n",
              "      <th></th>\n",
              "      <th>Gender</th>\n",
              "      <th>Age</th>\n",
              "      <th>Sleep duration</th>\n",
              "      <th>Sleep quality</th>\n",
              "      <th>Stress level</th>\n",
              "      <th>Blood pressure</th>\n",
              "      <th>Heart rate</th>\n",
              "      <th>Daily steps</th>\n",
              "      <th>Physical activity</th>\n",
              "      <th>Height</th>\n",
              "      <th>...</th>\n",
              "      <th>Smoking</th>\n",
              "      <th>Medical issue</th>\n",
              "      <th>Ongoing medication</th>\n",
              "      <th>Smart device before bed</th>\n",
              "      <th>Average screen time</th>\n",
              "      <th>Blue-light filter</th>\n",
              "      <th>Discomfort Eye-strain</th>\n",
              "      <th>Redness in eye</th>\n",
              "      <th>Itchiness/Irritation in eye</th>\n",
              "      <th>Dry Eye Disease</th>\n",
              "    </tr>\n",
              "  </thead>\n",
              "  <tbody>\n",
              "    <tr>\n",
              "      <th>0</th>\n",
              "      <td>F</td>\n",
              "      <td>24</td>\n",
              "      <td>9.5</td>\n",
              "      <td>2</td>\n",
              "      <td>1</td>\n",
              "      <td>137/89</td>\n",
              "      <td>67</td>\n",
              "      <td>3000</td>\n",
              "      <td>31</td>\n",
              "      <td>161</td>\n",
              "      <td>...</td>\n",
              "      <td>N</td>\n",
              "      <td>Y</td>\n",
              "      <td>Y</td>\n",
              "      <td>N</td>\n",
              "      <td>8.7</td>\n",
              "      <td>N</td>\n",
              "      <td>Y</td>\n",
              "      <td>Y</td>\n",
              "      <td>N</td>\n",
              "      <td>Y</td>\n",
              "    </tr>\n",
              "    <tr>\n",
              "      <th>1</th>\n",
              "      <td>M</td>\n",
              "      <td>39</td>\n",
              "      <td>9.6</td>\n",
              "      <td>2</td>\n",
              "      <td>3</td>\n",
              "      <td>108/64</td>\n",
              "      <td>60</td>\n",
              "      <td>12000</td>\n",
              "      <td>74</td>\n",
              "      <td>164</td>\n",
              "      <td>...</td>\n",
              "      <td>N</td>\n",
              "      <td>Y</td>\n",
              "      <td>Y</td>\n",
              "      <td>N</td>\n",
              "      <td>9.6</td>\n",
              "      <td>Y</td>\n",
              "      <td>N</td>\n",
              "      <td>N</td>\n",
              "      <td>Y</td>\n",
              "      <td>Y</td>\n",
              "    </tr>\n",
              "    <tr>\n",
              "      <th>2</th>\n",
              "      <td>F</td>\n",
              "      <td>45</td>\n",
              "      <td>5.4</td>\n",
              "      <td>1</td>\n",
              "      <td>5</td>\n",
              "      <td>134/81</td>\n",
              "      <td>95</td>\n",
              "      <td>12000</td>\n",
              "      <td>93</td>\n",
              "      <td>179</td>\n",
              "      <td>...</td>\n",
              "      <td>N</td>\n",
              "      <td>N</td>\n",
              "      <td>N</td>\n",
              "      <td>Y</td>\n",
              "      <td>4.0</td>\n",
              "      <td>N</td>\n",
              "      <td>Y</td>\n",
              "      <td>N</td>\n",
              "      <td>N</td>\n",
              "      <td>N</td>\n",
              "    </tr>\n",
              "    <tr>\n",
              "      <th>3</th>\n",
              "      <td>F</td>\n",
              "      <td>45</td>\n",
              "      <td>5.4</td>\n",
              "      <td>4</td>\n",
              "      <td>5</td>\n",
              "      <td>110/90</td>\n",
              "      <td>78</td>\n",
              "      <td>19000</td>\n",
              "      <td>32</td>\n",
              "      <td>160</td>\n",
              "      <td>...</td>\n",
              "      <td>N</td>\n",
              "      <td>Y</td>\n",
              "      <td>N</td>\n",
              "      <td>N</td>\n",
              "      <td>7.6</td>\n",
              "      <td>N</td>\n",
              "      <td>Y</td>\n",
              "      <td>N</td>\n",
              "      <td>Y</td>\n",
              "      <td>N</td>\n",
              "    </tr>\n",
              "    <tr>\n",
              "      <th>4</th>\n",
              "      <td>F</td>\n",
              "      <td>42</td>\n",
              "      <td>5.7</td>\n",
              "      <td>3</td>\n",
              "      <td>2</td>\n",
              "      <td>99/67</td>\n",
              "      <td>72</td>\n",
              "      <td>4000</td>\n",
              "      <td>173</td>\n",
              "      <td>179</td>\n",
              "      <td>...</td>\n",
              "      <td>N</td>\n",
              "      <td>Y</td>\n",
              "      <td>N</td>\n",
              "      <td>N</td>\n",
              "      <td>3.5</td>\n",
              "      <td>N</td>\n",
              "      <td>Y</td>\n",
              "      <td>Y</td>\n",
              "      <td>N</td>\n",
              "      <td>Y</td>\n",
              "    </tr>\n",
              "  </tbody>\n",
              "</table>\n",
              "<p>5 rows × 26 columns</p>\n",
              "</div>"
            ],
            "text/plain": [
              "  Gender  Age  Sleep duration  Sleep quality  Stress level Blood pressure  \\\n",
              "0      F   24             9.5              2             1         137/89   \n",
              "1      M   39             9.6              2             3         108/64   \n",
              "2      F   45             5.4              1             5         134/81   \n",
              "3      F   45             5.4              4             5         110/90   \n",
              "4      F   42             5.7              3             2          99/67   \n",
              "\n",
              "   Heart rate  Daily steps  Physical activity  Height  ...  Smoking  \\\n",
              "0          67         3000                 31     161  ...        N   \n",
              "1          60        12000                 74     164  ...        N   \n",
              "2          95        12000                 93     179  ...        N   \n",
              "3          78        19000                 32     160  ...        N   \n",
              "4          72         4000                173     179  ...        N   \n",
              "\n",
              "  Medical issue Ongoing medication Smart device before bed  \\\n",
              "0             Y                  Y                       N   \n",
              "1             Y                  Y                       N   \n",
              "2             N                  N                       Y   \n",
              "3             Y                  N                       N   \n",
              "4             Y                  N                       N   \n",
              "\n",
              "  Average screen time Blue-light filter Discomfort Eye-strain Redness in eye  \\\n",
              "0                 8.7                 N                     Y              Y   \n",
              "1                 9.6                 Y                     N              N   \n",
              "2                 4.0                 N                     Y              N   \n",
              "3                 7.6                 N                     Y              N   \n",
              "4                 3.5                 N                     Y              Y   \n",
              "\n",
              "  Itchiness/Irritation in eye Dry Eye Disease  \n",
              "0                           N               Y  \n",
              "1                           Y               Y  \n",
              "2                           N               N  \n",
              "3                           Y               N  \n",
              "4                           N               Y  \n",
              "\n",
              "[5 rows x 26 columns]"
            ]
          },
          "execution_count": 4,
          "metadata": {},
          "output_type": "execute_result"
        }
      ],
      "source": [
        "df=pd.read_csv(url)\n",
        "df.head()"
      ]
    },
    {
      "cell_type": "markdown",
      "metadata": {
        "id": "lUj1vlGhwAV1"
      },
      "source": [
        "## **EDA**"
      ]
    },
    {
      "cell_type": "markdown",
      "metadata": {
        "id": "W_5-suCTwAV3"
      },
      "source": [
        "El dataset cuenta con 20000 registros y 26 *features* o columnas"
      ]
    },
    {
      "cell_type": "code",
      "execution_count": 63,
      "metadata": {
        "colab": {
          "base_uri": "https://localhost:8080/"
        },
        "id": "J3gYCapLwAV5",
        "outputId": "c615c2e0-6394-4714-d01b-7fbee431bacb"
      },
      "outputs": [
        {
          "name": "stdout",
          "output_type": "stream",
          "text": [
            "<class 'pandas.core.frame.DataFrame'>\n",
            "RangeIndex: 20000 entries, 0 to 19999\n",
            "Data columns (total 26 columns):\n",
            " #   Column                       Non-Null Count  Dtype  \n",
            "---  ------                       --------------  -----  \n",
            " 0   Gender                       20000 non-null  object \n",
            " 1   Age                          20000 non-null  int64  \n",
            " 2   Sleep duration               20000 non-null  float64\n",
            " 3   Sleep quality                20000 non-null  int64  \n",
            " 4   Stress level                 20000 non-null  int64  \n",
            " 5   Blood pressure               20000 non-null  object \n",
            " 6   Heart rate                   20000 non-null  int64  \n",
            " 7   Daily steps                  20000 non-null  int64  \n",
            " 8   Physical activity            20000 non-null  int64  \n",
            " 9   Height                       20000 non-null  int64  \n",
            " 10  Weight                       20000 non-null  int64  \n",
            " 11  Sleep disorder               20000 non-null  object \n",
            " 12  Wake up during night         20000 non-null  object \n",
            " 13  Feel sleepy during day       20000 non-null  object \n",
            " 14  Caffeine consumption         20000 non-null  object \n",
            " 15  Alcohol consumption          20000 non-null  object \n",
            " 16  Smoking                      20000 non-null  object \n",
            " 17  Medical issue                20000 non-null  object \n",
            " 18  Ongoing medication           20000 non-null  object \n",
            " 19  Smart device before bed      20000 non-null  object \n",
            " 20  Average screen time          20000 non-null  float64\n",
            " 21  Blue-light filter            20000 non-null  object \n",
            " 22  Discomfort Eye-strain        20000 non-null  object \n",
            " 23  Redness in eye               20000 non-null  object \n",
            " 24  Itchiness/Irritation in eye  20000 non-null  object \n",
            " 25  Dry Eye Disease              20000 non-null  object \n",
            "dtypes: float64(2), int64(8), object(16)\n",
            "memory usage: 4.0+ MB\n"
          ]
        }
      ],
      "source": [
        "df.info()"
      ]
    },
    {
      "cell_type": "markdown",
      "metadata": {
        "id": "20kpUxYjwAV8"
      },
      "source": [
        "La tarea principal que se desea llevar acabo es la detección de síndrome del ojo , por lo cual , la *feature* ```Dry Eye Disease```"
      ]
    },
    {
      "cell_type": "markdown",
      "metadata": {
        "id": "4PjZxdoqwAWB"
      },
      "source": [
        "### Valores Faltantes"
      ]
    },
    {
      "cell_type": "code",
      "execution_count": 64,
      "metadata": {
        "colab": {
          "base_uri": "https://localhost:8080/"
        },
        "id": "4iRW79TGwAXm",
        "outputId": "53e733ac-bdfa-4f60-d916-fb1d5fbb4b15"
      },
      "outputs": [
        {
          "name": "stdout",
          "output_type": "stream",
          "text": [
            "Missing Values\n",
            "Gender                     0\n",
            "Age                        0\n",
            "Sleep duration             0\n",
            "Sleep quality              0\n",
            "Stress level               0\n",
            "Blood pressure             0\n",
            "Heart rate                 0\n",
            "Daily steps                0\n",
            "Physical activity          0\n",
            "Height                     0\n",
            "Weight                     0\n",
            "Sleep disorder             0\n",
            "Wake up during night       0\n",
            "Feel sleepy during day     0\n",
            "Caffeine consumption       0\n",
            "Alcohol consumption        0\n",
            "Smoking                    0\n",
            "Medical issue              0\n",
            "Ongoing medication         0\n",
            "Smart device before bed    0\n",
            "dtype: int64\n"
          ]
        }
      ],
      "source": [
        "print('Missing Values',df.isna().sum().sort_values(ascending=False)[:20],sep='\\n')"
      ]
    },
    {
      "cell_type": "markdown",
      "metadata": {
        "id": "HlNa3xqjwAXn"
      },
      "source": [
        "No existen valores faltantes en el dataset"
      ]
    },
    {
      "cell_type": "markdown",
      "metadata": {
        "id": "oDUGbg3YwAXn"
      },
      "source": [
        "### Estadisticas Descriptivas"
      ]
    },
    {
      "cell_type": "code",
      "execution_count": 65,
      "metadata": {
        "colab": {
          "base_uri": "https://localhost:8080/",
          "height": 300
        },
        "id": "1PN9MSuJwAXn",
        "outputId": "9b89ff96-46fd-485f-8b10-9c3449f2701f"
      },
      "outputs": [
        {
          "data": {
            "application/vnd.google.colaboratory.intrinsic+json": {
              "summary": "{\n  \"name\": \"df\",\n  \"rows\": 8,\n  \"fields\": [\n    {\n      \"column\": \"Age\",\n      \"properties\": {\n        \"dtype\": \"number\",\n        \"std\": 7061.151258271511,\n        \"min\": 8.103716657878486,\n        \"max\": 20000.0,\n        \"num_unique_values\": 8,\n        \"samples\": [\n          31.4228,\n          31.0,\n          20000.0\n        ],\n        \"semantic_type\": \"\",\n        \"description\": \"\"\n      }\n    },\n    {\n      \"column\": \"Sleep duration\",\n      \"properties\": {\n        \"dtype\": \"number\",\n        \"std\": 7068.8595826479595,\n        \"min\": 1.7317232351744811,\n        \"max\": 20000.0,\n        \"num_unique_values\": 8,\n        \"samples\": [\n          6.998245,\n          7.0,\n          20000.0\n        ],\n        \"semantic_type\": \"\",\n        \"description\": \"\"\n      }\n    },\n    {\n      \"column\": \"Sleep quality\",\n      \"properties\": {\n        \"dtype\": \"number\",\n        \"std\": 7070.087605274225,\n        \"min\": 1.0,\n        \"max\": 20000.0,\n        \"num_unique_values\": 8,\n        \"samples\": [\n          2.99725,\n          3.0,\n          20000.0\n        ],\n        \"semantic_type\": \"\",\n        \"description\": \"\"\n      }\n    },\n    {\n      \"column\": \"Stress level\",\n      \"properties\": {\n        \"dtype\": \"number\",\n        \"std\": 7070.088037123816,\n        \"min\": 1.0,\n        \"max\": 20000.0,\n        \"num_unique_values\": 8,\n        \"samples\": [\n          2.99375,\n          3.0,\n          20000.0\n        ],\n        \"semantic_type\": \"\",\n        \"description\": \"\"\n      }\n    },\n    {\n      \"column\": \"Heart rate\",\n      \"properties\": {\n        \"dtype\": \"number\",\n        \"std\": 7046.282701531567,\n        \"min\": 11.808279423063416,\n        \"max\": 20000.0,\n        \"num_unique_values\": 8,\n        \"samples\": [\n          79.9122,\n          80.0,\n          20000.0\n        ],\n        \"semantic_type\": \"\",\n        \"description\": \"\"\n      }\n    },\n    {\n      \"column\": \"Daily steps\",\n      \"properties\": {\n        \"dtype\": \"number\",\n        \"std\": 6960.018599954515,\n        \"min\": 1000.0,\n        \"max\": 20000.0,\n        \"num_unique_values\": 7,\n        \"samples\": [\n          20000.0,\n          10536.9,\n          11000.0\n        ],\n        \"semantic_type\": \"\",\n        \"description\": \"\"\n      }\n    },\n    {\n      \"column\": \"Physical activity\",\n      \"properties\": {\n        \"dtype\": \"number\",\n        \"std\": 7041.315136593068,\n        \"min\": 0.0,\n        \"max\": 20000.0,\n        \"num_unique_values\": 8,\n        \"samples\": [\n          90.06975,\n          91.0,\n          20000.0\n        ],\n        \"semantic_type\": \"\",\n        \"description\": \"\"\n      }\n    },\n    {\n      \"column\": \"Height\",\n      \"properties\": {\n        \"dtype\": \"number\",\n        \"std\": 7017.538344094467,\n        \"min\": 14.719903225481817,\n        \"max\": 20000.0,\n        \"num_unique_values\": 8,\n        \"samples\": [\n          174.8659,\n          175.0,\n          20000.0\n        ],\n        \"semantic_type\": \"\",\n        \"description\": \"\"\n      }\n    },\n    {\n      \"column\": \"Weight\",\n      \"properties\": {\n        \"dtype\": \"number\",\n        \"std\": 7047.648298769133,\n        \"min\": 14.733838871043858,\n        \"max\": 20000.0,\n        \"num_unique_values\": 8,\n        \"samples\": [\n          74.89185,\n          75.0,\n          20000.0\n        ],\n        \"semantic_type\": \"\",\n        \"description\": \"\"\n      }\n    },\n    {\n      \"column\": \"Average screen time\",\n      \"properties\": {\n        \"dtype\": \"number\",\n        \"std\": 7069.263951834819,\n        \"min\": 1.0,\n        \"max\": 20000.0,\n        \"num_unique_values\": 8,\n        \"samples\": [\n          5.519885,\n          5.5,\n          20000.0\n        ],\n        \"semantic_type\": \"\",\n        \"description\": \"\"\n      }\n    }\n  ]\n}",
              "type": "dataframe"
            },
            "text/html": [
              "\n",
              "  <div id=\"df-adc0cb26-c662-452a-8934-485efebe1dc7\" class=\"colab-df-container\">\n",
              "    <div>\n",
              "<style scoped>\n",
              "    .dataframe tbody tr th:only-of-type {\n",
              "        vertical-align: middle;\n",
              "    }\n",
              "\n",
              "    .dataframe tbody tr th {\n",
              "        vertical-align: top;\n",
              "    }\n",
              "\n",
              "    .dataframe thead th {\n",
              "        text-align: right;\n",
              "    }\n",
              "</style>\n",
              "<table border=\"1\" class=\"dataframe\">\n",
              "  <thead>\n",
              "    <tr style=\"text-align: right;\">\n",
              "      <th></th>\n",
              "      <th>Age</th>\n",
              "      <th>Sleep duration</th>\n",
              "      <th>Sleep quality</th>\n",
              "      <th>Stress level</th>\n",
              "      <th>Heart rate</th>\n",
              "      <th>Daily steps</th>\n",
              "      <th>Physical activity</th>\n",
              "      <th>Height</th>\n",
              "      <th>Weight</th>\n",
              "      <th>Average screen time</th>\n",
              "    </tr>\n",
              "  </thead>\n",
              "  <tbody>\n",
              "    <tr>\n",
              "      <th>count</th>\n",
              "      <td>20000.000000</td>\n",
              "      <td>20000.000000</td>\n",
              "      <td>20000.000000</td>\n",
              "      <td>20000.000000</td>\n",
              "      <td>20000.000000</td>\n",
              "      <td>20000.000000</td>\n",
              "      <td>20000.000000</td>\n",
              "      <td>20000.000000</td>\n",
              "      <td>20000.000000</td>\n",
              "      <td>20000.000000</td>\n",
              "    </tr>\n",
              "    <tr>\n",
              "      <th>mean</th>\n",
              "      <td>31.422800</td>\n",
              "      <td>6.998245</td>\n",
              "      <td>2.997250</td>\n",
              "      <td>2.993750</td>\n",
              "      <td>79.912200</td>\n",
              "      <td>10536.900000</td>\n",
              "      <td>90.069750</td>\n",
              "      <td>174.865900</td>\n",
              "      <td>74.891850</td>\n",
              "      <td>5.519885</td>\n",
              "    </tr>\n",
              "    <tr>\n",
              "      <th>std</th>\n",
              "      <td>8.103717</td>\n",
              "      <td>1.731723</td>\n",
              "      <td>1.412283</td>\n",
              "      <td>1.407235</td>\n",
              "      <td>11.808279</td>\n",
              "      <td>5752.729186</td>\n",
              "      <td>52.317283</td>\n",
              "      <td>14.719903</td>\n",
              "      <td>14.733839</td>\n",
              "      <td>2.606305</td>\n",
              "    </tr>\n",
              "    <tr>\n",
              "      <th>min</th>\n",
              "      <td>18.000000</td>\n",
              "      <td>4.000000</td>\n",
              "      <td>1.000000</td>\n",
              "      <td>1.000000</td>\n",
              "      <td>60.000000</td>\n",
              "      <td>1000.000000</td>\n",
              "      <td>0.000000</td>\n",
              "      <td>150.000000</td>\n",
              "      <td>50.000000</td>\n",
              "      <td>1.000000</td>\n",
              "    </tr>\n",
              "    <tr>\n",
              "      <th>25%</th>\n",
              "      <td>24.000000</td>\n",
              "      <td>5.500000</td>\n",
              "      <td>2.000000</td>\n",
              "      <td>2.000000</td>\n",
              "      <td>70.000000</td>\n",
              "      <td>6000.000000</td>\n",
              "      <td>45.000000</td>\n",
              "      <td>162.000000</td>\n",
              "      <td>62.000000</td>\n",
              "      <td>3.300000</td>\n",
              "    </tr>\n",
              "    <tr>\n",
              "      <th>50%</th>\n",
              "      <td>31.000000</td>\n",
              "      <td>7.000000</td>\n",
              "      <td>3.000000</td>\n",
              "      <td>3.000000</td>\n",
              "      <td>80.000000</td>\n",
              "      <td>11000.000000</td>\n",
              "      <td>91.000000</td>\n",
              "      <td>175.000000</td>\n",
              "      <td>75.000000</td>\n",
              "      <td>5.500000</td>\n",
              "    </tr>\n",
              "    <tr>\n",
              "      <th>75%</th>\n",
              "      <td>39.000000</td>\n",
              "      <td>8.500000</td>\n",
              "      <td>4.000000</td>\n",
              "      <td>4.000000</td>\n",
              "      <td>90.000000</td>\n",
              "      <td>16000.000000</td>\n",
              "      <td>135.000000</td>\n",
              "      <td>188.000000</td>\n",
              "      <td>88.000000</td>\n",
              "      <td>7.800000</td>\n",
              "    </tr>\n",
              "    <tr>\n",
              "      <th>max</th>\n",
              "      <td>45.000000</td>\n",
              "      <td>10.000000</td>\n",
              "      <td>5.000000</td>\n",
              "      <td>5.000000</td>\n",
              "      <td>100.000000</td>\n",
              "      <td>20000.000000</td>\n",
              "      <td>180.000000</td>\n",
              "      <td>200.000000</td>\n",
              "      <td>100.000000</td>\n",
              "      <td>10.000000</td>\n",
              "    </tr>\n",
              "  </tbody>\n",
              "</table>\n",
              "</div>\n",
              "    <div class=\"colab-df-buttons\">\n",
              "\n",
              "  <div class=\"colab-df-container\">\n",
              "    <button class=\"colab-df-convert\" onclick=\"convertToInteractive('df-adc0cb26-c662-452a-8934-485efebe1dc7')\"\n",
              "            title=\"Convert this dataframe to an interactive table.\"\n",
              "            style=\"display:none;\">\n",
              "\n",
              "  <svg xmlns=\"http://www.w3.org/2000/svg\" height=\"24px\" viewBox=\"0 -960 960 960\">\n",
              "    <path d=\"M120-120v-720h720v720H120Zm60-500h600v-160H180v160Zm220 220h160v-160H400v160Zm0 220h160v-160H400v160ZM180-400h160v-160H180v160Zm440 0h160v-160H620v160ZM180-180h160v-160H180v160Zm440 0h160v-160H620v160Z\"/>\n",
              "  </svg>\n",
              "    </button>\n",
              "\n",
              "  <style>\n",
              "    .colab-df-container {\n",
              "      display:flex;\n",
              "      gap: 12px;\n",
              "    }\n",
              "\n",
              "    .colab-df-convert {\n",
              "      background-color: #E8F0FE;\n",
              "      border: none;\n",
              "      border-radius: 50%;\n",
              "      cursor: pointer;\n",
              "      display: none;\n",
              "      fill: #1967D2;\n",
              "      height: 32px;\n",
              "      padding: 0 0 0 0;\n",
              "      width: 32px;\n",
              "    }\n",
              "\n",
              "    .colab-df-convert:hover {\n",
              "      background-color: #E2EBFA;\n",
              "      box-shadow: 0px 1px 2px rgba(60, 64, 67, 0.3), 0px 1px 3px 1px rgba(60, 64, 67, 0.15);\n",
              "      fill: #174EA6;\n",
              "    }\n",
              "\n",
              "    .colab-df-buttons div {\n",
              "      margin-bottom: 4px;\n",
              "    }\n",
              "\n",
              "    [theme=dark] .colab-df-convert {\n",
              "      background-color: #3B4455;\n",
              "      fill: #D2E3FC;\n",
              "    }\n",
              "\n",
              "    [theme=dark] .colab-df-convert:hover {\n",
              "      background-color: #434B5C;\n",
              "      box-shadow: 0px 1px 3px 1px rgba(0, 0, 0, 0.15);\n",
              "      filter: drop-shadow(0px 1px 2px rgba(0, 0, 0, 0.3));\n",
              "      fill: #FFFFFF;\n",
              "    }\n",
              "  </style>\n",
              "\n",
              "    <script>\n",
              "      const buttonEl =\n",
              "        document.querySelector('#df-adc0cb26-c662-452a-8934-485efebe1dc7 button.colab-df-convert');\n",
              "      buttonEl.style.display =\n",
              "        google.colab.kernel.accessAllowed ? 'block' : 'none';\n",
              "\n",
              "      async function convertToInteractive(key) {\n",
              "        const element = document.querySelector('#df-adc0cb26-c662-452a-8934-485efebe1dc7');\n",
              "        const dataTable =\n",
              "          await google.colab.kernel.invokeFunction('convertToInteractive',\n",
              "                                                    [key], {});\n",
              "        if (!dataTable) return;\n",
              "\n",
              "        const docLinkHtml = 'Like what you see? Visit the ' +\n",
              "          '<a target=\"_blank\" href=https://colab.research.google.com/notebooks/data_table.ipynb>data table notebook</a>'\n",
              "          + ' to learn more about interactive tables.';\n",
              "        element.innerHTML = '';\n",
              "        dataTable['output_type'] = 'display_data';\n",
              "        await google.colab.output.renderOutput(dataTable, element);\n",
              "        const docLink = document.createElement('div');\n",
              "        docLink.innerHTML = docLinkHtml;\n",
              "        element.appendChild(docLink);\n",
              "      }\n",
              "    </script>\n",
              "  </div>\n",
              "\n",
              "\n",
              "<div id=\"df-879c7fb6-84e7-4ac7-9e52-5c51e6001675\">\n",
              "  <button class=\"colab-df-quickchart\" onclick=\"quickchart('df-879c7fb6-84e7-4ac7-9e52-5c51e6001675')\"\n",
              "            title=\"Suggest charts\"\n",
              "            style=\"display:none;\">\n",
              "\n",
              "<svg xmlns=\"http://www.w3.org/2000/svg\" height=\"24px\"viewBox=\"0 0 24 24\"\n",
              "     width=\"24px\">\n",
              "    <g>\n",
              "        <path d=\"M19 3H5c-1.1 0-2 .9-2 2v14c0 1.1.9 2 2 2h14c1.1 0 2-.9 2-2V5c0-1.1-.9-2-2-2zM9 17H7v-7h2v7zm4 0h-2V7h2v10zm4 0h-2v-4h2v4z\"/>\n",
              "    </g>\n",
              "</svg>\n",
              "  </button>\n",
              "\n",
              "<style>\n",
              "  .colab-df-quickchart {\n",
              "      --bg-color: #E8F0FE;\n",
              "      --fill-color: #1967D2;\n",
              "      --hover-bg-color: #E2EBFA;\n",
              "      --hover-fill-color: #174EA6;\n",
              "      --disabled-fill-color: #AAA;\n",
              "      --disabled-bg-color: #DDD;\n",
              "  }\n",
              "\n",
              "  [theme=dark] .colab-df-quickchart {\n",
              "      --bg-color: #3B4455;\n",
              "      --fill-color: #D2E3FC;\n",
              "      --hover-bg-color: #434B5C;\n",
              "      --hover-fill-color: #FFFFFF;\n",
              "      --disabled-bg-color: #3B4455;\n",
              "      --disabled-fill-color: #666;\n",
              "  }\n",
              "\n",
              "  .colab-df-quickchart {\n",
              "    background-color: var(--bg-color);\n",
              "    border: none;\n",
              "    border-radius: 50%;\n",
              "    cursor: pointer;\n",
              "    display: none;\n",
              "    fill: var(--fill-color);\n",
              "    height: 32px;\n",
              "    padding: 0;\n",
              "    width: 32px;\n",
              "  }\n",
              "\n",
              "  .colab-df-quickchart:hover {\n",
              "    background-color: var(--hover-bg-color);\n",
              "    box-shadow: 0 1px 2px rgba(60, 64, 67, 0.3), 0 1px 3px 1px rgba(60, 64, 67, 0.15);\n",
              "    fill: var(--button-hover-fill-color);\n",
              "  }\n",
              "\n",
              "  .colab-df-quickchart-complete:disabled,\n",
              "  .colab-df-quickchart-complete:disabled:hover {\n",
              "    background-color: var(--disabled-bg-color);\n",
              "    fill: var(--disabled-fill-color);\n",
              "    box-shadow: none;\n",
              "  }\n",
              "\n",
              "  .colab-df-spinner {\n",
              "    border: 2px solid var(--fill-color);\n",
              "    border-color: transparent;\n",
              "    border-bottom-color: var(--fill-color);\n",
              "    animation:\n",
              "      spin 1s steps(1) infinite;\n",
              "  }\n",
              "\n",
              "  @keyframes spin {\n",
              "    0% {\n",
              "      border-color: transparent;\n",
              "      border-bottom-color: var(--fill-color);\n",
              "      border-left-color: var(--fill-color);\n",
              "    }\n",
              "    20% {\n",
              "      border-color: transparent;\n",
              "      border-left-color: var(--fill-color);\n",
              "      border-top-color: var(--fill-color);\n",
              "    }\n",
              "    30% {\n",
              "      border-color: transparent;\n",
              "      border-left-color: var(--fill-color);\n",
              "      border-top-color: var(--fill-color);\n",
              "      border-right-color: var(--fill-color);\n",
              "    }\n",
              "    40% {\n",
              "      border-color: transparent;\n",
              "      border-right-color: var(--fill-color);\n",
              "      border-top-color: var(--fill-color);\n",
              "    }\n",
              "    60% {\n",
              "      border-color: transparent;\n",
              "      border-right-color: var(--fill-color);\n",
              "    }\n",
              "    80% {\n",
              "      border-color: transparent;\n",
              "      border-right-color: var(--fill-color);\n",
              "      border-bottom-color: var(--fill-color);\n",
              "    }\n",
              "    90% {\n",
              "      border-color: transparent;\n",
              "      border-bottom-color: var(--fill-color);\n",
              "    }\n",
              "  }\n",
              "</style>\n",
              "\n",
              "  <script>\n",
              "    async function quickchart(key) {\n",
              "      const quickchartButtonEl =\n",
              "        document.querySelector('#' + key + ' button');\n",
              "      quickchartButtonEl.disabled = true;  // To prevent multiple clicks.\n",
              "      quickchartButtonEl.classList.add('colab-df-spinner');\n",
              "      try {\n",
              "        const charts = await google.colab.kernel.invokeFunction(\n",
              "            'suggestCharts', [key], {});\n",
              "      } catch (error) {\n",
              "        console.error('Error during call to suggestCharts:', error);\n",
              "      }\n",
              "      quickchartButtonEl.classList.remove('colab-df-spinner');\n",
              "      quickchartButtonEl.classList.add('colab-df-quickchart-complete');\n",
              "    }\n",
              "    (() => {\n",
              "      let quickchartButtonEl =\n",
              "        document.querySelector('#df-879c7fb6-84e7-4ac7-9e52-5c51e6001675 button');\n",
              "      quickchartButtonEl.style.display =\n",
              "        google.colab.kernel.accessAllowed ? 'block' : 'none';\n",
              "    })();\n",
              "  </script>\n",
              "</div>\n",
              "\n",
              "    </div>\n",
              "  </div>\n"
            ],
            "text/plain": [
              "                Age  Sleep duration  Sleep quality  Stress level  \\\n",
              "count  20000.000000    20000.000000   20000.000000  20000.000000   \n",
              "mean      31.422800        6.998245       2.997250      2.993750   \n",
              "std        8.103717        1.731723       1.412283      1.407235   \n",
              "min       18.000000        4.000000       1.000000      1.000000   \n",
              "25%       24.000000        5.500000       2.000000      2.000000   \n",
              "50%       31.000000        7.000000       3.000000      3.000000   \n",
              "75%       39.000000        8.500000       4.000000      4.000000   \n",
              "max       45.000000       10.000000       5.000000      5.000000   \n",
              "\n",
              "         Heart rate   Daily steps  Physical activity        Height  \\\n",
              "count  20000.000000  20000.000000       20000.000000  20000.000000   \n",
              "mean      79.912200  10536.900000          90.069750    174.865900   \n",
              "std       11.808279   5752.729186          52.317283     14.719903   \n",
              "min       60.000000   1000.000000           0.000000    150.000000   \n",
              "25%       70.000000   6000.000000          45.000000    162.000000   \n",
              "50%       80.000000  11000.000000          91.000000    175.000000   \n",
              "75%       90.000000  16000.000000         135.000000    188.000000   \n",
              "max      100.000000  20000.000000         180.000000    200.000000   \n",
              "\n",
              "             Weight  Average screen time  \n",
              "count  20000.000000         20000.000000  \n",
              "mean      74.891850             5.519885  \n",
              "std       14.733839             2.606305  \n",
              "min       50.000000             1.000000  \n",
              "25%       62.000000             3.300000  \n",
              "50%       75.000000             5.500000  \n",
              "75%       88.000000             7.800000  \n",
              "max      100.000000            10.000000  "
            ]
          },
          "execution_count": 65,
          "metadata": {},
          "output_type": "execute_result"
        }
      ],
      "source": [
        "df.describe()"
      ]
    },
    {
      "cell_type": "code",
      "execution_count": 66,
      "metadata": {
        "id": "JGEb6uwCwAXo"
      },
      "outputs": [],
      "source": [
        "categorical_features=df.select_dtypes(include='object').columns\n",
        "numerical_features=df.select_dtypes(include='number').columns"
      ]
    },
    {
      "cell_type": "code",
      "execution_count": 67,
      "metadata": {
        "colab": {
          "base_uri": "https://localhost:8080/"
        },
        "id": "pVuBA8fwwAXo",
        "outputId": "9339f8f1-7b72-4d86-e2e3-59ea408f1c7e"
      },
      "outputs": [
        {
          "data": {
            "text/plain": [
              "(16,)"
            ]
          },
          "execution_count": 67,
          "metadata": {},
          "output_type": "execute_result"
        }
      ],
      "source": [
        "categorical_features.shape"
      ]
    },
    {
      "cell_type": "code",
      "execution_count": 68,
      "metadata": {
        "colab": {
          "base_uri": "https://localhost:8080/"
        },
        "id": "grlBclNpwAXp",
        "outputId": "67ca2218-d91a-4de5-d07b-a3bfbef27b46"
      },
      "outputs": [
        {
          "data": {
            "text/plain": [
              "(10,)"
            ]
          },
          "execution_count": 68,
          "metadata": {},
          "output_type": "execute_result"
        }
      ],
      "source": [
        "numerical_features.shape"
      ]
    },
    {
      "cell_type": "markdown",
      "metadata": {
        "id": "TqRDDqW729J3"
      },
      "source": [
        "Se cuentan con 16 variables categoricas y 10 variables numericas."
      ]
    },
    {
      "cell_type": "markdown",
      "metadata": {
        "id": "lRBMMHUXW_Kb"
      },
      "source": [
        "Histograma que permite visualizar la distribución de las edades de los pacientes en la muestra."
      ]
    },
    {
      "cell_type": "code",
      "execution_count": 69,
      "metadata": {
        "colab": {
          "base_uri": "https://localhost:8080/",
          "height": 481
        },
        "id": "1B8zJixzwAXp",
        "outputId": "216f4c88-7aa1-431f-aade-386300832a28"
      },
      "outputs": [
        {
          "data": {
            "image/png": "[encoded data removed]",
            "text/plain": [
              "<Figure size 640x480 with 1 Axes>"
            ]
          },
          "metadata": {},
          "output_type": "display_data"
        }
      ],
      "source": [
        "sns.histplot(df['Age'],color=\"royalblue\")\n",
        "plt.title('Distribución de la edad en los pacientes')\n",
        "plt.show()"
      ]
    },
    {
      "cell_type": "markdown",
      "metadata": {
        "id": "oqFAzZzbXXcP"
      },
      "source": [
        "Gráfico de caja que permite analizar la distribución de la altura de los pacientes en la muestra"
      ]
    },
    {
      "cell_type": "code",
      "execution_count": 70,
      "metadata": {
        "colab": {
          "base_uri": "https://localhost:8080/",
          "height": 437
        },
        "id": "15oBVF2HwAXq",
        "outputId": "b5835f46-824e-4635-e89e-c7de86db4082"
      },
      "outputs": [
        {
          "data": {
            "image/png": "[encoded data removed]",
            "text/plain": [
              "<Figure size 640x480 with 1 Axes>"
            ]
          },
          "metadata": {},
          "output_type": "display_data"
        }
      ],
      "source": [
        "sns.boxplot(data=df,y='Height')\n",
        "plt.title('Distribución de la altura en los pacientes')\n",
        "plt.show()"
      ]
    },
    {
      "cell_type": "markdown",
      "metadata": {
        "id": "Z__gIqz2XlwQ"
      },
      "source": [
        "Gráfico de torta que muestra la distribución de los niveles de calidad del sueño en la muestra de pacientes"
      ]
    },
    {
      "cell_type": "code",
      "execution_count": null,
      "metadata": {
        "colab": {
          "base_uri": "https://localhost:8080/",
          "height": 428
        },
        "id": "B3LzvCoewAXq",
        "outputId": "fc1212f3-4666-4246-ecb1-bb4ecfe53dcd"
      },
      "outputs": [],
      "source": [
        "sleep=df['Sleep quality'].value_counts()\n",
        "plt.pie(sleep.values,labels=sleep.index,autopct='%1.2f%%')\n",
        "plt.title('Distibución de los niveles de calidad del sueño')\n",
        "plt.show()"
      ]
    },
    {
      "cell_type": "markdown",
      "metadata": {
        "id": "V85IxErEWzBT"
      },
      "source": [
        "Histograma para visualizar la distribución de la duración del sueño en los pacientes"
      ]
    },
    {
      "cell_type": "code",
      "execution_count": null,
      "metadata": {
        "colab": {
          "base_uri": "https://localhost:8080/",
          "height": 481
        },
        "id": "wNzGkf80wAXs",
        "outputId": "a41f4cf7-9693-407a-cf82-114a07be1b0c"
      },
      "outputs": [],
      "source": [
        "sns.histplot(data=df,x='Sleep duration',color=\"royalblue\")\n",
        "plt.title('Duración promedio del sueño en horas')\n",
        "plt.show()"
      ]
    },
    {
      "cell_type": "markdown",
      "metadata": {
        "id": "ndTtkrHOWonY"
      },
      "source": [
        "Gráfico de tortas para visualizar la proporción de pacientes según su género en el dataset"
      ]
    },
    {
      "cell_type": "code",
      "execution_count": null,
      "metadata": {
        "colab": {
          "base_uri": "https://localhost:8080/",
          "height": 429
        },
        "id": "zIvRMKLdwAXt",
        "outputId": "fe98ae49-4339-4f31-a6c0-139388bc79f2"
      },
      "outputs": [],
      "source": [
        "val_per_gender=df['Gender'].value_counts()\n",
        "plt.pie(val_per_gender.values,labels=val_per_gender.index,autopct='%1.2f%%',colors=[\"#4450ec\",\"#e74fea\"])\n",
        "plt.title('Distribución de género en los pacientes')\n",
        "plt.show()"
      ]
    },
    {
      "cell_type": "markdown",
      "metadata": {
        "id": "v_2aiQ01Rwuq"
      },
      "source": [
        "Histograma que revela la distribución del número de pasos diarios en los pacientes, permitiendo identificar tendencias generales en su actividad física"
      ]
    },
    {
      "cell_type": "code",
      "execution_count": null,
      "metadata": {
        "colab": {
          "base_uri": "https://localhost:8080/",
          "height": 481
        },
        "id": "gRGPLcw1wAXu",
        "outputId": "cf5d4839-0472-446a-aeee-a4bfa207957d"
      },
      "outputs": [],
      "source": [
        "sns.histplot(df['Daily steps'],bins=20,color=\"green\")\n",
        "plt.title('Distribución de los pasos diarios')\n",
        "plt.show()"
      ]
    },
    {
      "cell_type": "markdown",
      "metadata": {
        "id": "A8zrrNckReWT"
      },
      "source": [
        "Este grafico de caja sirve para analizar la distribución del tiempo promedio de exposición a pantallas en las personas"
      ]
    },
    {
      "cell_type": "code",
      "execution_count": 75,
      "metadata": {
        "colab": {
          "base_uri": "https://localhost:8080/",
          "height": 437
        },
        "id": "9_JNQ9wpwAXv",
        "outputId": "03498915-af40-4f2d-b99b-9dff8626a98e"
      },
      "outputs": [
        {
          "data": {
            "image/png": "[encoded data removed]",
            "text/plain": [
              "<Figure size 640x480 with 1 Axes>"
            ]
          },
          "metadata": {},
          "output_type": "display_data"
        }
      ],
      "source": [
        "sns.boxplot(data=df,y='Average screen time',color='grey')\n",
        "plt.title('Tiempo promedio de exposición a pantallas')\n",
        "plt.show()"
      ]
    },
    {
      "cell_type": "markdown",
      "metadata": {
        "id": "3moEjiaGWc14"
      },
      "source": [
        "Gráfico de caja  para visualizar la distribución de la frecuencia cardíaca en la población."
      ]
    },
    {
      "cell_type": "code",
      "execution_count": 76,
      "metadata": {
        "colab": {
          "base_uri": "https://localhost:8080/",
          "height": 437
        },
        "id": "FVqIm84twAXw",
        "outputId": "dfc7750f-47c4-4a65-960b-adf77b7292fd"
      },
      "outputs": [
        {
          "data": {
            "image/png": "[encoded data removed]",
            "text/plain": [
              "<Figure size 640x480 with 1 Axes>"
            ]
          },
          "metadata": {},
          "output_type": "display_data"
        }
      ],
      "source": [
        "sns.boxplot(data=df,y='Heart rate',color=\"red\")\n",
        "plt.title('Frecuencia cardíaca promedio')\n",
        "plt.show()"
      ]
    },
    {
      "cell_type": "markdown",
      "metadata": {
        "id": "wJoDubS_QdEO"
      },
      "source": [
        "Este gráfico de torta permite identificar la distribución porcentual de los niveles de estrés entre las personas."
      ]
    },
    {
      "cell_type": "code",
      "execution_count": 77,
      "metadata": {
        "colab": {
          "base_uri": "https://localhost:8080/",
          "height": 429
        },
        "id": "3FHSEzsGwAXx",
        "outputId": "4d52fdc8-9741-4f72-b1e8-349e61345983"
      },
      "outputs": [
        {
          "data": {
            "image/png": "[encoded data removed]",
            "text/plain": [
              "<Figure size 640x480 with 1 Axes>"
            ]
          },
          "metadata": {},
          "output_type": "display_data"
        }
      ],
      "source": [
        "stress=df['Stress level'].value_counts()\n",
        "plt.pie(stress.values,labels=stress.index,autopct='%1.2f%%',colors=['#cfeb51','green','#4798ff','#ff33fc','#e88341'])\n",
        "plt.title('Niveles de estrés en los pacientes')\n",
        "plt.show()"
      ]
    },
    {
      "cell_type": "code",
      "execution_count": null,
      "metadata": {
        "colab": {
          "base_uri": "https://localhost:8080/",
          "height": 1000
        },
        "id": "xtvdDcaXwAXy",
        "outputId": "fd331a31-6471-4558-99a7-d1eaa9b3d501"
      },
      "outputs": [],
      "source": [
        "for elem in categorical_features:\n",
        "    if elem!='Gender' and elem!='Blood pressure':\n",
        "        sns.countplot(data=df,x=elem,hue=elem,legend=False,palette='bright')\n",
        "        plt.title(f'Distribución de {elem}')\n",
        "        plt.show()"
      ]
    },
    {
      "cell_type": "markdown",
      "metadata": {
        "id": "0HD0YyuKQAqH"
      },
      "source": [
        "Este gráfico tiene como finalidad explorar la relación entre la edad y la cantidad de pasos diarios en pacientes con y sin Enfermedad del Ojo Seco (Dry Eye Disease, DED)"
      ]
    },
    {
      "cell_type": "code",
      "execution_count": null,
      "metadata": {
        "colab": {
          "base_uri": "https://localhost:8080/",
          "height": 523
        },
        "id": "6Ql2ZvfLwAXz",
        "outputId": "489e156b-94a6-4ff1-d9cd-58e29151942f"
      },
      "outputs": [],
      "source": [
        "steps_log=np.log1p(df['Daily steps'])\n",
        "sns.relplot(x='Age',y=steps_log,data=df,hue='Dry Eye Disease',palette='viridis')\n",
        "plt.title('Age vs Daily Steps')\n",
        "plt.show()"
      ]
    },
    {
      "cell_type": "markdown",
      "metadata": {
        "id": "XWT3-WHTPo4r"
      },
      "source": [
        "El gráfico de cajas proporciona información sobre cómo varía el tiempo promedio de exposición a pantallas en pacientes con y sin DED, considerando además la presencia de trastornos del sueño."
      ]
    },
    {
      "cell_type": "code",
      "execution_count": null,
      "metadata": {
        "colab": {
          "base_uri": "https://localhost:8080/",
          "height": 500
        },
        "id": "Pj_R0f-iwAX0",
        "outputId": "a801d718-6567-4c16-c83d-56f5b0e1c5bb"
      },
      "outputs": [],
      "source": [
        "sns.catplot(data=df,y='Average screen time',x='Dry Eye Disease',hue='Dry Eye Disease',col='Sleep disorder',kind='box')\n",
        "plt.show()"
      ]
    },
    {
      "cell_type": "markdown",
      "metadata": {
        "id": "KxMBksw_PR60"
      },
      "source": [
        "Para evaluar la posible relación entre el uso de dispositivos inteligentes antes de dormir, el uso de filtro de luz azul, y la presencia de Enfermedad del Ojo Seco (Dry Eye Disease, DED), se generó un gráfico de barras categórico."
      ]
    },
    {
      "cell_type": "code",
      "execution_count": null,
      "metadata": {
        "colab": {
          "base_uri": "https://localhost:8080/",
          "height": 500
        },
        "id": "yRgY4sQZwAX1",
        "outputId": "a7e67c29-ee08-4199-fb19-3205dd7575c7"
      },
      "outputs": [],
      "source": [
        "sns.catplot(data=df,x='Smart device before bed',kind='count',col='Blue-light filter',hue='Dry Eye Disease')\n",
        "plt.show()"
      ]
    },
    {
      "cell_type": "markdown",
      "metadata": {
        "id": "68wW8K11OvLF"
      },
      "source": [
        "**El gráfico muestra la distribución de pacientes fumadores y no fumadores en cada grupo de Dry Eye Disease. Esto permite observar si existe una diferencia en la proporción de fumadores dentro de los grupos de pacientes con y sin la enfermedad.**"
      ]
    },
    {
      "cell_type": "code",
      "execution_count": null,
      "metadata": {
        "colab": {
          "base_uri": "https://localhost:8080/",
          "height": 500
        },
        "id": "c-bjlCt1wAX1",
        "outputId": "69cfa38a-7d77-4471-ec0f-2dc41599bbb7"
      },
      "outputs": [],
      "source": [
        "sns.catplot(data=df,x='Smoking',kind='count',col='Dry Eye Disease')\n",
        "plt.show()"
      ]
    },
    {
      "cell_type": "markdown",
      "metadata": {
        "id": "FOxJINu8WDKE"
      },
      "source": [
        "Gráfico de barras categórico para visualizar la distribución de los niveles de estrés en los pacientes y su posible relación con la enfermedad del ojo seco (Dry Eye Disease)."
      ]
    },
    {
      "cell_type": "code",
      "execution_count": null,
      "metadata": {
        "colab": {
          "base_uri": "https://localhost:8080/",
          "height": 501
        },
        "id": "YdlSm9qnwAX3",
        "outputId": "c06e31ec-f417-4311-afdc-8cc704b22605"
      },
      "outputs": [],
      "source": [
        "sns.catplot(x='Stress level',kind='count',data=df,hue='Dry Eye Disease',palette='winter')\n",
        "plt.show()"
      ]
    },
    {
      "cell_type": "markdown",
      "metadata": {
        "id": "MKXwMrXawAX4"
      },
      "source": [
        "### Feature Engineering\n",
        "La ingeniería de características es el proceso en el cual a partir de los datos originales se crean nuevas variables que pueden ser más útiles para el modelo de Machine Learning."
      ]
    },
    {
      "cell_type": "code",
      "execution_count": 84,
      "metadata": {
        "id": "8L9T8-c4wAX5"
      },
      "outputs": [],
      "source": [
        "df[['Systolic_BP','Diastolic_BP']]=df['Blood pressure'].str.split('/',expand=True)"
      ]
    },
    {
      "cell_type": "code",
      "execution_count": 85,
      "metadata": {
        "colab": {
          "base_uri": "https://localhost:8080/",
          "height": 300
        },
        "id": "OJE49EA-wAX6",
        "outputId": "e3450564-e48b-4d4d-f52b-10f2c93ef796"
      },
      "outputs": [
        {
          "data": {
            "application/vnd.google.colaboratory.intrinsic+json": {
              "summary": "{\n  \"name\": \"df[['Systolic_BP','Diastolic_BP']]\",\n  \"rows\": 8,\n  \"fields\": [\n    {\n      \"column\": \"Systolic_BP\",\n      \"properties\": {\n        \"dtype\": \"number\",\n        \"std\": 7035.578147570904,\n        \"min\": 14.725589307274745,\n        \"max\": 20000.0,\n        \"num_unique_values\": 8,\n        \"samples\": [\n          114.98545,\n          115.0,\n          20000.0\n        ],\n        \"semantic_type\": \"\",\n        \"description\": \"\"\n      }\n    },\n    {\n      \"column\": \"Diastolic_BP\",\n      \"properties\": {\n        \"dtype\": \"number\",\n        \"std\": 7047.92983383534,\n        \"min\": 8.975033541516856,\n        \"max\": 20000.0,\n        \"num_unique_values\": 8,\n        \"samples\": [\n          74.9993,\n          75.0,\n          20000.0\n        ],\n        \"semantic_type\": \"\",\n        \"description\": \"\"\n      }\n    }\n  ]\n}",
              "type": "dataframe"
            },
            "text/html": [
              "\n",
              "  <div id=\"df-4b6cfaaf-de60-4e80-820f-895e00e5dab4\" class=\"colab-df-container\">\n",
              "    <div>\n",
              "<style scoped>\n",
              "    .dataframe tbody tr th:only-of-type {\n",
              "        vertical-align: middle;\n",
              "    }\n",
              "\n",
              "    .dataframe tbody tr th {\n",
              "        vertical-align: top;\n",
              "    }\n",
              "\n",
              "    .dataframe thead th {\n",
              "        text-align: right;\n",
              "    }\n",
              "</style>\n",
              "<table border=\"1\" class=\"dataframe\">\n",
              "  <thead>\n",
              "    <tr style=\"text-align: right;\">\n",
              "      <th></th>\n",
              "      <th>Systolic_BP</th>\n",
              "      <th>Diastolic_BP</th>\n",
              "    </tr>\n",
              "  </thead>\n",
              "  <tbody>\n",
              "    <tr>\n",
              "      <th>count</th>\n",
              "      <td>20000.000000</td>\n",
              "      <td>20000.000000</td>\n",
              "    </tr>\n",
              "    <tr>\n",
              "      <th>mean</th>\n",
              "      <td>114.985450</td>\n",
              "      <td>74.999300</td>\n",
              "    </tr>\n",
              "    <tr>\n",
              "      <th>std</th>\n",
              "      <td>14.725589</td>\n",
              "      <td>8.975034</td>\n",
              "    </tr>\n",
              "    <tr>\n",
              "      <th>min</th>\n",
              "      <td>90.000000</td>\n",
              "      <td>60.000000</td>\n",
              "    </tr>\n",
              "    <tr>\n",
              "      <th>25%</th>\n",
              "      <td>102.000000</td>\n",
              "      <td>67.000000</td>\n",
              "    </tr>\n",
              "    <tr>\n",
              "      <th>50%</th>\n",
              "      <td>115.000000</td>\n",
              "      <td>75.000000</td>\n",
              "    </tr>\n",
              "    <tr>\n",
              "      <th>75%</th>\n",
              "      <td>128.000000</td>\n",
              "      <td>83.000000</td>\n",
              "    </tr>\n",
              "    <tr>\n",
              "      <th>max</th>\n",
              "      <td>140.000000</td>\n",
              "      <td>90.000000</td>\n",
              "    </tr>\n",
              "  </tbody>\n",
              "</table>\n",
              "</div>\n",
              "    <div class=\"colab-df-buttons\">\n",
              "\n",
              "  <div class=\"colab-df-container\">\n",
              "    <button class=\"colab-df-convert\" onclick=\"convertToInteractive('df-4b6cfaaf-de60-4e80-820f-895e00e5dab4')\"\n",
              "            title=\"Convert this dataframe to an interactive table.\"\n",
              "            style=\"display:none;\">\n",
              "\n",
              "  <svg xmlns=\"http://www.w3.org/2000/svg\" height=\"24px\" viewBox=\"0 -960 960 960\">\n",
              "    <path d=\"M120-120v-720h720v720H120Zm60-500h600v-160H180v160Zm220 220h160v-160H400v160Zm0 220h160v-160H400v160ZM180-400h160v-160H180v160Zm440 0h160v-160H620v160ZM180-180h160v-160H180v160Zm440 0h160v-160H620v160Z\"/>\n",
              "  </svg>\n",
              "    </button>\n",
              "\n",
              "  <style>\n",
              "    .colab-df-container {\n",
              "      display:flex;\n",
              "      gap: 12px;\n",
              "    }\n",
              "\n",
              "    .colab-df-convert {\n",
              "      background-color: #E8F0FE;\n",
              "      border: none;\n",
              "      border-radius: 50%;\n",
              "      cursor: pointer;\n",
              "      display: none;\n",
              "      fill: #1967D2;\n",
              "      height: 32px;\n",
              "      padding: 0 0 0 0;\n",
              "      width: 32px;\n",
              "    }\n",
              "\n",
              "    .colab-df-convert:hover {\n",
              "      background-color: #E2EBFA;\n",
              "      box-shadow: 0px 1px 2px rgba(60, 64, 67, 0.3), 0px 1px 3px 1px rgba(60, 64, 67, 0.15);\n",
              "      fill: #174EA6;\n",
              "    }\n",
              "\n",
              "    .colab-df-buttons div {\n",
              "      margin-bottom: 4px;\n",
              "    }\n",
              "\n",
              "    [theme=dark] .colab-df-convert {\n",
              "      background-color: #3B4455;\n",
              "      fill: #D2E3FC;\n",
              "    }\n",
              "\n",
              "    [theme=dark] .colab-df-convert:hover {\n",
              "      background-color: #434B5C;\n",
              "      box-shadow: 0px 1px 3px 1px rgba(0, 0, 0, 0.15);\n",
              "      filter: drop-shadow(0px 1px 2px rgba(0, 0, 0, 0.3));\n",
              "      fill: #FFFFFF;\n",
              "    }\n",
              "  </style>\n",
              "\n",
              "    <script>\n",
              "      const buttonEl =\n",
              "        document.querySelector('#df-4b6cfaaf-de60-4e80-820f-895e00e5dab4 button.colab-df-convert');\n",
              "      buttonEl.style.display =\n",
              "        google.colab.kernel.accessAllowed ? 'block' : 'none';\n",
              "\n",
              "      async function convertToInteractive(key) {\n",
              "        const element = document.querySelector('#df-4b6cfaaf-de60-4e80-820f-895e00e5dab4');\n",
              "        const dataTable =\n",
              "          await google.colab.kernel.invokeFunction('convertToInteractive',\n",
              "                                                    [key], {});\n",
              "        if (!dataTable) return;\n",
              "\n",
              "        const docLinkHtml = 'Like what you see? Visit the ' +\n",
              "          '<a target=\"_blank\" href=https://colab.research.google.com/notebooks/data_table.ipynb>data table notebook</a>'\n",
              "          + ' to learn more about interactive tables.';\n",
              "        element.innerHTML = '';\n",
              "        dataTable['output_type'] = 'display_data';\n",
              "        await google.colab.output.renderOutput(dataTable, element);\n",
              "        const docLink = document.createElement('div');\n",
              "        docLink.innerHTML = docLinkHtml;\n",
              "        element.appendChild(docLink);\n",
              "      }\n",
              "    </script>\n",
              "  </div>\n",
              "\n",
              "\n",
              "<div id=\"df-757d5ec2-1f65-4da1-85c1-2f501e395e95\">\n",
              "  <button class=\"colab-df-quickchart\" onclick=\"quickchart('df-757d5ec2-1f65-4da1-85c1-2f501e395e95')\"\n",
              "            title=\"Suggest charts\"\n",
              "            style=\"display:none;\">\n",
              "\n",
              "<svg xmlns=\"http://www.w3.org/2000/svg\" height=\"24px\"viewBox=\"0 0 24 24\"\n",
              "     width=\"24px\">\n",
              "    <g>\n",
              "        <path d=\"M19 3H5c-1.1 0-2 .9-2 2v14c0 1.1.9 2 2 2h14c1.1 0 2-.9 2-2V5c0-1.1-.9-2-2-2zM9 17H7v-7h2v7zm4 0h-2V7h2v10zm4 0h-2v-4h2v4z\"/>\n",
              "    </g>\n",
              "</svg>\n",
              "  </button>\n",
              "\n",
              "<style>\n",
              "  .colab-df-quickchart {\n",
              "      --bg-color: #E8F0FE;\n",
              "      --fill-color: #1967D2;\n",
              "      --hover-bg-color: #E2EBFA;\n",
              "      --hover-fill-color: #174EA6;\n",
              "      --disabled-fill-color: #AAA;\n",
              "      --disabled-bg-color: #DDD;\n",
              "  }\n",
              "\n",
              "  [theme=dark] .colab-df-quickchart {\n",
              "      --bg-color: #3B4455;\n",
              "      --fill-color: #D2E3FC;\n",
              "      --hover-bg-color: #434B5C;\n",
              "      --hover-fill-color: #FFFFFF;\n",
              "      --disabled-bg-color: #3B4455;\n",
              "      --disabled-fill-color: #666;\n",
              "  }\n",
              "\n",
              "  .colab-df-quickchart {\n",
              "    background-color: var(--bg-color);\n",
              "    border: none;\n",
              "    border-radius: 50%;\n",
              "    cursor: pointer;\n",
              "    display: none;\n",
              "    fill: var(--fill-color);\n",
              "    height: 32px;\n",
              "    padding: 0;\n",
              "    width: 32px;\n",
              "  }\n",
              "\n",
              "  .colab-df-quickchart:hover {\n",
              "    background-color: var(--hover-bg-color);\n",
              "    box-shadow: 0 1px 2px rgba(60, 64, 67, 0.3), 0 1px 3px 1px rgba(60, 64, 67, 0.15);\n",
              "    fill: var(--button-hover-fill-color);\n",
              "  }\n",
              "\n",
              "  .colab-df-quickchart-complete:disabled,\n",
              "  .colab-df-quickchart-complete:disabled:hover {\n",
              "    background-color: var(--disabled-bg-color);\n",
              "    fill: var(--disabled-fill-color);\n",
              "    box-shadow: none;\n",
              "  }\n",
              "\n",
              "  .colab-df-spinner {\n",
              "    border: 2px solid var(--fill-color);\n",
              "    border-color: transparent;\n",
              "    border-bottom-color: var(--fill-color);\n",
              "    animation:\n",
              "      spin 1s steps(1) infinite;\n",
              "  }\n",
              "\n",
              "  @keyframes spin {\n",
              "    0% {\n",
              "      border-color: transparent;\n",
              "      border-bottom-color: var(--fill-color);\n",
              "      border-left-color: var(--fill-color);\n",
              "    }\n",
              "    20% {\n",
              "      border-color: transparent;\n",
              "      border-left-color: var(--fill-color);\n",
              "      border-top-color: var(--fill-color);\n",
              "    }\n",
              "    30% {\n",
              "      border-color: transparent;\n",
              "      border-left-color: var(--fill-color);\n",
              "      border-top-color: var(--fill-color);\n",
              "      border-right-color: var(--fill-color);\n",
              "    }\n",
              "    40% {\n",
              "      border-color: transparent;\n",
              "      border-right-color: var(--fill-color);\n",
              "      border-top-color: var(--fill-color);\n",
              "    }\n",
              "    60% {\n",
              "      border-color: transparent;\n",
              "      border-right-color: var(--fill-color);\n",
              "    }\n",
              "    80% {\n",
              "      border-color: transparent;\n",
              "      border-right-color: var(--fill-color);\n",
              "      border-bottom-color: var(--fill-color);\n",
              "    }\n",
              "    90% {\n",
              "      border-color: transparent;\n",
              "      border-bottom-color: var(--fill-color);\n",
              "    }\n",
              "  }\n",
              "</style>\n",
              "\n",
              "  <script>\n",
              "    async function quickchart(key) {\n",
              "      const quickchartButtonEl =\n",
              "        document.querySelector('#' + key + ' button');\n",
              "      quickchartButtonEl.disabled = true;  // To prevent multiple clicks.\n",
              "      quickchartButtonEl.classList.add('colab-df-spinner');\n",
              "      try {\n",
              "        const charts = await google.colab.kernel.invokeFunction(\n",
              "            'suggestCharts', [key], {});\n",
              "      } catch (error) {\n",
              "        console.error('Error during call to suggestCharts:', error);\n",
              "      }\n",
              "      quickchartButtonEl.classList.remove('colab-df-spinner');\n",
              "      quickchartButtonEl.classList.add('colab-df-quickchart-complete');\n",
              "    }\n",
              "    (() => {\n",
              "      let quickchartButtonEl =\n",
              "        document.querySelector('#df-757d5ec2-1f65-4da1-85c1-2f501e395e95 button');\n",
              "      quickchartButtonEl.style.display =\n",
              "        google.colab.kernel.accessAllowed ? 'block' : 'none';\n",
              "    })();\n",
              "  </script>\n",
              "</div>\n",
              "\n",
              "    </div>\n",
              "  </div>\n"
            ],
            "text/plain": [
              "        Systolic_BP  Diastolic_BP\n",
              "count  20000.000000  20000.000000\n",
              "mean     114.985450     74.999300\n",
              "std       14.725589      8.975034\n",
              "min       90.000000     60.000000\n",
              "25%      102.000000     67.000000\n",
              "50%      115.000000     75.000000\n",
              "75%      128.000000     83.000000\n",
              "max      140.000000     90.000000"
            ]
          },
          "execution_count": 85,
          "metadata": {},
          "output_type": "execute_result"
        }
      ],
      "source": [
        "df[['Systolic_BP','Diastolic_BP']]=df[['Systolic_BP','Diastolic_BP']].astype(int)\n",
        "df[['Systolic_BP','Diastolic_BP']].describe()"
      ]
    },
    {
      "cell_type": "markdown",
      "metadata": {
        "id": "QJkfnp0WSBs-"
      },
      "source": [
        "Este grafico permite evaluar si existe una diferencia significativa en la presión sistólica entre pacientes con y sin enfermedad del ojo seco"
      ]
    },
    {
      "cell_type": "code",
      "execution_count": 86,
      "metadata": {
        "colab": {
          "base_uri": "https://localhost:8080/",
          "height": 458
        },
        "id": "sIr5DzE7wAX7",
        "outputId": "58ecdafb-a9ac-4841-e091-1d605653eee8"
      },
      "outputs": [
        {
          "data": {
            "image/png": "[encoded data removed]",
            "text/plain": [
              "<Figure size 640x480 with 1 Axes>"
            ]
          },
          "metadata": {},
          "output_type": "display_data"
        }
      ],
      "source": [
        "sns.boxplot(data=df,x='Dry Eye Disease',y='Systolic_BP',palette='winter',hue='Dry Eye Disease')\n",
        "plt.show()"
      ]
    },
    {
      "cell_type": "markdown",
      "metadata": {
        "id": "Z8vyp1MfSQw3"
      },
      "source": [
        "Gráfico de caja para comparar la distribución de la presión arterial diastólica (Diastolic_BP) en pacientes con y sin enfermedad del ojo seco (Dry Eye Disease)."
      ]
    },
    {
      "cell_type": "code",
      "execution_count": 87,
      "metadata": {
        "colab": {
          "base_uri": "https://localhost:8080/",
          "height": 458
        },
        "id": "RXGXCscvwAX7",
        "outputId": "9887a20e-fd47-41a2-eb48-dd36c73974e1"
      },
      "outputs": [
        {
          "data": {
            "image/png": "[encoded data removed]",
            "text/plain": [
              "<Figure size 640x480 with 1 Axes>"
            ]
          },
          "metadata": {},
          "output_type": "display_data"
        }
      ],
      "source": [
        "sns.boxplot(data=df,x='Dry Eye Disease',y='Diastolic_BP',palette='winter',hue='Dry Eye Disease')\n",
        "plt.show()"
      ]
    },
    {
      "cell_type": "code",
      "execution_count": 88,
      "metadata": {
        "colab": {
          "base_uri": "https://localhost:8080/",
          "height": 143
        },
        "id": "rMxu59FPwAX8",
        "outputId": "f967c1cb-47fa-4e24-f970-62c01c5e47c6"
      },
      "outputs": [
        {
          "data": {
            "application/vnd.google.colaboratory.intrinsic+json": {
              "summary": "{\n  \"name\": \"df\",\n  \"rows\": 2,\n  \"fields\": [\n    {\n      \"column\": \"Dry Eye Disease\",\n      \"properties\": {\n        \"dtype\": \"string\",\n        \"num_unique_values\": 2,\n        \"samples\": [\n          \"Y\",\n          \"N\"\n        ],\n        \"semantic_type\": \"\",\n        \"description\": \"\"\n      }\n    },\n    {\n      \"column\": \"Age\",\n      \"properties\": {\n        \"dtype\": \"number\",\n        \"std\": 0.06324414557884905,\n        \"min\": 31.364498061180527,\n        \"max\": 31.453938789598833,\n        \"num_unique_values\": 2,\n        \"samples\": [\n          31.453938789598833,\n          31.364498061180527\n        ],\n        \"semantic_type\": \"\",\n        \"description\": \"\"\n      }\n    },\n    {\n      \"column\": \"Heart rate\",\n      \"properties\": {\n        \"dtype\": \"number\",\n        \"std\": 0.03650971892107145,\n        \"min\": 79.89422413131855,\n        \"max\": 79.94585667097516,\n        \"num_unique_values\": 2,\n        \"samples\": [\n          79.89422413131855,\n          79.94585667097516\n        ],\n        \"semantic_type\": \"\",\n        \"description\": \"\"\n      }\n    },\n    {\n      \"column\": \"Physical activity\",\n      \"properties\": {\n        \"dtype\": \"number\",\n        \"std\": 0.25539213719722037,\n        \"min\": 89.94400552274296,\n        \"max\": 90.30518454689071,\n        \"num_unique_values\": 2,\n        \"samples\": [\n          89.94400552274296,\n          90.30518454689071\n        ],\n        \"semantic_type\": \"\",\n        \"description\": \"\"\n      }\n    },\n    {\n      \"column\": \"Sleep quality\",\n      \"properties\": {\n        \"dtype\": \"number\",\n        \"std\": 0.010461058621972797,\n        \"min\": 2.992099409373322,\n        \"max\": 3.006893580353296,\n        \"num_unique_values\": 2,\n        \"samples\": [\n          2.992099409373322,\n          3.006893580353296\n        ],\n        \"semantic_type\": \"\",\n        \"description\": \"\"\n      }\n    }\n  ]\n}",
              "type": "dataframe"
            },
            "text/html": [
              "\n",
              "  <div id=\"df-6c957c1a-c3ee-451d-8bb4-143b73231ec3\" class=\"colab-df-container\">\n",
              "    <div>\n",
              "<style scoped>\n",
              "    .dataframe tbody tr th:only-of-type {\n",
              "        vertical-align: middle;\n",
              "    }\n",
              "\n",
              "    .dataframe tbody tr th {\n",
              "        vertical-align: top;\n",
              "    }\n",
              "\n",
              "    .dataframe thead th {\n",
              "        text-align: right;\n",
              "    }\n",
              "</style>\n",
              "<table border=\"1\" class=\"dataframe\">\n",
              "  <thead>\n",
              "    <tr style=\"text-align: right;\">\n",
              "      <th></th>\n",
              "      <th>Age</th>\n",
              "      <th>Heart rate</th>\n",
              "      <th>Physical activity</th>\n",
              "      <th>Sleep quality</th>\n",
              "    </tr>\n",
              "    <tr>\n",
              "      <th>Dry Eye Disease</th>\n",
              "      <th></th>\n",
              "      <th></th>\n",
              "      <th></th>\n",
              "      <th></th>\n",
              "    </tr>\n",
              "  </thead>\n",
              "  <tbody>\n",
              "    <tr>\n",
              "      <th>N</th>\n",
              "      <td>31.364498</td>\n",
              "      <td>79.945857</td>\n",
              "      <td>90.305185</td>\n",
              "      <td>3.006894</td>\n",
              "    </tr>\n",
              "    <tr>\n",
              "      <th>Y</th>\n",
              "      <td>31.453939</td>\n",
              "      <td>79.894224</td>\n",
              "      <td>89.944006</td>\n",
              "      <td>2.992099</td>\n",
              "    </tr>\n",
              "  </tbody>\n",
              "</table>\n",
              "</div>\n",
              "    <div class=\"colab-df-buttons\">\n",
              "\n",
              "  <div class=\"colab-df-container\">\n",
              "    <button class=\"colab-df-convert\" onclick=\"convertToInteractive('df-6c957c1a-c3ee-451d-8bb4-143b73231ec3')\"\n",
              "            title=\"Convert this dataframe to an interactive table.\"\n",
              "            style=\"display:none;\">\n",
              "\n",
              "  <svg xmlns=\"http://www.w3.org/2000/svg\" height=\"24px\" viewBox=\"0 -960 960 960\">\n",
              "    <path d=\"M120-120v-720h720v720H120Zm60-500h600v-160H180v160Zm220 220h160v-160H400v160Zm0 220h160v-160H400v160ZM180-400h160v-160H180v160Zm440 0h160v-160H620v160ZM180-180h160v-160H180v160Zm440 0h160v-160H620v160Z\"/>\n",
              "  </svg>\n",
              "    </button>\n",
              "\n",
              "  <style>\n",
              "    .colab-df-container {\n",
              "      display:flex;\n",
              "      gap: 12px;\n",
              "    }\n",
              "\n",
              "    .colab-df-convert {\n",
              "      background-color: #E8F0FE;\n",
              "      border: none;\n",
              "      border-radius: 50%;\n",
              "      cursor: pointer;\n",
              "      display: none;\n",
              "      fill: #1967D2;\n",
              "      height: 32px;\n",
              "      padding: 0 0 0 0;\n",
              "      width: 32px;\n",
              "    }\n",
              "\n",
              "    .colab-df-convert:hover {\n",
              "      background-color: #E2EBFA;\n",
              "      box-shadow: 0px 1px 2px rgba(60, 64, 67, 0.3), 0px 1px 3px 1px rgba(60, 64, 67, 0.15);\n",
              "      fill: #174EA6;\n",
              "    }\n",
              "\n",
              "    .colab-df-buttons div {\n",
              "      margin-bottom: 4px;\n",
              "    }\n",
              "\n",
              "    [theme=dark] .colab-df-convert {\n",
              "      background-color: #3B4455;\n",
              "      fill: #D2E3FC;\n",
              "    }\n",
              "\n",
              "    [theme=dark] .colab-df-convert:hover {\n",
              "      background-color: #434B5C;\n",
              "      box-shadow: 0px 1px 3px 1px rgba(0, 0, 0, 0.15);\n",
              "      filter: drop-shadow(0px 1px 2px rgba(0, 0, 0, 0.3));\n",
              "      fill: #FFFFFF;\n",
              "    }\n",
              "  </style>\n",
              "\n",
              "    <script>\n",
              "      const buttonEl =\n",
              "        document.querySelector('#df-6c957c1a-c3ee-451d-8bb4-143b73231ec3 button.colab-df-convert');\n",
              "      buttonEl.style.display =\n",
              "        google.colab.kernel.accessAllowed ? 'block' : 'none';\n",
              "\n",
              "      async function convertToInteractive(key) {\n",
              "        const element = document.querySelector('#df-6c957c1a-c3ee-451d-8bb4-143b73231ec3');\n",
              "        const dataTable =\n",
              "          await google.colab.kernel.invokeFunction('convertToInteractive',\n",
              "                                                    [key], {});\n",
              "        if (!dataTable) return;\n",
              "\n",
              "        const docLinkHtml = 'Like what you see? Visit the ' +\n",
              "          '<a target=\"_blank\" href=https://colab.research.google.com/notebooks/data_table.ipynb>data table notebook</a>'\n",
              "          + ' to learn more about interactive tables.';\n",
              "        element.innerHTML = '';\n",
              "        dataTable['output_type'] = 'display_data';\n",
              "        await google.colab.output.renderOutput(dataTable, element);\n",
              "        const docLink = document.createElement('div');\n",
              "        docLink.innerHTML = docLinkHtml;\n",
              "        element.appendChild(docLink);\n",
              "      }\n",
              "    </script>\n",
              "  </div>\n",
              "\n",
              "\n",
              "<div id=\"df-f1c4b44e-f879-427f-8b73-4529e41667a9\">\n",
              "  <button class=\"colab-df-quickchart\" onclick=\"quickchart('df-f1c4b44e-f879-427f-8b73-4529e41667a9')\"\n",
              "            title=\"Suggest charts\"\n",
              "            style=\"display:none;\">\n",
              "\n",
              "<svg xmlns=\"http://www.w3.org/2000/svg\" height=\"24px\"viewBox=\"0 0 24 24\"\n",
              "     width=\"24px\">\n",
              "    <g>\n",
              "        <path d=\"M19 3H5c-1.1 0-2 .9-2 2v14c0 1.1.9 2 2 2h14c1.1 0 2-.9 2-2V5c0-1.1-.9-2-2-2zM9 17H7v-7h2v7zm4 0h-2V7h2v10zm4 0h-2v-4h2v4z\"/>\n",
              "    </g>\n",
              "</svg>\n",
              "  </button>\n",
              "\n",
              "<style>\n",
              "  .colab-df-quickchart {\n",
              "      --bg-color: #E8F0FE;\n",
              "      --fill-color: #1967D2;\n",
              "      --hover-bg-color: #E2EBFA;\n",
              "      --hover-fill-color: #174EA6;\n",
              "      --disabled-fill-color: #AAA;\n",
              "      --disabled-bg-color: #DDD;\n",
              "  }\n",
              "\n",
              "  [theme=dark] .colab-df-quickchart {\n",
              "      --bg-color: #3B4455;\n",
              "      --fill-color: #D2E3FC;\n",
              "      --hover-bg-color: #434B5C;\n",
              "      --hover-fill-color: #FFFFFF;\n",
              "      --disabled-bg-color: #3B4455;\n",
              "      --disabled-fill-color: #666;\n",
              "  }\n",
              "\n",
              "  .colab-df-quickchart {\n",
              "    background-color: var(--bg-color);\n",
              "    border: none;\n",
              "    border-radius: 50%;\n",
              "    cursor: pointer;\n",
              "    display: none;\n",
              "    fill: var(--fill-color);\n",
              "    height: 32px;\n",
              "    padding: 0;\n",
              "    width: 32px;\n",
              "  }\n",
              "\n",
              "  .colab-df-quickchart:hover {\n",
              "    background-color: var(--hover-bg-color);\n",
              "    box-shadow: 0 1px 2px rgba(60, 64, 67, 0.3), 0 1px 3px 1px rgba(60, 64, 67, 0.15);\n",
              "    fill: var(--button-hover-fill-color);\n",
              "  }\n",
              "\n",
              "  .colab-df-quickchart-complete:disabled,\n",
              "  .colab-df-quickchart-complete:disabled:hover {\n",
              "    background-color: var(--disabled-bg-color);\n",
              "    fill: var(--disabled-fill-color);\n",
              "    box-shadow: none;\n",
              "  }\n",
              "\n",
              "  .colab-df-spinner {\n",
              "    border: 2px solid var(--fill-color);\n",
              "    border-color: transparent;\n",
              "    border-bottom-color: var(--fill-color);\n",
              "    animation:\n",
              "      spin 1s steps(1) infinite;\n",
              "  }\n",
              "\n",
              "  @keyframes spin {\n",
              "    0% {\n",
              "      border-color: transparent;\n",
              "      border-bottom-color: var(--fill-color);\n",
              "      border-left-color: var(--fill-color);\n",
              "    }\n",
              "    20% {\n",
              "      border-color: transparent;\n",
              "      border-left-color: var(--fill-color);\n",
              "      border-top-color: var(--fill-color);\n",
              "    }\n",
              "    30% {\n",
              "      border-color: transparent;\n",
              "      border-left-color: var(--fill-color);\n",
              "      border-top-color: var(--fill-color);\n",
              "      border-right-color: var(--fill-color);\n",
              "    }\n",
              "    40% {\n",
              "      border-color: transparent;\n",
              "      border-right-color: var(--fill-color);\n",
              "      border-top-color: var(--fill-color);\n",
              "    }\n",
              "    60% {\n",
              "      border-color: transparent;\n",
              "      border-right-color: var(--fill-color);\n",
              "    }\n",
              "    80% {\n",
              "      border-color: transparent;\n",
              "      border-right-color: var(--fill-color);\n",
              "      border-bottom-color: var(--fill-color);\n",
              "    }\n",
              "    90% {\n",
              "      border-color: transparent;\n",
              "      border-bottom-color: var(--fill-color);\n",
              "    }\n",
              "  }\n",
              "</style>\n",
              "\n",
              "  <script>\n",
              "    async function quickchart(key) {\n",
              "      const quickchartButtonEl =\n",
              "        document.querySelector('#' + key + ' button');\n",
              "      quickchartButtonEl.disabled = true;  // To prevent multiple clicks.\n",
              "      quickchartButtonEl.classList.add('colab-df-spinner');\n",
              "      try {\n",
              "        const charts = await google.colab.kernel.invokeFunction(\n",
              "            'suggestCharts', [key], {});\n",
              "      } catch (error) {\n",
              "        console.error('Error during call to suggestCharts:', error);\n",
              "      }\n",
              "      quickchartButtonEl.classList.remove('colab-df-spinner');\n",
              "      quickchartButtonEl.classList.add('colab-df-quickchart-complete');\n",
              "    }\n",
              "    (() => {\n",
              "      let quickchartButtonEl =\n",
              "        document.querySelector('#df-f1c4b44e-f879-427f-8b73-4529e41667a9 button');\n",
              "      quickchartButtonEl.style.display =\n",
              "        google.colab.kernel.accessAllowed ? 'block' : 'none';\n",
              "    })();\n",
              "  </script>\n",
              "</div>\n",
              "\n",
              "    </div>\n",
              "  </div>\n"
            ],
            "text/plain": [
              "                       Age  Heart rate  Physical activity  Sleep quality\n",
              "Dry Eye Disease                                                         \n",
              "N                31.364498   79.945857          90.305185       3.006894\n",
              "Y                31.453939   79.894224          89.944006       2.992099"
            ]
          },
          "execution_count": 88,
          "metadata": {},
          "output_type": "execute_result"
        }
      ],
      "source": [
        "df.pivot_table(index='Dry Eye Disease',values=['Physical activity','Sleep quality','Age','Heart rate'],aggfunc='mean')"
      ]
    },
    {
      "cell_type": "markdown",
      "metadata": {
        "id": "8Fiqp8rV29KA"
      },
      "source": [
        "## **Modelos**\n",
        "\n",
        "Recordando , el objetivo del proyecto es desarrollar un modelo de Machine Learning que permita predecir si una persona tiene o no el síndrome del ojo seco (Clasificación binaria), basado en los factores de riesgo relacionados con el estilo de vida y las variables médicas.Entonces la tarea principal es la **clasificación binaria**, por lo cual se usaran diferentes algoritmos de clasificación para evaluar su desempeño y elegir el mejor modelo."
      ]
    },
    {
      "cell_type": "markdown",
      "metadata": {
        "id": "aADa4fCy29KA"
      },
      "source": [
        "### Preprocesamiento"
      ]
    },
    {
      "cell_type": "code",
      "execution_count": 5,
      "metadata": {
        "id": "WrgdzbvI29KB"
      },
      "outputs": [],
      "source": [
        "from sklearn.preprocessing import LabelEncoder,StandardScaler\n",
        "from sklearn.model_selection import train_test_split"
      ]
    },
    {
      "cell_type": "code",
      "execution_count": 6,
      "metadata": {
        "id": "f0zZrneA29KB"
      },
      "outputs": [],
      "source": [
        "df.drop(labels=['Blood pressure','Daily steps'],axis=1,inplace=True)"
      ]
    },
    {
      "cell_type": "code",
      "execution_count": 7,
      "metadata": {
        "colab": {
          "base_uri": "https://localhost:8080/",
          "height": 307
        },
        "id": "LXWWguNy29KB",
        "outputId": "55ae4925-207a-418e-c4bc-d80c8ad78055"
      },
      "outputs": [
        {
          "data": {
            "application/vnd.microsoft.datawrangler.viewer.v0+json": {
              "columns": [
                {
                  "name": "index",
                  "rawType": "int64",
                  "type": "integer"
                },
                {
                  "name": "Gender",
                  "rawType": "object",
                  "type": "string"
                },
                {
                  "name": "Age",
                  "rawType": "int64",
                  "type": "integer"
                },
                {
                  "name": "Sleep duration",
                  "rawType": "float64",
                  "type": "float"
                },
                {
                  "name": "Sleep quality",
                  "rawType": "int64",
                  "type": "integer"
                },
                {
                  "name": "Stress level",
                  "rawType": "int64",
                  "type": "integer"
                },
                {
                  "name": "Heart rate",
                  "rawType": "int64",
                  "type": "integer"
                },
                {
                  "name": "Physical activity",
                  "rawType": "int64",
                  "type": "integer"
                },
                {
                  "name": "Height",
                  "rawType": "int64",
                  "type": "integer"
                },
                {
                  "name": "Weight",
                  "rawType": "int64",
                  "type": "integer"
                },
                {
                  "name": "Sleep disorder",
                  "rawType": "object",
                  "type": "string"
                },
                {
                  "name": "Wake up during night",
                  "rawType": "object",
                  "type": "string"
                },
                {
                  "name": "Feel sleepy during day",
                  "rawType": "object",
                  "type": "string"
                },
                {
                  "name": "Caffeine consumption",
                  "rawType": "object",
                  "type": "string"
                },
                {
                  "name": "Alcohol consumption",
                  "rawType": "object",
                  "type": "string"
                },
                {
                  "name": "Smoking",
                  "rawType": "object",
                  "type": "string"
                },
                {
                  "name": "Medical issue",
                  "rawType": "object",
                  "type": "string"
                },
                {
                  "name": "Ongoing medication",
                  "rawType": "object",
                  "type": "string"
                },
                {
                  "name": "Smart device before bed",
                  "rawType": "object",
                  "type": "string"
                },
                {
                  "name": "Average screen time",
                  "rawType": "float64",
                  "type": "float"
                },
                {
                  "name": "Blue-light filter",
                  "rawType": "object",
                  "type": "string"
                },
                {
                  "name": "Discomfort Eye-strain",
                  "rawType": "object",
                  "type": "string"
                },
                {
                  "name": "Redness in eye",
                  "rawType": "object",
                  "type": "string"
                },
                {
                  "name": "Itchiness/Irritation in eye",
                  "rawType": "object",
                  "type": "string"
                },
                {
                  "name": "Dry Eye Disease",
                  "rawType": "object",
                  "type": "string"
                }
              ],
              "conversionMethod": "pd.DataFrame",
              "ref": "6148ee8e-53c8-44da-ad6c-8af53b335e87",
              "rows": [
                [
                  "0",
                  "F",
                  "24",
                  "9.5",
                  "2",
                  "1",
                  "67",
                  "31",
                  "161",
                  "69",
                  "Y",
                  "N",
                  "N",
                  "N",
                  "N",
                  "N",
                  "Y",
                  "Y",
                  "N",
                  "8.7",
                  "N",
                  "Y",
                  "Y",
                  "N",
                  "Y"
                ],
                [
                  "1",
                  "M",
                  "39",
                  "9.6",
                  "2",
                  "3",
                  "60",
                  "74",
                  "164",
                  "87",
                  "N",
                  "N",
                  "N",
                  "N",
                  "Y",
                  "N",
                  "Y",
                  "Y",
                  "N",
                  "9.6",
                  "Y",
                  "N",
                  "N",
                  "Y",
                  "Y"
                ],
                [
                  "2",
                  "F",
                  "45",
                  "5.4",
                  "1",
                  "5",
                  "95",
                  "93",
                  "179",
                  "94",
                  "Y",
                  "Y",
                  "N",
                  "Y",
                  "Y",
                  "N",
                  "N",
                  "N",
                  "Y",
                  "4.0",
                  "N",
                  "Y",
                  "N",
                  "N",
                  "N"
                ],
                [
                  "3",
                  "F",
                  "45",
                  "5.4",
                  "4",
                  "5",
                  "78",
                  "32",
                  "160",
                  "77",
                  "N",
                  "N",
                  "N",
                  "Y",
                  "N",
                  "N",
                  "Y",
                  "N",
                  "N",
                  "7.6",
                  "N",
                  "Y",
                  "N",
                  "Y",
                  "N"
                ],
                [
                  "4",
                  "F",
                  "42",
                  "5.7",
                  "3",
                  "2",
                  "72",
                  "173",
                  "179",
                  "99",
                  "N",
                  "Y",
                  "N",
                  "N",
                  "N",
                  "N",
                  "Y",
                  "N",
                  "N",
                  "3.5",
                  "N",
                  "Y",
                  "Y",
                  "N",
                  "Y"
                ]
              ],
              "shape": {
                "columns": 24,
                "rows": 5
              }
            },
            "text/html": [
              "<div>\n",
              "<style scoped>\n",
              "    .dataframe tbody tr th:only-of-type {\n",
              "        vertical-align: middle;\n",
              "    }\n",
              "\n",
              "    .dataframe tbody tr th {\n",
              "        vertical-align: top;\n",
              "    }\n",
              "\n",
              "    .dataframe thead th {\n",
              "        text-align: right;\n",
              "    }\n",
              "</style>\n",
              "<table border=\"1\" class=\"dataframe\">\n",
              "  <thead>\n",
              "    <tr style=\"text-align: right;\">\n",
              "      <th></th>\n",
              "      <th>Gender</th>\n",
              "      <th>Age</th>\n",
              "      <th>Sleep duration</th>\n",
              "      <th>Sleep quality</th>\n",
              "      <th>Stress level</th>\n",
              "      <th>Heart rate</th>\n",
              "      <th>Physical activity</th>\n",
              "      <th>Height</th>\n",
              "      <th>Weight</th>\n",
              "      <th>Sleep disorder</th>\n",
              "      <th>...</th>\n",
              "      <th>Smoking</th>\n",
              "      <th>Medical issue</th>\n",
              "      <th>Ongoing medication</th>\n",
              "      <th>Smart device before bed</th>\n",
              "      <th>Average screen time</th>\n",
              "      <th>Blue-light filter</th>\n",
              "      <th>Discomfort Eye-strain</th>\n",
              "      <th>Redness in eye</th>\n",
              "      <th>Itchiness/Irritation in eye</th>\n",
              "      <th>Dry Eye Disease</th>\n",
              "    </tr>\n",
              "  </thead>\n",
              "  <tbody>\n",
              "    <tr>\n",
              "      <th>0</th>\n",
              "      <td>F</td>\n",
              "      <td>24</td>\n",
              "      <td>9.5</td>\n",
              "      <td>2</td>\n",
              "      <td>1</td>\n",
              "      <td>67</td>\n",
              "      <td>31</td>\n",
              "      <td>161</td>\n",
              "      <td>69</td>\n",
              "      <td>Y</td>\n",
              "      <td>...</td>\n",
              "      <td>N</td>\n",
              "      <td>Y</td>\n",
              "      <td>Y</td>\n",
              "      <td>N</td>\n",
              "      <td>8.7</td>\n",
              "      <td>N</td>\n",
              "      <td>Y</td>\n",
              "      <td>Y</td>\n",
              "      <td>N</td>\n",
              "      <td>Y</td>\n",
              "    </tr>\n",
              "    <tr>\n",
              "      <th>1</th>\n",
              "      <td>M</td>\n",
              "      <td>39</td>\n",
              "      <td>9.6</td>\n",
              "      <td>2</td>\n",
              "      <td>3</td>\n",
              "      <td>60</td>\n",
              "      <td>74</td>\n",
              "      <td>164</td>\n",
              "      <td>87</td>\n",
              "      <td>N</td>\n",
              "      <td>...</td>\n",
              "      <td>N</td>\n",
              "      <td>Y</td>\n",
              "      <td>Y</td>\n",
              "      <td>N</td>\n",
              "      <td>9.6</td>\n",
              "      <td>Y</td>\n",
              "      <td>N</td>\n",
              "      <td>N</td>\n",
              "      <td>Y</td>\n",
              "      <td>Y</td>\n",
              "    </tr>\n",
              "    <tr>\n",
              "      <th>2</th>\n",
              "      <td>F</td>\n",
              "      <td>45</td>\n",
              "      <td>5.4</td>\n",
              "      <td>1</td>\n",
              "      <td>5</td>\n",
              "      <td>95</td>\n",
              "      <td>93</td>\n",
              "      <td>179</td>\n",
              "      <td>94</td>\n",
              "      <td>Y</td>\n",
              "      <td>...</td>\n",
              "      <td>N</td>\n",
              "      <td>N</td>\n",
              "      <td>N</td>\n",
              "      <td>Y</td>\n",
              "      <td>4.0</td>\n",
              "      <td>N</td>\n",
              "      <td>Y</td>\n",
              "      <td>N</td>\n",
              "      <td>N</td>\n",
              "      <td>N</td>\n",
              "    </tr>\n",
              "    <tr>\n",
              "      <th>3</th>\n",
              "      <td>F</td>\n",
              "      <td>45</td>\n",
              "      <td>5.4</td>\n",
              "      <td>4</td>\n",
              "      <td>5</td>\n",
              "      <td>78</td>\n",
              "      <td>32</td>\n",
              "      <td>160</td>\n",
              "      <td>77</td>\n",
              "      <td>N</td>\n",
              "      <td>...</td>\n",
              "      <td>N</td>\n",
              "      <td>Y</td>\n",
              "      <td>N</td>\n",
              "      <td>N</td>\n",
              "      <td>7.6</td>\n",
              "      <td>N</td>\n",
              "      <td>Y</td>\n",
              "      <td>N</td>\n",
              "      <td>Y</td>\n",
              "      <td>N</td>\n",
              "    </tr>\n",
              "    <tr>\n",
              "      <th>4</th>\n",
              "      <td>F</td>\n",
              "      <td>42</td>\n",
              "      <td>5.7</td>\n",
              "      <td>3</td>\n",
              "      <td>2</td>\n",
              "      <td>72</td>\n",
              "      <td>173</td>\n",
              "      <td>179</td>\n",
              "      <td>99</td>\n",
              "      <td>N</td>\n",
              "      <td>...</td>\n",
              "      <td>N</td>\n",
              "      <td>Y</td>\n",
              "      <td>N</td>\n",
              "      <td>N</td>\n",
              "      <td>3.5</td>\n",
              "      <td>N</td>\n",
              "      <td>Y</td>\n",
              "      <td>Y</td>\n",
              "      <td>N</td>\n",
              "      <td>Y</td>\n",
              "    </tr>\n",
              "  </tbody>\n",
              "</table>\n",
              "<p>5 rows × 24 columns</p>\n",
              "</div>"
            ],
            "text/plain": [
              "  Gender  Age  Sleep duration  Sleep quality  Stress level  Heart rate  \\\n",
              "0      F   24             9.5              2             1          67   \n",
              "1      M   39             9.6              2             3          60   \n",
              "2      F   45             5.4              1             5          95   \n",
              "3      F   45             5.4              4             5          78   \n",
              "4      F   42             5.7              3             2          72   \n",
              "\n",
              "   Physical activity  Height  Weight Sleep disorder  ... Smoking  \\\n",
              "0                 31     161      69              Y  ...       N   \n",
              "1                 74     164      87              N  ...       N   \n",
              "2                 93     179      94              Y  ...       N   \n",
              "3                 32     160      77              N  ...       N   \n",
              "4                173     179      99              N  ...       N   \n",
              "\n",
              "  Medical issue Ongoing medication Smart device before bed  \\\n",
              "0             Y                  Y                       N   \n",
              "1             Y                  Y                       N   \n",
              "2             N                  N                       Y   \n",
              "3             Y                  N                       N   \n",
              "4             Y                  N                       N   \n",
              "\n",
              "  Average screen time Blue-light filter Discomfort Eye-strain Redness in eye  \\\n",
              "0                 8.7                 N                     Y              Y   \n",
              "1                 9.6                 Y                     N              N   \n",
              "2                 4.0                 N                     Y              N   \n",
              "3                 7.6                 N                     Y              N   \n",
              "4                 3.5                 N                     Y              Y   \n",
              "\n",
              "   Itchiness/Irritation in eye Dry Eye Disease  \n",
              "0                            N               Y  \n",
              "1                            Y               Y  \n",
              "2                            N               N  \n",
              "3                            Y               N  \n",
              "4                            N               Y  \n",
              "\n",
              "[5 rows x 24 columns]"
            ]
          },
          "execution_count": 7,
          "metadata": {},
          "output_type": "execute_result"
        }
      ],
      "source": [
        "df.head()"
      ]
    },
    {
      "cell_type": "code",
      "execution_count": 8,
      "metadata": {
        "id": "FoL4RzfT29KB"
      },
      "outputs": [],
      "source": [
        "categorical_features=df.select_dtypes(include='object').columns\n",
        "for col in categorical_features:\n",
        "    le=LabelEncoder()\n",
        "    df[col]=le.fit_transform(df[col])"
      ]
    },
    {
      "cell_type": "code",
      "execution_count": 9,
      "metadata": {
        "colab": {
          "base_uri": "https://localhost:8080/",
          "height": 307
        },
        "id": "H4KPVcZl29KC",
        "outputId": "9e159faa-f35f-479f-c121-614b31e05dc5"
      },
      "outputs": [
        {
          "data": {
            "application/vnd.microsoft.datawrangler.viewer.v0+json": {
              "columns": [
                {
                  "name": "index",
                  "rawType": "int64",
                  "type": "integer"
                },
                {
                  "name": "Gender",
                  "rawType": "int32",
                  "type": "integer"
                },
                {
                  "name": "Age",
                  "rawType": "int64",
                  "type": "integer"
                },
                {
                  "name": "Sleep duration",
                  "rawType": "float64",
                  "type": "float"
                },
                {
                  "name": "Sleep quality",
                  "rawType": "int64",
                  "type": "integer"
                },
                {
                  "name": "Stress level",
                  "rawType": "int64",
                  "type": "integer"
                },
                {
                  "name": "Heart rate",
                  "rawType": "int64",
                  "type": "integer"
                },
                {
                  "name": "Physical activity",
                  "rawType": "int64",
                  "type": "integer"
                },
                {
                  "name": "Height",
                  "rawType": "int64",
                  "type": "integer"
                },
                {
                  "name": "Weight",
                  "rawType": "int64",
                  "type": "integer"
                },
                {
                  "name": "Sleep disorder",
                  "rawType": "int32",
                  "type": "integer"
                },
                {
                  "name": "Wake up during night",
                  "rawType": "int32",
                  "type": "integer"
                },
                {
                  "name": "Feel sleepy during day",
                  "rawType": "int32",
                  "type": "integer"
                },
                {
                  "name": "Caffeine consumption",
                  "rawType": "int32",
                  "type": "integer"
                },
                {
                  "name": "Alcohol consumption",
                  "rawType": "int32",
                  "type": "integer"
                },
                {
                  "name": "Smoking",
                  "rawType": "int32",
                  "type": "integer"
                },
                {
                  "name": "Medical issue",
                  "rawType": "int32",
                  "type": "integer"
                },
                {
                  "name": "Ongoing medication",
                  "rawType": "int32",
                  "type": "integer"
                },
                {
                  "name": "Smart device before bed",
                  "rawType": "int32",
                  "type": "integer"
                },
                {
                  "name": "Average screen time",
                  "rawType": "float64",
                  "type": "float"
                },
                {
                  "name": "Blue-light filter",
                  "rawType": "int32",
                  "type": "integer"
                },
                {
                  "name": "Discomfort Eye-strain",
                  "rawType": "int32",
                  "type": "integer"
                },
                {
                  "name": "Redness in eye",
                  "rawType": "int32",
                  "type": "integer"
                },
                {
                  "name": "Itchiness/Irritation in eye",
                  "rawType": "int32",
                  "type": "integer"
                },
                {
                  "name": "Dry Eye Disease",
                  "rawType": "int32",
                  "type": "integer"
                }
              ],
              "conversionMethod": "pd.DataFrame",
              "ref": "c6a4b4ae-f3ed-4fdf-aef5-e1fc0cbb33fe",
              "rows": [
                [
                  "0",
                  "0",
                  "24",
                  "9.5",
                  "2",
                  "1",
                  "67",
                  "31",
                  "161",
                  "69",
                  "1",
                  "0",
                  "0",
                  "0",
                  "0",
                  "0",
                  "1",
                  "1",
                  "0",
                  "8.7",
                  "0",
                  "1",
                  "1",
                  "0",
                  "1"
                ],
                [
                  "1",
                  "1",
                  "39",
                  "9.6",
                  "2",
                  "3",
                  "60",
                  "74",
                  "164",
                  "87",
                  "0",
                  "0",
                  "0",
                  "0",
                  "1",
                  "0",
                  "1",
                  "1",
                  "0",
                  "9.6",
                  "1",
                  "0",
                  "0",
                  "1",
                  "1"
                ],
                [
                  "2",
                  "0",
                  "45",
                  "5.4",
                  "1",
                  "5",
                  "95",
                  "93",
                  "179",
                  "94",
                  "1",
                  "1",
                  "0",
                  "1",
                  "1",
                  "0",
                  "0",
                  "0",
                  "1",
                  "4.0",
                  "0",
                  "1",
                  "0",
                  "0",
                  "0"
                ],
                [
                  "3",
                  "0",
                  "45",
                  "5.4",
                  "4",
                  "5",
                  "78",
                  "32",
                  "160",
                  "77",
                  "0",
                  "0",
                  "0",
                  "1",
                  "0",
                  "0",
                  "1",
                  "0",
                  "0",
                  "7.6",
                  "0",
                  "1",
                  "0",
                  "1",
                  "0"
                ],
                [
                  "4",
                  "0",
                  "42",
                  "5.7",
                  "3",
                  "2",
                  "72",
                  "173",
                  "179",
                  "99",
                  "0",
                  "1",
                  "0",
                  "0",
                  "0",
                  "0",
                  "1",
                  "0",
                  "0",
                  "3.5",
                  "0",
                  "1",
                  "1",
                  "0",
                  "1"
                ]
              ],
              "shape": {
                "columns": 24,
                "rows": 5
              }
            },
            "text/html": [
              "<div>\n",
              "<style scoped>\n",
              "    .dataframe tbody tr th:only-of-type {\n",
              "        vertical-align: middle;\n",
              "    }\n",
              "\n",
              "    .dataframe tbody tr th {\n",
              "        vertical-align: top;\n",
              "    }\n",
              "\n",
              "    .dataframe thead th {\n",
              "        text-align: right;\n",
              "    }\n",
              "</style>\n",
              "<table border=\"1\" class=\"dataframe\">\n",
              "  <thead>\n",
              "    <tr style=\"text-align: right;\">\n",
              "      <th></th>\n",
              "      <th>Gender</th>\n",
              "      <th>Age</th>\n",
              "      <th>Sleep duration</th>\n",
              "      <th>Sleep quality</th>\n",
              "      <th>Stress level</th>\n",
              "      <th>Heart rate</th>\n",
              "      <th>Physical activity</th>\n",
              "      <th>Height</th>\n",
              "      <th>Weight</th>\n",
              "      <th>Sleep disorder</th>\n",
              "      <th>...</th>\n",
              "      <th>Smoking</th>\n",
              "      <th>Medical issue</th>\n",
              "      <th>Ongoing medication</th>\n",
              "      <th>Smart device before bed</th>\n",
              "      <th>Average screen time</th>\n",
              "      <th>Blue-light filter</th>\n",
              "      <th>Discomfort Eye-strain</th>\n",
              "      <th>Redness in eye</th>\n",
              "      <th>Itchiness/Irritation in eye</th>\n",
              "      <th>Dry Eye Disease</th>\n",
              "    </tr>\n",
              "  </thead>\n",
              "  <tbody>\n",
              "    <tr>\n",
              "      <th>0</th>\n",
              "      <td>0</td>\n",
              "      <td>24</td>\n",
              "      <td>9.5</td>\n",
              "      <td>2</td>\n",
              "      <td>1</td>\n",
              "      <td>67</td>\n",
              "      <td>31</td>\n",
              "      <td>161</td>\n",
              "      <td>69</td>\n",
              "      <td>1</td>\n",
              "      <td>...</td>\n",
              "      <td>0</td>\n",
              "      <td>1</td>\n",
              "      <td>1</td>\n",
              "      <td>0</td>\n",
              "      <td>8.7</td>\n",
              "      <td>0</td>\n",
              "      <td>1</td>\n",
              "      <td>1</td>\n",
              "      <td>0</td>\n",
              "      <td>1</td>\n",
              "    </tr>\n",
              "    <tr>\n",
              "      <th>1</th>\n",
              "      <td>1</td>\n",
              "      <td>39</td>\n",
              "      <td>9.6</td>\n",
              "      <td>2</td>\n",
              "      <td>3</td>\n",
              "      <td>60</td>\n",
              "      <td>74</td>\n",
              "      <td>164</td>\n",
              "      <td>87</td>\n",
              "      <td>0</td>\n",
              "      <td>...</td>\n",
              "      <td>0</td>\n",
              "      <td>1</td>\n",
              "      <td>1</td>\n",
              "      <td>0</td>\n",
              "      <td>9.6</td>\n",
              "      <td>1</td>\n",
              "      <td>0</td>\n",
              "      <td>0</td>\n",
              "      <td>1</td>\n",
              "      <td>1</td>\n",
              "    </tr>\n",
              "    <tr>\n",
              "      <th>2</th>\n",
              "      <td>0</td>\n",
              "      <td>45</td>\n",
              "      <td>5.4</td>\n",
              "      <td>1</td>\n",
              "      <td>5</td>\n",
              "      <td>95</td>\n",
              "      <td>93</td>\n",
              "      <td>179</td>\n",
              "      <td>94</td>\n",
              "      <td>1</td>\n",
              "      <td>...</td>\n",
              "      <td>0</td>\n",
              "      <td>0</td>\n",
              "      <td>0</td>\n",
              "      <td>1</td>\n",
              "      <td>4.0</td>\n",
              "      <td>0</td>\n",
              "      <td>1</td>\n",
              "      <td>0</td>\n",
              "      <td>0</td>\n",
              "      <td>0</td>\n",
              "    </tr>\n",
              "    <tr>\n",
              "      <th>3</th>\n",
              "      <td>0</td>\n",
              "      <td>45</td>\n",
              "      <td>5.4</td>\n",
              "      <td>4</td>\n",
              "      <td>5</td>\n",
              "      <td>78</td>\n",
              "      <td>32</td>\n",
              "      <td>160</td>\n",
              "      <td>77</td>\n",
              "      <td>0</td>\n",
              "      <td>...</td>\n",
              "      <td>0</td>\n",
              "      <td>1</td>\n",
              "      <td>0</td>\n",
              "      <td>0</td>\n",
              "      <td>7.6</td>\n",
              "      <td>0</td>\n",
              "      <td>1</td>\n",
              "      <td>0</td>\n",
              "      <td>1</td>\n",
              "      <td>0</td>\n",
              "    </tr>\n",
              "    <tr>\n",
              "      <th>4</th>\n",
              "      <td>0</td>\n",
              "      <td>42</td>\n",
              "      <td>5.7</td>\n",
              "      <td>3</td>\n",
              "      <td>2</td>\n",
              "      <td>72</td>\n",
              "      <td>173</td>\n",
              "      <td>179</td>\n",
              "      <td>99</td>\n",
              "      <td>0</td>\n",
              "      <td>...</td>\n",
              "      <td>0</td>\n",
              "      <td>1</td>\n",
              "      <td>0</td>\n",
              "      <td>0</td>\n",
              "      <td>3.5</td>\n",
              "      <td>0</td>\n",
              "      <td>1</td>\n",
              "      <td>1</td>\n",
              "      <td>0</td>\n",
              "      <td>1</td>\n",
              "    </tr>\n",
              "  </tbody>\n",
              "</table>\n",
              "<p>5 rows × 24 columns</p>\n",
              "</div>"
            ],
            "text/plain": [
              "   Gender  Age  Sleep duration  Sleep quality  Stress level  Heart rate  \\\n",
              "0       0   24             9.5              2             1          67   \n",
              "1       1   39             9.6              2             3          60   \n",
              "2       0   45             5.4              1             5          95   \n",
              "3       0   45             5.4              4             5          78   \n",
              "4       0   42             5.7              3             2          72   \n",
              "\n",
              "   Physical activity  Height  Weight  Sleep disorder  ...  Smoking  \\\n",
              "0                 31     161      69               1  ...        0   \n",
              "1                 74     164      87               0  ...        0   \n",
              "2                 93     179      94               1  ...        0   \n",
              "3                 32     160      77               0  ...        0   \n",
              "4                173     179      99               0  ...        0   \n",
              "\n",
              "   Medical issue  Ongoing medication  Smart device before bed  \\\n",
              "0              1                   1                        0   \n",
              "1              1                   1                        0   \n",
              "2              0                   0                        1   \n",
              "3              1                   0                        0   \n",
              "4              1                   0                        0   \n",
              "\n",
              "   Average screen time  Blue-light filter  Discomfort Eye-strain  \\\n",
              "0                  8.7                  0                      1   \n",
              "1                  9.6                  1                      0   \n",
              "2                  4.0                  0                      1   \n",
              "3                  7.6                  0                      1   \n",
              "4                  3.5                  0                      1   \n",
              "\n",
              "   Redness in eye  Itchiness/Irritation in eye  Dry Eye Disease  \n",
              "0               1                            0                1  \n",
              "1               0                            1                1  \n",
              "2               0                            0                0  \n",
              "3               0                            1                0  \n",
              "4               1                            0                1  \n",
              "\n",
              "[5 rows x 24 columns]"
            ]
          },
          "execution_count": 9,
          "metadata": {},
          "output_type": "execute_result"
        }
      ],
      "source": [
        "df.head()"
      ]
    },
    {
      "cell_type": "markdown",
      "metadata": {
        "id": "ZBZuBqL229KC"
      },
      "source": [
        "Se define el vector $X$ que contiene todas las variables predictoras y el vector $y$ que contiene la variable objetivo o tambien conocida como *ground truth*."
      ]
    },
    {
      "cell_type": "code",
      "execution_count": 10,
      "metadata": {
        "colab": {
          "base_uri": "https://localhost:8080/"
        },
        "id": "IC_YXHTo29KC",
        "outputId": "065f8a1c-97c4-497c-ba76-c024f5c20c53"
      },
      "outputs": [
        {
          "data": {
            "text/plain": [
              "((20000, 23), (20000,))"
            ]
          },
          "execution_count": 10,
          "metadata": {},
          "output_type": "execute_result"
        }
      ],
      "source": [
        "X=df.drop(labels=['Dry Eye Disease'],axis=1)\n",
        "y=df['Dry Eye Disease']\n",
        "X.shape,y.shape"
      ]
    },
    {
      "cell_type": "markdown",
      "metadata": {
        "id": "anEHAUV629KC"
      },
      "source": [
        "Se dividen los datos en conjuntos de entrenamiento y prueba, utilizando un 80% de los datos para entrenamiento y un 20% para prueba. Se aplica escalado a las variables numéricas para mejorar el rendimiento de los modelos"
      ]
    },
    {
      "cell_type": "code",
      "execution_count": 11,
      "metadata": {
        "id": "0UyDAcGU29KD"
      },
      "outputs": [],
      "source": [
        "X_train,X_test,y_train,y_test=train_test_split(X,y,test_size=0.2,random_state=42)"
      ]
    },
    {
      "cell_type": "code",
      "execution_count": 12,
      "metadata": {
        "colab": {
          "base_uri": "https://localhost:8080/",
          "height": 178
        },
        "id": "4HHjmWoh29KD",
        "outputId": "f0ce0eb3-171f-4cf8-dace-629127988991"
      },
      "outputs": [
        {
          "data": {
            "text/plain": [
              "Dry Eye Disease\n",
              "1    10344\n",
              "0     5656\n",
              "Name: count, dtype: int64"
            ]
          },
          "execution_count": 12,
          "metadata": {},
          "output_type": "execute_result"
        }
      ],
      "source": [
        "y_train.value_counts()"
      ]
    },
    {
      "cell_type": "code",
      "execution_count": 13,
      "metadata": {
        "colab": {
          "base_uri": "https://localhost:8080/",
          "height": 178
        },
        "id": "IeFAbQVb29KV",
        "outputId": "b31c33b0-a9ec-4c3a-ee56-1f8654b03540"
      },
      "outputs": [
        {
          "data": {
            "text/plain": [
              "Dry Eye Disease\n",
              "1    2693\n",
              "0    1307\n",
              "Name: count, dtype: int64"
            ]
          },
          "execution_count": 13,
          "metadata": {},
          "output_type": "execute_result"
        }
      ],
      "source": [
        "y_test.value_counts()"
      ]
    },
    {
      "cell_type": "code",
      "execution_count": 14,
      "metadata": {
        "id": "OmpVVeOI29KW"
      },
      "outputs": [],
      "source": [
        "X_train_s=X_train.copy()\n",
        "X_test_s=X_test.copy()\n",
        "sc=StandardScaler()\n",
        "X_train_s=sc.fit_transform(X_train_s)\n",
        "X_test_s=sc.transform(X_test_s)"
      ]
    },
    {
      "cell_type": "code",
      "execution_count": 41,
      "metadata": {},
      "outputs": [
        {
          "data": {
            "application/vnd.microsoft.datawrangler.viewer.v0+json": {
              "columns": [
                {
                  "name": "index",
                  "rawType": "int64",
                  "type": "integer"
                },
                {
                  "name": "Gender",
                  "rawType": "int32",
                  "type": "integer"
                },
                {
                  "name": "Age",
                  "rawType": "int64",
                  "type": "integer"
                },
                {
                  "name": "Sleep duration",
                  "rawType": "float64",
                  "type": "float"
                },
                {
                  "name": "Sleep quality",
                  "rawType": "int64",
                  "type": "integer"
                },
                {
                  "name": "Stress level",
                  "rawType": "int64",
                  "type": "integer"
                },
                {
                  "name": "Heart rate",
                  "rawType": "int64",
                  "type": "integer"
                },
                {
                  "name": "Physical activity",
                  "rawType": "int64",
                  "type": "integer"
                },
                {
                  "name": "Height",
                  "rawType": "int64",
                  "type": "integer"
                },
                {
                  "name": "Weight",
                  "rawType": "int64",
                  "type": "integer"
                },
                {
                  "name": "Sleep disorder",
                  "rawType": "int32",
                  "type": "integer"
                },
                {
                  "name": "Wake up during night",
                  "rawType": "int32",
                  "type": "integer"
                },
                {
                  "name": "Feel sleepy during day",
                  "rawType": "int32",
                  "type": "integer"
                },
                {
                  "name": "Caffeine consumption",
                  "rawType": "int32",
                  "type": "integer"
                },
                {
                  "name": "Alcohol consumption",
                  "rawType": "int32",
                  "type": "integer"
                },
                {
                  "name": "Smoking",
                  "rawType": "int32",
                  "type": "integer"
                },
                {
                  "name": "Medical issue",
                  "rawType": "int32",
                  "type": "integer"
                },
                {
                  "name": "Ongoing medication",
                  "rawType": "int32",
                  "type": "integer"
                },
                {
                  "name": "Smart device before bed",
                  "rawType": "int32",
                  "type": "integer"
                },
                {
                  "name": "Average screen time",
                  "rawType": "float64",
                  "type": "float"
                },
                {
                  "name": "Blue-light filter",
                  "rawType": "int32",
                  "type": "integer"
                },
                {
                  "name": "Discomfort Eye-strain",
                  "rawType": "int32",
                  "type": "integer"
                },
                {
                  "name": "Redness in eye",
                  "rawType": "int32",
                  "type": "integer"
                },
                {
                  "name": "Itchiness/Irritation in eye",
                  "rawType": "int32",
                  "type": "integer"
                }
              ],
              "conversionMethod": "pd.DataFrame",
              "ref": "bfddb1dd-4162-4b4e-a818-396f3e58ec5c",
              "rows": [
                [
                  "5894",
                  "1",
                  "36",
                  "5.1",
                  "4",
                  "1",
                  "83",
                  "91",
                  "153",
                  "63",
                  "0",
                  "1",
                  "1",
                  "1",
                  "1",
                  "0",
                  "1",
                  "1",
                  "1",
                  "9.6",
                  "0",
                  "1",
                  "1",
                  "0"
                ],
                [
                  "3728",
                  "0",
                  "32",
                  "6.6",
                  "4",
                  "5",
                  "88",
                  "179",
                  "157",
                  "63",
                  "0",
                  "0",
                  "0",
                  "1",
                  "0",
                  "1",
                  "1",
                  "0",
                  "0",
                  "9.3",
                  "0",
                  "0",
                  "1",
                  "1"
                ],
                [
                  "8958",
                  "1",
                  "36",
                  "8.0",
                  "4",
                  "1",
                  "100",
                  "17",
                  "153",
                  "63",
                  "1",
                  "1",
                  "1",
                  "1",
                  "0",
                  "0",
                  "1",
                  "1",
                  "1",
                  "5.4",
                  "0",
                  "0",
                  "1",
                  "1"
                ],
                [
                  "7671",
                  "0",
                  "25",
                  "7.9",
                  "5",
                  "4",
                  "62",
                  "174",
                  "153",
                  "83",
                  "0",
                  "0",
                  "1",
                  "0",
                  "1",
                  "0",
                  "0",
                  "1",
                  "0",
                  "7.3",
                  "0",
                  "0",
                  "1",
                  "0"
                ],
                [
                  "5999",
                  "1",
                  "39",
                  "9.0",
                  "5",
                  "4",
                  "81",
                  "71",
                  "199",
                  "79",
                  "0",
                  "0",
                  "1",
                  "1",
                  "1",
                  "0",
                  "1",
                  "1",
                  "1",
                  "2.5",
                  "1",
                  "0",
                  "0",
                  "0"
                ],
                [
                  "5751",
                  "0",
                  "37",
                  "7.8",
                  "3",
                  "5",
                  "81",
                  "96",
                  "152",
                  "94",
                  "0",
                  "0",
                  "1",
                  "0",
                  "0",
                  "0",
                  "0",
                  "0",
                  "0",
                  "1.2",
                  "0",
                  "0",
                  "0",
                  "1"
                ],
                [
                  "1688",
                  "0",
                  "40",
                  "5.1",
                  "5",
                  "4",
                  "87",
                  "112",
                  "174",
                  "51",
                  "1",
                  "0",
                  "1",
                  "1",
                  "0",
                  "0",
                  "0",
                  "1",
                  "1",
                  "5.5",
                  "0",
                  "1",
                  "1",
                  "0"
                ],
                [
                  "6836",
                  "0",
                  "25",
                  "7.4",
                  "5",
                  "2",
                  "63",
                  "14",
                  "172",
                  "83",
                  "1",
                  "0",
                  "0",
                  "0",
                  "0",
                  "0",
                  "1",
                  "0",
                  "0",
                  "1.9",
                  "1",
                  "1",
                  "0",
                  "0"
                ],
                [
                  "6536",
                  "0",
                  "27",
                  "5.6",
                  "5",
                  "5",
                  "81",
                  "172",
                  "155",
                  "77",
                  "1",
                  "1",
                  "1",
                  "1",
                  "1",
                  "0",
                  "1",
                  "1",
                  "0",
                  "5.7",
                  "1",
                  "0",
                  "1",
                  "1"
                ],
                [
                  "4842",
                  "1",
                  "37",
                  "5.9",
                  "5",
                  "4",
                  "96",
                  "135",
                  "174",
                  "55",
                  "0",
                  "1",
                  "0",
                  "1",
                  "0",
                  "0",
                  "1",
                  "1",
                  "1",
                  "1.6",
                  "1",
                  "0",
                  "0",
                  "1"
                ],
                [
                  "15844",
                  "1",
                  "42",
                  "5.8",
                  "3",
                  "5",
                  "78",
                  "167",
                  "194",
                  "96",
                  "0",
                  "0",
                  "1",
                  "1",
                  "0",
                  "0",
                  "1",
                  "0",
                  "0",
                  "2.4",
                  "1",
                  "1",
                  "0",
                  "0"
                ],
                [
                  "196",
                  "0",
                  "43",
                  "8.1",
                  "2",
                  "2",
                  "83",
                  "12",
                  "183",
                  "53",
                  "1",
                  "1",
                  "0",
                  "0",
                  "1",
                  "0",
                  "0",
                  "1",
                  "1",
                  "1.5",
                  "0",
                  "1",
                  "1",
                  "0"
                ],
                [
                  "518",
                  "0",
                  "33",
                  "4.1",
                  "3",
                  "4",
                  "91",
                  "49",
                  "160",
                  "70",
                  "0",
                  "1",
                  "0",
                  "1",
                  "0",
                  "1",
                  "1",
                  "0",
                  "1",
                  "7.7",
                  "0",
                  "1",
                  "0",
                  "0"
                ],
                [
                  "10581",
                  "1",
                  "18",
                  "4.7",
                  "2",
                  "1",
                  "74",
                  "179",
                  "163",
                  "76",
                  "0",
                  "0",
                  "1",
                  "0",
                  "0",
                  "1",
                  "0",
                  "1",
                  "0",
                  "5.9",
                  "0",
                  "0",
                  "0",
                  "0"
                ],
                [
                  "13320",
                  "1",
                  "44",
                  "9.7",
                  "1",
                  "1",
                  "61",
                  "60",
                  "189",
                  "67",
                  "0",
                  "0",
                  "0",
                  "1",
                  "0",
                  "1",
                  "0",
                  "1",
                  "0",
                  "4.6",
                  "1",
                  "1",
                  "1",
                  "1"
                ],
                [
                  "10790",
                  "0",
                  "45",
                  "8.5",
                  "5",
                  "3",
                  "81",
                  "84",
                  "170",
                  "62",
                  "1",
                  "0",
                  "1",
                  "1",
                  "0",
                  "1",
                  "0",
                  "0",
                  "1",
                  "7.2",
                  "0",
                  "1",
                  "1",
                  "1"
                ],
                [
                  "16939",
                  "0",
                  "44",
                  "8.4",
                  "3",
                  "3",
                  "93",
                  "10",
                  "185",
                  "77",
                  "1",
                  "1",
                  "1",
                  "1",
                  "1",
                  "1",
                  "1",
                  "0",
                  "1",
                  "3.8",
                  "1",
                  "0",
                  "0",
                  "1"
                ],
                [
                  "841",
                  "1",
                  "21",
                  "4.8",
                  "1",
                  "3",
                  "92",
                  "138",
                  "173",
                  "84",
                  "1",
                  "1",
                  "1",
                  "0",
                  "1",
                  "1",
                  "0",
                  "0",
                  "0",
                  "2.3",
                  "1",
                  "1",
                  "1",
                  "0"
                ],
                [
                  "9507",
                  "0",
                  "40",
                  "9.7",
                  "2",
                  "5",
                  "92",
                  "124",
                  "195",
                  "58",
                  "1",
                  "1",
                  "0",
                  "0",
                  "1",
                  "0",
                  "1",
                  "1",
                  "1",
                  "6.6",
                  "0",
                  "0",
                  "0",
                  "1"
                ],
                [
                  "10482",
                  "1",
                  "42",
                  "5.0",
                  "3",
                  "5",
                  "81",
                  "118",
                  "163",
                  "67",
                  "0",
                  "0",
                  "0",
                  "0",
                  "0",
                  "0",
                  "0",
                  "1",
                  "0",
                  "7.6",
                  "0",
                  "1",
                  "1",
                  "1"
                ],
                [
                  "5174",
                  "0",
                  "33",
                  "7.8",
                  "4",
                  "4",
                  "72",
                  "153",
                  "196",
                  "79",
                  "0",
                  "0",
                  "0",
                  "1",
                  "0",
                  "1",
                  "1",
                  "0",
                  "1",
                  "5.9",
                  "1",
                  "0",
                  "0",
                  "1"
                ],
                [
                  "19946",
                  "1",
                  "23",
                  "7.2",
                  "1",
                  "4",
                  "66",
                  "53",
                  "179",
                  "77",
                  "1",
                  "1",
                  "0",
                  "0",
                  "0",
                  "0",
                  "1",
                  "0",
                  "0",
                  "3.3",
                  "1",
                  "0",
                  "0",
                  "0"
                ],
                [
                  "14469",
                  "0",
                  "18",
                  "8.0",
                  "1",
                  "2",
                  "70",
                  "55",
                  "180",
                  "80",
                  "1",
                  "1",
                  "0",
                  "1",
                  "1",
                  "0",
                  "1",
                  "1",
                  "0",
                  "1.5",
                  "0",
                  "0",
                  "0",
                  "0"
                ],
                [
                  "7608",
                  "1",
                  "36",
                  "6.5",
                  "2",
                  "4",
                  "72",
                  "7",
                  "199",
                  "62",
                  "1",
                  "0",
                  "0",
                  "1",
                  "0",
                  "1",
                  "0",
                  "0",
                  "1",
                  "7.4",
                  "0",
                  "1",
                  "1",
                  "1"
                ],
                [
                  "11264",
                  "1",
                  "24",
                  "6.4",
                  "2",
                  "3",
                  "63",
                  "129",
                  "185",
                  "55",
                  "0",
                  "1",
                  "0",
                  "0",
                  "0",
                  "1",
                  "1",
                  "1",
                  "0",
                  "7.7",
                  "1",
                  "0",
                  "0",
                  "0"
                ],
                [
                  "14020",
                  "0",
                  "20",
                  "4.7",
                  "2",
                  "3",
                  "71",
                  "175",
                  "156",
                  "55",
                  "1",
                  "0",
                  "0",
                  "0",
                  "1",
                  "1",
                  "0",
                  "1",
                  "1",
                  "8.1",
                  "0",
                  "1",
                  "0",
                  "0"
                ],
                [
                  "18601",
                  "0",
                  "36",
                  "6.0",
                  "3",
                  "2",
                  "64",
                  "53",
                  "162",
                  "82",
                  "1",
                  "1",
                  "1",
                  "0",
                  "1",
                  "1",
                  "0",
                  "0",
                  "0",
                  "8.5",
                  "0",
                  "1",
                  "1",
                  "1"
                ],
                [
                  "19263",
                  "0",
                  "45",
                  "7.7",
                  "4",
                  "1",
                  "72",
                  "35",
                  "194",
                  "55",
                  "1",
                  "0",
                  "1",
                  "1",
                  "1",
                  "1",
                  "1",
                  "1",
                  "1",
                  "4.9",
                  "1",
                  "0",
                  "0",
                  "0"
                ],
                [
                  "7097",
                  "0",
                  "31",
                  "9.3",
                  "4",
                  "2",
                  "83",
                  "153",
                  "180",
                  "95",
                  "1",
                  "0",
                  "1",
                  "1",
                  "1",
                  "0",
                  "0",
                  "1",
                  "0",
                  "2.3",
                  "0",
                  "1",
                  "1",
                  "0"
                ],
                [
                  "12596",
                  "0",
                  "22",
                  "5.0",
                  "4",
                  "3",
                  "63",
                  "33",
                  "172",
                  "71",
                  "0",
                  "0",
                  "0",
                  "1",
                  "0",
                  "1",
                  "1",
                  "1",
                  "0",
                  "5.1",
                  "1",
                  "0",
                  "1",
                  "0"
                ],
                [
                  "454",
                  "1",
                  "35",
                  "8.3",
                  "1",
                  "2",
                  "66",
                  "176",
                  "184",
                  "83",
                  "0",
                  "0",
                  "0",
                  "0",
                  "1",
                  "0",
                  "1",
                  "1",
                  "1",
                  "2.1",
                  "1",
                  "0",
                  "1",
                  "0"
                ],
                [
                  "18086",
                  "1",
                  "42",
                  "8.1",
                  "5",
                  "4",
                  "63",
                  "173",
                  "180",
                  "90",
                  "0",
                  "1",
                  "1",
                  "1",
                  "0",
                  "0",
                  "0",
                  "1",
                  "1",
                  "8.3",
                  "1",
                  "1",
                  "1",
                  "1"
                ],
                [
                  "18220",
                  "0",
                  "22",
                  "5.4",
                  "2",
                  "5",
                  "71",
                  "148",
                  "152",
                  "69",
                  "1",
                  "1",
                  "1",
                  "0",
                  "0",
                  "1",
                  "1",
                  "1",
                  "1",
                  "4.3",
                  "0",
                  "1",
                  "1",
                  "0"
                ],
                [
                  "2862",
                  "0",
                  "31",
                  "4.9",
                  "2",
                  "4",
                  "68",
                  "131",
                  "151",
                  "55",
                  "1",
                  "0",
                  "0",
                  "1",
                  "1",
                  "0",
                  "0",
                  "1",
                  "1",
                  "6.4",
                  "1",
                  "1",
                  "0",
                  "0"
                ],
                [
                  "17392",
                  "0",
                  "36",
                  "5.2",
                  "5",
                  "4",
                  "79",
                  "112",
                  "166",
                  "93",
                  "0",
                  "1",
                  "1",
                  "1",
                  "0",
                  "1",
                  "1",
                  "0",
                  "1",
                  "5.8",
                  "1",
                  "1",
                  "1",
                  "0"
                ],
                [
                  "3852",
                  "1",
                  "43",
                  "5.2",
                  "2",
                  "4",
                  "93",
                  "97",
                  "161",
                  "81",
                  "1",
                  "0",
                  "0",
                  "0",
                  "1",
                  "0",
                  "0",
                  "0",
                  "0",
                  "3.7",
                  "1",
                  "0",
                  "1",
                  "0"
                ],
                [
                  "14004",
                  "1",
                  "36",
                  "4.5",
                  "5",
                  "1",
                  "67",
                  "147",
                  "173",
                  "74",
                  "0",
                  "0",
                  "1",
                  "1",
                  "1",
                  "1",
                  "0",
                  "1",
                  "0",
                  "2.9",
                  "1",
                  "1",
                  "0",
                  "0"
                ],
                [
                  "182",
                  "1",
                  "26",
                  "4.2",
                  "4",
                  "3",
                  "92",
                  "119",
                  "152",
                  "95",
                  "1",
                  "0",
                  "1",
                  "0",
                  "0",
                  "1",
                  "1",
                  "1",
                  "0",
                  "3.1",
                  "0",
                  "1",
                  "0",
                  "0"
                ],
                [
                  "15127",
                  "0",
                  "27",
                  "9.5",
                  "3",
                  "4",
                  "69",
                  "106",
                  "159",
                  "92",
                  "0",
                  "0",
                  "1",
                  "1",
                  "0",
                  "0",
                  "1",
                  "0",
                  "1",
                  "3.3",
                  "0",
                  "0",
                  "1",
                  "0"
                ],
                [
                  "18772",
                  "0",
                  "22",
                  "4.6",
                  "5",
                  "4",
                  "65",
                  "42",
                  "177",
                  "92",
                  "1",
                  "1",
                  "0",
                  "0",
                  "1",
                  "0",
                  "1",
                  "1",
                  "1",
                  "7.7",
                  "1",
                  "1",
                  "0",
                  "0"
                ],
                [
                  "13418",
                  "0",
                  "26",
                  "9.7",
                  "3",
                  "4",
                  "69",
                  "83",
                  "161",
                  "74",
                  "0",
                  "1",
                  "0",
                  "0",
                  "0",
                  "1",
                  "0",
                  "1",
                  "1",
                  "3.1",
                  "0",
                  "1",
                  "1",
                  "0"
                ],
                [
                  "2522",
                  "0",
                  "20",
                  "8.2",
                  "1",
                  "2",
                  "85",
                  "138",
                  "153",
                  "50",
                  "1",
                  "0",
                  "1",
                  "0",
                  "0",
                  "1",
                  "1",
                  "1",
                  "0",
                  "7.4",
                  "0",
                  "1",
                  "1",
                  "0"
                ],
                [
                  "16260",
                  "0",
                  "36",
                  "5.6",
                  "2",
                  "4",
                  "90",
                  "178",
                  "167",
                  "72",
                  "1",
                  "0",
                  "1",
                  "0",
                  "1",
                  "1",
                  "1",
                  "1",
                  "1",
                  "9.1",
                  "1",
                  "1",
                  "1",
                  "1"
                ],
                [
                  "4982",
                  "0",
                  "40",
                  "4.6",
                  "5",
                  "1",
                  "67",
                  "3",
                  "173",
                  "92",
                  "0",
                  "1",
                  "0",
                  "1",
                  "1",
                  "1",
                  "0",
                  "1",
                  "0",
                  "2.5",
                  "0",
                  "0",
                  "0",
                  "0"
                ],
                [
                  "16568",
                  "1",
                  "21",
                  "8.0",
                  "3",
                  "2",
                  "76",
                  "122",
                  "175",
                  "81",
                  "1",
                  "1",
                  "0",
                  "1",
                  "1",
                  "0",
                  "1",
                  "1",
                  "0",
                  "8.3",
                  "0",
                  "1",
                  "0",
                  "1"
                ],
                [
                  "19446",
                  "0",
                  "28",
                  "4.5",
                  "4",
                  "1",
                  "88",
                  "60",
                  "192",
                  "92",
                  "1",
                  "1",
                  "0",
                  "0",
                  "0",
                  "0",
                  "1",
                  "0",
                  "1",
                  "9.6",
                  "1",
                  "1",
                  "1",
                  "1"
                ],
                [
                  "99",
                  "1",
                  "45",
                  "4.6",
                  "3",
                  "5",
                  "63",
                  "144",
                  "198",
                  "52",
                  "1",
                  "1",
                  "1",
                  "1",
                  "1",
                  "1",
                  "1",
                  "0",
                  "1",
                  "6.0",
                  "1",
                  "1",
                  "1",
                  "0"
                ],
                [
                  "11032",
                  "0",
                  "40",
                  "9.7",
                  "5",
                  "4",
                  "84",
                  "116",
                  "166",
                  "53",
                  "0",
                  "0",
                  "0",
                  "1",
                  "0",
                  "0",
                  "0",
                  "0",
                  "0",
                  "3.5",
                  "1",
                  "0",
                  "1",
                  "0"
                ],
                [
                  "10484",
                  "1",
                  "42",
                  "6.5",
                  "5",
                  "2",
                  "62",
                  "179",
                  "160",
                  "85",
                  "0",
                  "1",
                  "0",
                  "1",
                  "0",
                  "1",
                  "0",
                  "1",
                  "0",
                  "2.5",
                  "0",
                  "0",
                  "0",
                  "1"
                ],
                [
                  "15049",
                  "0",
                  "39",
                  "4.6",
                  "5",
                  "4",
                  "99",
                  "62",
                  "179",
                  "93",
                  "0",
                  "1",
                  "0",
                  "1",
                  "0",
                  "0",
                  "1",
                  "1",
                  "1",
                  "9.6",
                  "1",
                  "1",
                  "0",
                  "1"
                ]
              ],
              "shape": {
                "columns": 23,
                "rows": 16000
              }
            },
            "text/html": [
              "<div>\n",
              "<style scoped>\n",
              "    .dataframe tbody tr th:only-of-type {\n",
              "        vertical-align: middle;\n",
              "    }\n",
              "\n",
              "    .dataframe tbody tr th {\n",
              "        vertical-align: top;\n",
              "    }\n",
              "\n",
              "    .dataframe thead th {\n",
              "        text-align: right;\n",
              "    }\n",
              "</style>\n",
              "<table border=\"1\" class=\"dataframe\">\n",
              "  <thead>\n",
              "    <tr style=\"text-align: right;\">\n",
              "      <th></th>\n",
              "      <th>Gender</th>\n",
              "      <th>Age</th>\n",
              "      <th>Sleep duration</th>\n",
              "      <th>Sleep quality</th>\n",
              "      <th>Stress level</th>\n",
              "      <th>Heart rate</th>\n",
              "      <th>Physical activity</th>\n",
              "      <th>Height</th>\n",
              "      <th>Weight</th>\n",
              "      <th>Sleep disorder</th>\n",
              "      <th>...</th>\n",
              "      <th>Alcohol consumption</th>\n",
              "      <th>Smoking</th>\n",
              "      <th>Medical issue</th>\n",
              "      <th>Ongoing medication</th>\n",
              "      <th>Smart device before bed</th>\n",
              "      <th>Average screen time</th>\n",
              "      <th>Blue-light filter</th>\n",
              "      <th>Discomfort Eye-strain</th>\n",
              "      <th>Redness in eye</th>\n",
              "      <th>Itchiness/Irritation in eye</th>\n",
              "    </tr>\n",
              "  </thead>\n",
              "  <tbody>\n",
              "    <tr>\n",
              "      <th>5894</th>\n",
              "      <td>1</td>\n",
              "      <td>36</td>\n",
              "      <td>5.1</td>\n",
              "      <td>4</td>\n",
              "      <td>1</td>\n",
              "      <td>83</td>\n",
              "      <td>91</td>\n",
              "      <td>153</td>\n",
              "      <td>63</td>\n",
              "      <td>0</td>\n",
              "      <td>...</td>\n",
              "      <td>1</td>\n",
              "      <td>0</td>\n",
              "      <td>1</td>\n",
              "      <td>1</td>\n",
              "      <td>1</td>\n",
              "      <td>9.6</td>\n",
              "      <td>0</td>\n",
              "      <td>1</td>\n",
              "      <td>1</td>\n",
              "      <td>0</td>\n",
              "    </tr>\n",
              "    <tr>\n",
              "      <th>3728</th>\n",
              "      <td>0</td>\n",
              "      <td>32</td>\n",
              "      <td>6.6</td>\n",
              "      <td>4</td>\n",
              "      <td>5</td>\n",
              "      <td>88</td>\n",
              "      <td>179</td>\n",
              "      <td>157</td>\n",
              "      <td>63</td>\n",
              "      <td>0</td>\n",
              "      <td>...</td>\n",
              "      <td>0</td>\n",
              "      <td>1</td>\n",
              "      <td>1</td>\n",
              "      <td>0</td>\n",
              "      <td>0</td>\n",
              "      <td>9.3</td>\n",
              "      <td>0</td>\n",
              "      <td>0</td>\n",
              "      <td>1</td>\n",
              "      <td>1</td>\n",
              "    </tr>\n",
              "    <tr>\n",
              "      <th>8958</th>\n",
              "      <td>1</td>\n",
              "      <td>36</td>\n",
              "      <td>8.0</td>\n",
              "      <td>4</td>\n",
              "      <td>1</td>\n",
              "      <td>100</td>\n",
              "      <td>17</td>\n",
              "      <td>153</td>\n",
              "      <td>63</td>\n",
              "      <td>1</td>\n",
              "      <td>...</td>\n",
              "      <td>0</td>\n",
              "      <td>0</td>\n",
              "      <td>1</td>\n",
              "      <td>1</td>\n",
              "      <td>1</td>\n",
              "      <td>5.4</td>\n",
              "      <td>0</td>\n",
              "      <td>0</td>\n",
              "      <td>1</td>\n",
              "      <td>1</td>\n",
              "    </tr>\n",
              "    <tr>\n",
              "      <th>7671</th>\n",
              "      <td>0</td>\n",
              "      <td>25</td>\n",
              "      <td>7.9</td>\n",
              "      <td>5</td>\n",
              "      <td>4</td>\n",
              "      <td>62</td>\n",
              "      <td>174</td>\n",
              "      <td>153</td>\n",
              "      <td>83</td>\n",
              "      <td>0</td>\n",
              "      <td>...</td>\n",
              "      <td>1</td>\n",
              "      <td>0</td>\n",
              "      <td>0</td>\n",
              "      <td>1</td>\n",
              "      <td>0</td>\n",
              "      <td>7.3</td>\n",
              "      <td>0</td>\n",
              "      <td>0</td>\n",
              "      <td>1</td>\n",
              "      <td>0</td>\n",
              "    </tr>\n",
              "    <tr>\n",
              "      <th>5999</th>\n",
              "      <td>1</td>\n",
              "      <td>39</td>\n",
              "      <td>9.0</td>\n",
              "      <td>5</td>\n",
              "      <td>4</td>\n",
              "      <td>81</td>\n",
              "      <td>71</td>\n",
              "      <td>199</td>\n",
              "      <td>79</td>\n",
              "      <td>0</td>\n",
              "      <td>...</td>\n",
              "      <td>1</td>\n",
              "      <td>0</td>\n",
              "      <td>1</td>\n",
              "      <td>1</td>\n",
              "      <td>1</td>\n",
              "      <td>2.5</td>\n",
              "      <td>1</td>\n",
              "      <td>0</td>\n",
              "      <td>0</td>\n",
              "      <td>0</td>\n",
              "    </tr>\n",
              "    <tr>\n",
              "      <th>...</th>\n",
              "      <td>...</td>\n",
              "      <td>...</td>\n",
              "      <td>...</td>\n",
              "      <td>...</td>\n",
              "      <td>...</td>\n",
              "      <td>...</td>\n",
              "      <td>...</td>\n",
              "      <td>...</td>\n",
              "      <td>...</td>\n",
              "      <td>...</td>\n",
              "      <td>...</td>\n",
              "      <td>...</td>\n",
              "      <td>...</td>\n",
              "      <td>...</td>\n",
              "      <td>...</td>\n",
              "      <td>...</td>\n",
              "      <td>...</td>\n",
              "      <td>...</td>\n",
              "      <td>...</td>\n",
              "      <td>...</td>\n",
              "      <td>...</td>\n",
              "    </tr>\n",
              "    <tr>\n",
              "      <th>11284</th>\n",
              "      <td>0</td>\n",
              "      <td>26</td>\n",
              "      <td>5.4</td>\n",
              "      <td>5</td>\n",
              "      <td>4</td>\n",
              "      <td>82</td>\n",
              "      <td>158</td>\n",
              "      <td>158</td>\n",
              "      <td>52</td>\n",
              "      <td>1</td>\n",
              "      <td>...</td>\n",
              "      <td>1</td>\n",
              "      <td>0</td>\n",
              "      <td>1</td>\n",
              "      <td>1</td>\n",
              "      <td>1</td>\n",
              "      <td>3.2</td>\n",
              "      <td>0</td>\n",
              "      <td>1</td>\n",
              "      <td>1</td>\n",
              "      <td>1</td>\n",
              "    </tr>\n",
              "    <tr>\n",
              "      <th>11964</th>\n",
              "      <td>0</td>\n",
              "      <td>43</td>\n",
              "      <td>9.4</td>\n",
              "      <td>2</td>\n",
              "      <td>2</td>\n",
              "      <td>87</td>\n",
              "      <td>34</td>\n",
              "      <td>166</td>\n",
              "      <td>54</td>\n",
              "      <td>1</td>\n",
              "      <td>...</td>\n",
              "      <td>0</td>\n",
              "      <td>1</td>\n",
              "      <td>1</td>\n",
              "      <td>1</td>\n",
              "      <td>1</td>\n",
              "      <td>6.9</td>\n",
              "      <td>1</td>\n",
              "      <td>1</td>\n",
              "      <td>0</td>\n",
              "      <td>0</td>\n",
              "    </tr>\n",
              "    <tr>\n",
              "      <th>5390</th>\n",
              "      <td>0</td>\n",
              "      <td>25</td>\n",
              "      <td>7.6</td>\n",
              "      <td>4</td>\n",
              "      <td>2</td>\n",
              "      <td>71</td>\n",
              "      <td>78</td>\n",
              "      <td>160</td>\n",
              "      <td>88</td>\n",
              "      <td>0</td>\n",
              "      <td>...</td>\n",
              "      <td>0</td>\n",
              "      <td>1</td>\n",
              "      <td>1</td>\n",
              "      <td>0</td>\n",
              "      <td>0</td>\n",
              "      <td>1.7</td>\n",
              "      <td>0</td>\n",
              "      <td>1</td>\n",
              "      <td>1</td>\n",
              "      <td>0</td>\n",
              "    </tr>\n",
              "    <tr>\n",
              "      <th>860</th>\n",
              "      <td>0</td>\n",
              "      <td>21</td>\n",
              "      <td>4.0</td>\n",
              "      <td>5</td>\n",
              "      <td>5</td>\n",
              "      <td>100</td>\n",
              "      <td>31</td>\n",
              "      <td>192</td>\n",
              "      <td>79</td>\n",
              "      <td>1</td>\n",
              "      <td>...</td>\n",
              "      <td>0</td>\n",
              "      <td>1</td>\n",
              "      <td>1</td>\n",
              "      <td>0</td>\n",
              "      <td>1</td>\n",
              "      <td>7.1</td>\n",
              "      <td>0</td>\n",
              "      <td>0</td>\n",
              "      <td>1</td>\n",
              "      <td>0</td>\n",
              "    </tr>\n",
              "    <tr>\n",
              "      <th>15795</th>\n",
              "      <td>0</td>\n",
              "      <td>26</td>\n",
              "      <td>9.7</td>\n",
              "      <td>2</td>\n",
              "      <td>2</td>\n",
              "      <td>60</td>\n",
              "      <td>177</td>\n",
              "      <td>158</td>\n",
              "      <td>96</td>\n",
              "      <td>0</td>\n",
              "      <td>...</td>\n",
              "      <td>0</td>\n",
              "      <td>0</td>\n",
              "      <td>1</td>\n",
              "      <td>0</td>\n",
              "      <td>0</td>\n",
              "      <td>2.8</td>\n",
              "      <td>1</td>\n",
              "      <td>1</td>\n",
              "      <td>1</td>\n",
              "      <td>0</td>\n",
              "    </tr>\n",
              "  </tbody>\n",
              "</table>\n",
              "<p>16000 rows × 23 columns</p>\n",
              "</div>"
            ],
            "text/plain": [
              "       Gender  Age  Sleep duration  Sleep quality  Stress level  Heart rate  \\\n",
              "5894        1   36             5.1              4             1          83   \n",
              "3728        0   32             6.6              4             5          88   \n",
              "8958        1   36             8.0              4             1         100   \n",
              "7671        0   25             7.9              5             4          62   \n",
              "5999        1   39             9.0              5             4          81   \n",
              "...       ...  ...             ...            ...           ...         ...   \n",
              "11284       0   26             5.4              5             4          82   \n",
              "11964       0   43             9.4              2             2          87   \n",
              "5390        0   25             7.6              4             2          71   \n",
              "860         0   21             4.0              5             5         100   \n",
              "15795       0   26             9.7              2             2          60   \n",
              "\n",
              "       Physical activity  Height  Weight  Sleep disorder  ...  \\\n",
              "5894                  91     153      63               0  ...   \n",
              "3728                 179     157      63               0  ...   \n",
              "8958                  17     153      63               1  ...   \n",
              "7671                 174     153      83               0  ...   \n",
              "5999                  71     199      79               0  ...   \n",
              "...                  ...     ...     ...             ...  ...   \n",
              "11284                158     158      52               1  ...   \n",
              "11964                 34     166      54               1  ...   \n",
              "5390                  78     160      88               0  ...   \n",
              "860                   31     192      79               1  ...   \n",
              "15795                177     158      96               0  ...   \n",
              "\n",
              "       Alcohol consumption  Smoking  Medical issue  Ongoing medication  \\\n",
              "5894                     1        0              1                   1   \n",
              "3728                     0        1              1                   0   \n",
              "8958                     0        0              1                   1   \n",
              "7671                     1        0              0                   1   \n",
              "5999                     1        0              1                   1   \n",
              "...                    ...      ...            ...                 ...   \n",
              "11284                    1        0              1                   1   \n",
              "11964                    0        1              1                   1   \n",
              "5390                     0        1              1                   0   \n",
              "860                      0        1              1                   0   \n",
              "15795                    0        0              1                   0   \n",
              "\n",
              "       Smart device before bed  Average screen time  Blue-light filter  \\\n",
              "5894                         1                  9.6                  0   \n",
              "3728                         0                  9.3                  0   \n",
              "8958                         1                  5.4                  0   \n",
              "7671                         0                  7.3                  0   \n",
              "5999                         1                  2.5                  1   \n",
              "...                        ...                  ...                ...   \n",
              "11284                        1                  3.2                  0   \n",
              "11964                        1                  6.9                  1   \n",
              "5390                         0                  1.7                  0   \n",
              "860                          1                  7.1                  0   \n",
              "15795                        0                  2.8                  1   \n",
              "\n",
              "       Discomfort Eye-strain  Redness in eye  Itchiness/Irritation in eye  \n",
              "5894                       1               1                            0  \n",
              "3728                       0               1                            1  \n",
              "8958                       0               1                            1  \n",
              "7671                       0               1                            0  \n",
              "5999                       0               0                            0  \n",
              "...                      ...             ...                          ...  \n",
              "11284                      1               1                            1  \n",
              "11964                      1               0                            0  \n",
              "5390                       1               1                            0  \n",
              "860                        0               1                            0  \n",
              "15795                      1               1                            0  \n",
              "\n",
              "[16000 rows x 23 columns]"
            ]
          },
          "execution_count": 41,
          "metadata": {},
          "output_type": "execute_result"
        }
      ],
      "source": [
        "X_train"
      ]
    },
    {
      "cell_type": "code",
      "execution_count": null,
      "metadata": {
        "id": "X6CDBQ7H29KW"
      },
      "outputs": [],
      "source": [
        "from sklearn.linear_model import LogisticRegression\n",
        "from sklearn.metrics import classification_report,confusion_matrix,accuracy_score,ConfusionMatrixDisplay\n",
        "from sklearn.model_selection import cross_val_score\n",
        "from sklearn.tree import DecisionTreeClassifier,plot_tree\n",
        "from sklearn.ensemble import RandomForestClassifier\n",
        "from sklearn.svm import SVC\n",
        "\n",
        "def plot_confusion_matrix(y_test,y_pred,clases,title='Confusion Matrix'):\n",
        "    cm=confusion_matrix(y_test,y_pred)\n",
        "    fig,ax=plt.subplots()\n",
        "    disp=ConfusionMatrixDisplay(cm,display_labels=clases)\n",
        "    disp.plot(cmap='Blues',ax=ax,colorbar=True)\n",
        "    ax.set_title(title)\n",
        "    ax.grid(False)\n",
        "    plt.show()"
      ]
    },
    {
      "cell_type": "markdown",
      "metadata": {
        "id": "QkqYwKcL29KX"
      },
      "source": [
        "### Modelos sin hiperparámetros"
      ]
    },
    {
      "cell_type": "markdown",
      "metadata": {
        "id": "PgFRaDlS29KY"
      },
      "source": [
        "#### Desicion Tree"
      ]
    },
    {
      "cell_type": "code",
      "execution_count": 19,
      "metadata": {
        "colab": {
          "base_uri": "https://localhost:8080/"
        },
        "id": "d3A_RciH29KY",
        "outputId": "88a7d3e8-a53a-45c8-a1e3-d2c4bfdee427"
      },
      "outputs": [
        {
          "name": "stdout",
          "output_type": "stream",
          "text": [
            "Accuracy: 0.567\n",
            "Classification Report:\n",
            "              precision    recall  f1-score   support\n",
            "\n",
            "           0       0.35      0.39      0.37      1307\n",
            "           1       0.69      0.65      0.67      2693\n",
            "\n",
            "    accuracy                           0.57      4000\n",
            "   macro avg       0.52      0.52      0.52      4000\n",
            "weighted avg       0.58      0.57      0.57      4000\n",
            "\n"
          ]
        }
      ],
      "source": [
        "model2=DecisionTreeClassifier()\n",
        "model2.fit(X_train,y_train)\n",
        "y_pred=model2.predict(X_test)\n",
        "cm2=confusion_matrix(y_test,y_pred,labels=model2.classes_)\n",
        "print('Accuracy:',accuracy_score(y_test,y_pred))\n",
        "print('Classification Report:',classification_report(y_test,y_pred),sep='\\n')"
      ]
    },
    {
      "cell_type": "code",
      "execution_count": 20,
      "metadata": {
        "colab": {
          "base_uri": "https://localhost:8080/",
          "height": 481
        },
        "id": "Aq-vVr0O29KZ",
        "outputId": "a57aba87-d4d1-46ec-b496-517736b1466d"
      },
      "outputs": [
        {
          "data": {
            "image/png": "[encoded data removed]",
            "text/plain": [
              "<Figure size 640x480 with 2 Axes>"
            ]
          },
          "metadata": {},
          "output_type": "display_data"
        }
      ],
      "source": [
        "plot_confusion_matrix(y_test,y_pred,model2.classes_,'Matriz de confusión para el decision tree')"
      ]
    },
    {
      "cell_type": "code",
      "execution_count": null,
      "metadata": {
        "colab": {
          "base_uri": "https://localhost:8080/",
          "height": 675
        },
        "id": "aGT6yKSc29KZ",
        "outputId": "9707ec17-d3bb-459f-85cc-463953af5343"
      },
      "outputs": [
        {
          "data": {
            "image/png": "[encoded data removed]",
            "text/plain": [
              "<Figure size 2000x1200 with 1 Axes>"
            ]
          },
          "metadata": {},
          "output_type": "display_data"
        }
      ],
      "source": [
        "plt.figure(figsize=(20,12))  \n",
        "plot_tree(\n",
        "    model2,\n",
        "    feature_names=X.columns.to_list(),\n",
        "    class_names=True,   \n",
        "    filled=True,        \n",
        "    rounded=True,        \n",
        "    proportion=True,     \n",
        "    fontsize=10,       \n",
        "    max_depth=3         \n",
        ")\n",
        "plt.title('Árbol de Decisión', fontsize=16)\n",
        "plt.show()"
      ]
    },
    {
      "cell_type": "code",
      "execution_count": 95,
      "metadata": {
        "id": "CUibG-qC29Ka"
      },
      "outputs": [
        {
          "data": {
            "application/vnd.microsoft.datawrangler.viewer.v0+json": {
              "columns": [
                {
                  "name": "index",
                  "rawType": "int64",
                  "type": "integer"
                },
                {
                  "name": "feature",
                  "rawType": "object",
                  "type": "string"
                },
                {
                  "name": "importance",
                  "rawType": "float64",
                  "type": "float"
                }
              ],
              "conversionMethod": "pd.DataFrame",
              "ref": "ff8262dd-9b8b-495b-9953-e0a4757aee6a",
              "rows": [
                [
                  "6",
                  "Physical activity",
                  "0.12030624861274006"
                ],
                [
                  "18",
                  "Average screen time",
                  "0.1034345529331178"
                ],
                [
                  "5",
                  "Heart rate",
                  "0.10083706125697413"
                ],
                [
                  "2",
                  "Sleep duration",
                  "0.09959683343992527"
                ],
                [
                  "7",
                  "Height",
                  "0.09724401304531079"
                ],
                [
                  "1",
                  "Age",
                  "0.0849141173242959"
                ],
                [
                  "8",
                  "Weight",
                  "0.08306942637965936"
                ],
                [
                  "22",
                  "Itchiness/Irritation in eye",
                  "0.05197745296745212"
                ],
                [
                  "4",
                  "Stress level",
                  "0.03246489425400781"
                ],
                [
                  "3",
                  "Sleep quality",
                  "0.03165088837452626"
                ],
                [
                  "21",
                  "Redness in eye",
                  "0.028044471146148005"
                ],
                [
                  "12",
                  "Caffeine consumption",
                  "0.020009975369794965"
                ],
                [
                  "17",
                  "Smart device before bed",
                  "0.016337450917672178"
                ],
                [
                  "10",
                  "Wake up during night",
                  "0.015561931542206654"
                ],
                [
                  "15",
                  "Medical issue",
                  "0.014472905908701737"
                ],
                [
                  "19",
                  "Blue-light filter",
                  "0.01427985993121372"
                ],
                [
                  "11",
                  "Feel sleepy during day",
                  "0.013690344140410553"
                ],
                [
                  "16",
                  "Ongoing medication",
                  "0.013605372162346424"
                ],
                [
                  "14",
                  "Smoking",
                  "0.013186350780275939"
                ],
                [
                  "0",
                  "Gender",
                  "0.013158561842090024"
                ],
                [
                  "20",
                  "Discomfort Eye-strain",
                  "0.012683116044510334"
                ],
                [
                  "9",
                  "Sleep disorder",
                  "0.010161994036793643"
                ],
                [
                  "13",
                  "Alcohol consumption",
                  "0.00931217758982632"
                ]
              ],
              "shape": {
                "columns": 2,
                "rows": 23
              }
            },
            "text/html": [
              "<div>\n",
              "<style scoped>\n",
              "    .dataframe tbody tr th:only-of-type {\n",
              "        vertical-align: middle;\n",
              "    }\n",
              "\n",
              "    .dataframe tbody tr th {\n",
              "        vertical-align: top;\n",
              "    }\n",
              "\n",
              "    .dataframe thead th {\n",
              "        text-align: right;\n",
              "    }\n",
              "</style>\n",
              "<table border=\"1\" class=\"dataframe\">\n",
              "  <thead>\n",
              "    <tr style=\"text-align: right;\">\n",
              "      <th></th>\n",
              "      <th>feature</th>\n",
              "      <th>importance</th>\n",
              "    </tr>\n",
              "  </thead>\n",
              "  <tbody>\n",
              "    <tr>\n",
              "      <th>6</th>\n",
              "      <td>Physical activity</td>\n",
              "      <td>0.120306</td>\n",
              "    </tr>\n",
              "    <tr>\n",
              "      <th>18</th>\n",
              "      <td>Average screen time</td>\n",
              "      <td>0.103435</td>\n",
              "    </tr>\n",
              "    <tr>\n",
              "      <th>5</th>\n",
              "      <td>Heart rate</td>\n",
              "      <td>0.100837</td>\n",
              "    </tr>\n",
              "    <tr>\n",
              "      <th>2</th>\n",
              "      <td>Sleep duration</td>\n",
              "      <td>0.099597</td>\n",
              "    </tr>\n",
              "    <tr>\n",
              "      <th>7</th>\n",
              "      <td>Height</td>\n",
              "      <td>0.097244</td>\n",
              "    </tr>\n",
              "    <tr>\n",
              "      <th>1</th>\n",
              "      <td>Age</td>\n",
              "      <td>0.084914</td>\n",
              "    </tr>\n",
              "    <tr>\n",
              "      <th>8</th>\n",
              "      <td>Weight</td>\n",
              "      <td>0.083069</td>\n",
              "    </tr>\n",
              "    <tr>\n",
              "      <th>22</th>\n",
              "      <td>Itchiness/Irritation in eye</td>\n",
              "      <td>0.051977</td>\n",
              "    </tr>\n",
              "    <tr>\n",
              "      <th>4</th>\n",
              "      <td>Stress level</td>\n",
              "      <td>0.032465</td>\n",
              "    </tr>\n",
              "    <tr>\n",
              "      <th>3</th>\n",
              "      <td>Sleep quality</td>\n",
              "      <td>0.031651</td>\n",
              "    </tr>\n",
              "    <tr>\n",
              "      <th>21</th>\n",
              "      <td>Redness in eye</td>\n",
              "      <td>0.028044</td>\n",
              "    </tr>\n",
              "    <tr>\n",
              "      <th>12</th>\n",
              "      <td>Caffeine consumption</td>\n",
              "      <td>0.020010</td>\n",
              "    </tr>\n",
              "    <tr>\n",
              "      <th>17</th>\n",
              "      <td>Smart device before bed</td>\n",
              "      <td>0.016337</td>\n",
              "    </tr>\n",
              "    <tr>\n",
              "      <th>10</th>\n",
              "      <td>Wake up during night</td>\n",
              "      <td>0.015562</td>\n",
              "    </tr>\n",
              "    <tr>\n",
              "      <th>15</th>\n",
              "      <td>Medical issue</td>\n",
              "      <td>0.014473</td>\n",
              "    </tr>\n",
              "    <tr>\n",
              "      <th>19</th>\n",
              "      <td>Blue-light filter</td>\n",
              "      <td>0.014280</td>\n",
              "    </tr>\n",
              "    <tr>\n",
              "      <th>11</th>\n",
              "      <td>Feel sleepy during day</td>\n",
              "      <td>0.013690</td>\n",
              "    </tr>\n",
              "    <tr>\n",
              "      <th>16</th>\n",
              "      <td>Ongoing medication</td>\n",
              "      <td>0.013605</td>\n",
              "    </tr>\n",
              "    <tr>\n",
              "      <th>14</th>\n",
              "      <td>Smoking</td>\n",
              "      <td>0.013186</td>\n",
              "    </tr>\n",
              "    <tr>\n",
              "      <th>0</th>\n",
              "      <td>Gender</td>\n",
              "      <td>0.013159</td>\n",
              "    </tr>\n",
              "    <tr>\n",
              "      <th>20</th>\n",
              "      <td>Discomfort Eye-strain</td>\n",
              "      <td>0.012683</td>\n",
              "    </tr>\n",
              "    <tr>\n",
              "      <th>9</th>\n",
              "      <td>Sleep disorder</td>\n",
              "      <td>0.010162</td>\n",
              "    </tr>\n",
              "    <tr>\n",
              "      <th>13</th>\n",
              "      <td>Alcohol consumption</td>\n",
              "      <td>0.009312</td>\n",
              "    </tr>\n",
              "  </tbody>\n",
              "</table>\n",
              "</div>"
            ],
            "text/plain": [
              "                        feature  importance\n",
              "6             Physical activity    0.120306\n",
              "18          Average screen time    0.103435\n",
              "5                    Heart rate    0.100837\n",
              "2                Sleep duration    0.099597\n",
              "7                        Height    0.097244\n",
              "1                           Age    0.084914\n",
              "8                        Weight    0.083069\n",
              "22  Itchiness/Irritation in eye    0.051977\n",
              "4                  Stress level    0.032465\n",
              "3                 Sleep quality    0.031651\n",
              "21               Redness in eye    0.028044\n",
              "12         Caffeine consumption    0.020010\n",
              "17      Smart device before bed    0.016337\n",
              "10         Wake up during night    0.015562\n",
              "15                Medical issue    0.014473\n",
              "19            Blue-light filter    0.014280\n",
              "11       Feel sleepy during day    0.013690\n",
              "16           Ongoing medication    0.013605\n",
              "14                      Smoking    0.013186\n",
              "0                        Gender    0.013159\n",
              "20        Discomfort Eye-strain    0.012683\n",
              "9                Sleep disorder    0.010162\n",
              "13          Alcohol consumption    0.009312"
            ]
          },
          "execution_count": 95,
          "metadata": {},
          "output_type": "execute_result"
        }
      ],
      "source": [
        "feature_importance=pd.DataFrame({'feature':X.columns.to_list(),'importance':model2.feature_importances_}).sort_values(by='importance',ascending=False)\n",
        "feature_importance"
      ]
    },
    {
      "cell_type": "code",
      "execution_count": 24,
      "metadata": {
        "id": "G9jLxFFt29Ka"
      },
      "outputs": [],
      "source": [
        "del y_pred"
      ]
    },
    {
      "cell_type": "markdown",
      "metadata": {
        "id": "SFkuBZFR29Kb"
      },
      "source": [
        "#### Random Forest"
      ]
    },
    {
      "cell_type": "code",
      "execution_count": 25,
      "metadata": {
        "colab": {
          "base_uri": "https://localhost:8080/"
        },
        "id": "N4BKu_3I29Kb",
        "outputId": "9ec14683-af00-46b8-9b85-46aeec01e4f7"
      },
      "outputs": [
        {
          "name": "stdout",
          "output_type": "stream",
          "text": [
            "Accuracy: 0.698\n",
            "Classification Report:\n",
            "              precision    recall  f1-score   support\n",
            "\n",
            "           0       0.60      0.22      0.33      1307\n",
            "           1       0.71      0.93      0.81      2693\n",
            "\n",
            "    accuracy                           0.70      4000\n",
            "   macro avg       0.66      0.58      0.57      4000\n",
            "weighted avg       0.68      0.70      0.65      4000\n",
            "\n"
          ]
        }
      ],
      "source": [
        "model3=RandomForestClassifier()\n",
        "model3.fit(X_train_s,y_train)\n",
        "y_pred=model3.predict(X_test_s)\n",
        "print('Accuracy:',accuracy_score(y_test,y_pred))\n",
        "print('Classification Report:',classification_report(y_test,y_pred),sep='\\n')"
      ]
    },
    {
      "cell_type": "code",
      "execution_count": 26,
      "metadata": {
        "colab": {
          "base_uri": "https://localhost:8080/",
          "height": 481
        },
        "id": "fVUkQiIb29Kb",
        "outputId": "47d7b5f2-63a1-43bb-c1b6-3ec15f35b9e7"
      },
      "outputs": [
        {
          "data": {
            "image/png": "[encoded data removed]",
            "text/plain": [
              "<Figure size 640x480 with 2 Axes>"
            ]
          },
          "metadata": {},
          "output_type": "display_data"
        }
      ],
      "source": [
        "plot_confusion_matrix(y_test,y_pred,model3.classes_,'Matriz de confusión para el random forest')"
      ]
    },
    {
      "cell_type": "code",
      "execution_count": 96,
      "metadata": {},
      "outputs": [
        {
          "data": {
            "application/vnd.microsoft.datawrangler.viewer.v0+json": {
              "columns": [
                {
                  "name": "index",
                  "rawType": "int64",
                  "type": "integer"
                },
                {
                  "name": "feature",
                  "rawType": "object",
                  "type": "string"
                },
                {
                  "name": "importance",
                  "rawType": "float64",
                  "type": "float"
                }
              ],
              "conversionMethod": "pd.DataFrame",
              "ref": "ab1f3cf7-5e06-42fb-8933-fbfa7355e335",
              "rows": [
                [
                  "6",
                  "Physical activity",
                  "0.09852383219900668"
                ],
                [
                  "18",
                  "Average screen time",
                  "0.09594399344748446"
                ],
                [
                  "2",
                  "Sleep duration",
                  "0.09200736518392523"
                ],
                [
                  "8",
                  "Weight",
                  "0.09042657657473464"
                ],
                [
                  "7",
                  "Height",
                  "0.0901882916622671"
                ],
                [
                  "5",
                  "Heart rate",
                  "0.08651561209930295"
                ],
                [
                  "1",
                  "Age",
                  "0.0828040483199277"
                ],
                [
                  "4",
                  "Stress level",
                  "0.04272106833917158"
                ],
                [
                  "3",
                  "Sleep quality",
                  "0.04207351545932637"
                ],
                [
                  "21",
                  "Redness in eye",
                  "0.03179809948939187"
                ],
                [
                  "22",
                  "Itchiness/Irritation in eye",
                  "0.029639286877882892"
                ],
                [
                  "20",
                  "Discomfort Eye-strain",
                  "0.026962093420667962"
                ],
                [
                  "11",
                  "Feel sleepy during day",
                  "0.018050465897732397"
                ],
                [
                  "15",
                  "Medical issue",
                  "0.0179218671230278"
                ],
                [
                  "10",
                  "Wake up during night",
                  "0.017586638766796094"
                ],
                [
                  "9",
                  "Sleep disorder",
                  "0.01753726116796715"
                ],
                [
                  "14",
                  "Smoking",
                  "0.017490239361469626"
                ],
                [
                  "12",
                  "Caffeine consumption",
                  "0.01731600391289371"
                ],
                [
                  "13",
                  "Alcohol consumption",
                  "0.01709594932153521"
                ],
                [
                  "19",
                  "Blue-light filter",
                  "0.01700064142966673"
                ],
                [
                  "16",
                  "Ongoing medication",
                  "0.016934395258549777"
                ],
                [
                  "17",
                  "Smart device before bed",
                  "0.01678159758654341"
                ],
                [
                  "0",
                  "Gender",
                  "0.016681157100728636"
                ]
              ],
              "shape": {
                "columns": 2,
                "rows": 23
              }
            },
            "text/html": [
              "<div>\n",
              "<style scoped>\n",
              "    .dataframe tbody tr th:only-of-type {\n",
              "        vertical-align: middle;\n",
              "    }\n",
              "\n",
              "    .dataframe tbody tr th {\n",
              "        vertical-align: top;\n",
              "    }\n",
              "\n",
              "    .dataframe thead th {\n",
              "        text-align: right;\n",
              "    }\n",
              "</style>\n",
              "<table border=\"1\" class=\"dataframe\">\n",
              "  <thead>\n",
              "    <tr style=\"text-align: right;\">\n",
              "      <th></th>\n",
              "      <th>feature</th>\n",
              "      <th>importance</th>\n",
              "    </tr>\n",
              "  </thead>\n",
              "  <tbody>\n",
              "    <tr>\n",
              "      <th>6</th>\n",
              "      <td>Physical activity</td>\n",
              "      <td>0.098524</td>\n",
              "    </tr>\n",
              "    <tr>\n",
              "      <th>18</th>\n",
              "      <td>Average screen time</td>\n",
              "      <td>0.095944</td>\n",
              "    </tr>\n",
              "    <tr>\n",
              "      <th>2</th>\n",
              "      <td>Sleep duration</td>\n",
              "      <td>0.092007</td>\n",
              "    </tr>\n",
              "    <tr>\n",
              "      <th>8</th>\n",
              "      <td>Weight</td>\n",
              "      <td>0.090427</td>\n",
              "    </tr>\n",
              "    <tr>\n",
              "      <th>7</th>\n",
              "      <td>Height</td>\n",
              "      <td>0.090188</td>\n",
              "    </tr>\n",
              "    <tr>\n",
              "      <th>5</th>\n",
              "      <td>Heart rate</td>\n",
              "      <td>0.086516</td>\n",
              "    </tr>\n",
              "    <tr>\n",
              "      <th>1</th>\n",
              "      <td>Age</td>\n",
              "      <td>0.082804</td>\n",
              "    </tr>\n",
              "    <tr>\n",
              "      <th>4</th>\n",
              "      <td>Stress level</td>\n",
              "      <td>0.042721</td>\n",
              "    </tr>\n",
              "    <tr>\n",
              "      <th>3</th>\n",
              "      <td>Sleep quality</td>\n",
              "      <td>0.042074</td>\n",
              "    </tr>\n",
              "    <tr>\n",
              "      <th>21</th>\n",
              "      <td>Redness in eye</td>\n",
              "      <td>0.031798</td>\n",
              "    </tr>\n",
              "    <tr>\n",
              "      <th>22</th>\n",
              "      <td>Itchiness/Irritation in eye</td>\n",
              "      <td>0.029639</td>\n",
              "    </tr>\n",
              "    <tr>\n",
              "      <th>20</th>\n",
              "      <td>Discomfort Eye-strain</td>\n",
              "      <td>0.026962</td>\n",
              "    </tr>\n",
              "    <tr>\n",
              "      <th>11</th>\n",
              "      <td>Feel sleepy during day</td>\n",
              "      <td>0.018050</td>\n",
              "    </tr>\n",
              "    <tr>\n",
              "      <th>15</th>\n",
              "      <td>Medical issue</td>\n",
              "      <td>0.017922</td>\n",
              "    </tr>\n",
              "    <tr>\n",
              "      <th>10</th>\n",
              "      <td>Wake up during night</td>\n",
              "      <td>0.017587</td>\n",
              "    </tr>\n",
              "    <tr>\n",
              "      <th>9</th>\n",
              "      <td>Sleep disorder</td>\n",
              "      <td>0.017537</td>\n",
              "    </tr>\n",
              "    <tr>\n",
              "      <th>14</th>\n",
              "      <td>Smoking</td>\n",
              "      <td>0.017490</td>\n",
              "    </tr>\n",
              "    <tr>\n",
              "      <th>12</th>\n",
              "      <td>Caffeine consumption</td>\n",
              "      <td>0.017316</td>\n",
              "    </tr>\n",
              "    <tr>\n",
              "      <th>13</th>\n",
              "      <td>Alcohol consumption</td>\n",
              "      <td>0.017096</td>\n",
              "    </tr>\n",
              "    <tr>\n",
              "      <th>19</th>\n",
              "      <td>Blue-light filter</td>\n",
              "      <td>0.017001</td>\n",
              "    </tr>\n",
              "    <tr>\n",
              "      <th>16</th>\n",
              "      <td>Ongoing medication</td>\n",
              "      <td>0.016934</td>\n",
              "    </tr>\n",
              "    <tr>\n",
              "      <th>17</th>\n",
              "      <td>Smart device before bed</td>\n",
              "      <td>0.016782</td>\n",
              "    </tr>\n",
              "    <tr>\n",
              "      <th>0</th>\n",
              "      <td>Gender</td>\n",
              "      <td>0.016681</td>\n",
              "    </tr>\n",
              "  </tbody>\n",
              "</table>\n",
              "</div>"
            ],
            "text/plain": [
              "                        feature  importance\n",
              "6             Physical activity    0.098524\n",
              "18          Average screen time    0.095944\n",
              "2                Sleep duration    0.092007\n",
              "8                        Weight    0.090427\n",
              "7                        Height    0.090188\n",
              "5                    Heart rate    0.086516\n",
              "1                           Age    0.082804\n",
              "4                  Stress level    0.042721\n",
              "3                 Sleep quality    0.042074\n",
              "21               Redness in eye    0.031798\n",
              "22  Itchiness/Irritation in eye    0.029639\n",
              "20        Discomfort Eye-strain    0.026962\n",
              "11       Feel sleepy during day    0.018050\n",
              "15                Medical issue    0.017922\n",
              "10         Wake up during night    0.017587\n",
              "9                Sleep disorder    0.017537\n",
              "14                      Smoking    0.017490\n",
              "12         Caffeine consumption    0.017316\n",
              "13          Alcohol consumption    0.017096\n",
              "19            Blue-light filter    0.017001\n",
              "16           Ongoing medication    0.016934\n",
              "17      Smart device before bed    0.016782\n",
              "0                        Gender    0.016681"
            ]
          },
          "execution_count": 96,
          "metadata": {},
          "output_type": "execute_result"
        }
      ],
      "source": [
        "importances = model3.feature_importances_\n",
        "features = X_train.columns\n",
        "importance_df = pd.DataFrame({\n",
        "    'feature': features,\n",
        "    'importance': importances\n",
        "}).sort_values(by='importance', ascending=False)\n",
        "\n",
        "importance_df"
      ]
    },
    {
      "cell_type": "code",
      "execution_count": 27,
      "metadata": {
        "id": "x1L8HAJI29Kc"
      },
      "outputs": [],
      "source": [
        "del y_pred"
      ]
    },
    {
      "cell_type": "markdown",
      "metadata": {
        "id": "nUq5yVtt29Kc"
      },
      "source": [
        "#### Support Vector Machine"
      ]
    },
    {
      "cell_type": "code",
      "execution_count": 28,
      "metadata": {
        "colab": {
          "base_uri": "https://localhost:8080/"
        },
        "id": "BOjLpJNd29Kc",
        "outputId": "34db663e-1b3a-4b36-f325-745a064f4732"
      },
      "outputs": [
        {
          "name": "stdout",
          "output_type": "stream",
          "text": [
            "Accuracy: 0.70175\n",
            "Classification Report:\n",
            "              precision    recall  f1-score   support\n",
            "\n",
            "           0       0.62      0.22      0.33      1307\n",
            "           1       0.71      0.93      0.81      2693\n",
            "\n",
            "    accuracy                           0.70      4000\n",
            "   macro avg       0.67      0.58      0.57      4000\n",
            "weighted avg       0.68      0.70      0.65      4000\n",
            "\n"
          ]
        }
      ],
      "source": [
        "model4=SVC()\n",
        "model4.fit(X_train_s,y_train)\n",
        "y_pred=model4.predict(X_test_s)\n",
        "print('Accuracy:',accuracy_score(y_test,y_pred))\n",
        "print('Classification Report:',classification_report(y_test,y_pred),sep='\\n')"
      ]
    },
    {
      "cell_type": "code",
      "execution_count": 29,
      "metadata": {
        "colab": {
          "base_uri": "https://localhost:8080/",
          "height": 481
        },
        "id": "pNphXyvP29Kd",
        "outputId": "baa7b655-5cd1-4757-9e36-c7ad95d364ea"
      },
      "outputs": [
        {
          "data": {
            "image/png": "[encoded data removed]",
            "text/plain": [
              "<Figure size 640x480 with 2 Axes>"
            ]
          },
          "metadata": {},
          "output_type": "display_data"
        }
      ],
      "source": [
        "plot_confusion_matrix(y_test,y_pred,model4.classes_,'Matriz de confusión para el SVC')"
      ]
    },
    {
      "cell_type": "markdown",
      "metadata": {
        "id": "CBZLNQim29Kd"
      },
      "source": [
        "### Curvas de aprendizaje"
      ]
    },
    {
      "cell_type": "markdown",
      "metadata": {
        "id": "C1gB-RcA29Kd"
      },
      "source": [
        "#### Curva de aprendizaje para el modelo de Desicion Tree\n",
        "Parametro : ```max_depth```"
      ]
    },
    {
      "cell_type": "code",
      "execution_count": 30,
      "metadata": {
        "colab": {
          "base_uri": "https://localhost:8080/",
          "height": 480
        },
        "id": "lcOFhwda29Kd",
        "outputId": "9bdf95b6-7631-413a-b67a-9870326e36f5"
      },
      "outputs": [
        {
          "data": {
            "image/png": "[encoded data removed]",
            "text/plain": [
              "<Figure size 640x480 with 1 Axes>"
            ]
          },
          "metadata": {},
          "output_type": "display_data"
        }
      ],
      "source": [
        "max_depth = [2, 10, 15, 20, 25, 30, 40, 50]\n",
        "test_accuracy, cv_mean, cv_std = [], [], []\n",
        "\n",
        "for depth in max_depth:\n",
        "    model = DecisionTreeClassifier(max_depth=depth)\n",
        "    model.fit(X_train,y_train)\n",
        "    y_pred = model.predict(X_test)\n",
        "    test_accuracy.append(accuracy_score(y_test,y_pred))\n",
        "    del y_pred\n",
        "\n",
        "plt.plot(max_depth, test_accuracy, marker='o', color='royalblue',label='Test Accuracy')\n",
        "\n",
        "plt.title('Accuracy vs Max Depth en Decision Tree')\n",
        "plt.xlabel('Max Depth')\n",
        "plt.ylabel('Accuracy')\n",
        "plt.legend()\n",
        "plt.show()"
      ]
    },
    {
      "cell_type": "markdown",
      "metadata": {
        "id": "YU5DSvqJ3EL4"
      },
      "source": [
        "#### Curva de aprendizaje para el modelo de Random Forest\n",
        "Parametro : ```n_estimators```"
      ]
    },
    {
      "cell_type": "code",
      "execution_count": 31,
      "metadata": {
        "colab": {
          "base_uri": "https://localhost:8080/",
          "height": 480
        },
        "id": "lU3x2NDk3D7r",
        "outputId": "a3cb657d-0431-4d81-ff83-82ccf46e4276"
      },
      "outputs": [
        {
          "data": {
            "image/png": "[encoded data removed]",
            "text/plain": [
              "<Figure size 640x480 with 1 Axes>"
            ]
          },
          "metadata": {},
          "output_type": "display_data"
        }
      ],
      "source": [
        "n_estimators = [2, 10, 15, 20, 25, 30, 40, 50]\n",
        "test_accuracy, cv_mean, cv_std = [], [], []\n",
        "\n",
        "for n in n_estimators:\n",
        "    model = RandomForestClassifier(n_estimators=n)\n",
        "    model.fit(X_train_s, y_train)\n",
        "    y_pred = model.predict(X_test_s)\n",
        "    test_accuracy.append(accuracy_score(y_test, y_pred))\n",
        "    del y_pred\n",
        "\n",
        "plt.plot(n_estimators, test_accuracy, marker='o', color='royalblue', label='Test Accuracy')\n",
        "\n",
        "plt.title('Accuracy vs n_estimators en Random Forest')\n",
        "plt.xlabel('n_estimators')\n",
        "plt.ylabel('Accuracy')\n",
        "plt.legend()\n",
        "plt.show()"
      ]
    },
    {
      "cell_type": "markdown",
      "metadata": {
        "id": "xJCCabdz3Ed3"
      },
      "source": [
        "#### Curva de aprendizaje para el modelo de Support Vectorial Machine\n",
        "Parametro : ```kernels```"
      ]
    },
    {
      "cell_type": "code",
      "execution_count": 32,
      "metadata": {
        "colab": {
          "base_uri": "https://localhost:8080/",
          "height": 480
        },
        "id": "G8PimwBo29Kd",
        "outputId": "a9c5c31b-c314-450a-fa36-345af0053910"
      },
      "outputs": [
        {
          "data": {
            "image/png": "[encoded data removed]",
            "text/plain": [
              "<Figure size 640x480 with 1 Axes>"
            ]
          },
          "metadata": {},
          "output_type": "display_data"
        }
      ],
      "source": [
        "kernels=['linear','poly','rbf']\n",
        "accuracy_scores=[]\n",
        "for k in kernels:\n",
        "  temp_model=SVC(kernel=k)\n",
        "  temp_model.fit(X_train_s,y_train)\n",
        "  y_pred=temp_model.predict(X_test_s)\n",
        "  accuracy_scores.append(accuracy_score(y_test,y_pred))\n",
        "  del y_pred\n",
        "\n",
        "plt.bar(kernels,accuracy_scores,color='royalblue')\n",
        "plt.title('Accuracy vs Kernels in SVC')\n",
        "plt.xlabel('Kernels')\n",
        "plt.ylabel('Accuracy')\n",
        "plt.show()"
      ]
    },
    {
      "cell_type": "markdown",
      "metadata": {},
      "source": [
        "### Curva de aprendizaje para la validación cruzada para el desicion tree"
      ]
    },
    {
      "cell_type": "code",
      "execution_count": 35,
      "metadata": {},
      "outputs": [
        {
          "data": {
            "image/png": "[encoded data removed]",
            "text/plain": [
              "<Figure size 640x480 with 1 Axes>"
            ]
          },
          "metadata": {},
          "output_type": "display_data"
        }
      ],
      "source": [
        "from sklearn.model_selection import KFold\n",
        "means,std=[],[]\n",
        "n_folds_range=range(2,11)\n",
        "for n_folds in n_folds_range:\n",
        "    model_temp=DecisionTreeClassifier()\n",
        "    score=cross_val_score(model_temp,X,y,cv=KFold(n_folds,shuffle=True,random_state=42),scoring='accuracy')\n",
        "    means.append(score.mean())\n",
        "    std.append(score.std())\n",
        "\n",
        "means=np.r_[means]\n",
        "stds=np.r_[std]\n",
        "plt.plot(n_folds_range,means,marker='o',color='royalblue',label='Mean')\n",
        "plt.fill_between(n_folds_range,means-stds,means+stds,alpha=0.3,color='#ff5a6b',label='Std')\n",
        "plt.title('Accuracy vs n_folds in Decision Tree')\n",
        "plt.xlabel('n_folds')\n",
        "plt.ylabel('Performance - Accuracy')\n",
        "plt.legend()\n",
        "plt.show()"
      ]
    }
  ],
  "metadata": {
    "colab": {
      "provenance": []
    },
    "kernelspec": {
      "display_name": "Python 3",
      "language": "python",
      "name": "python3"
    },
    "language_info": {
      "codemirror_mode": {
        "name": "ipython",
        "version": 3
      },
      "file_extension": ".py",
      "mimetype": "text/x-python",
      "name": "python",
      "nbconvert_exporter": "python",
      "pygments_lexer": "ipython3",
      "version": "3.12.6"
    }
  },
  "nbformat": 4,
  "nbformat_minor": 0
}
